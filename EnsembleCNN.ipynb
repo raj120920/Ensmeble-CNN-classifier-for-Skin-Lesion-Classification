{
  "nbformat": 4,
  "nbformat_minor": 0,
  "metadata": {
    "colab": {
      "provenance": []
    },
    "kernelspec": {
      "name": "python3",
      "display_name": "Python 3"
    },
    "language_info": {
      "name": "python"
    }
  },
  "cells": [
    {
      "cell_type": "code",
      "execution_count": null,
      "metadata": {
        "id": "hsIIwIVjYSqr"
      },
      "outputs": [],
      "source": [
        "import os\n",
        "\n",
        "import pandas as pd\n",
        "import numpy as np\n",
        "from sklearn.model_selection import train_test_split\n",
        "from keras.utils.np_utils import to_categorical # convert to one-hot-encoding\n",
        "from keras.preprocessing.image import ImageDataGenerator\n",
        "from keras import layers\n",
        "from keras import Model\n",
        "from keras.applications.inception_v3 import InceptionV3, preprocess_input\n",
        "from tensorflow.keras.optimizers import Adam\n",
        "from keras.callbacks import ReduceLROnPlateau, EarlyStopping\n",
        "\n",
        "import seaborn as sns\n",
        "import matplotlib.pyplot as plt\n"
      ]
    },
    {
      "cell_type": "code",
      "source": [
        "from numpy.random import seed\n",
        "seed(1)"
      ],
      "metadata": {
        "id": "0wLUl7m1nCjc"
      },
      "execution_count": null,
      "outputs": []
    },
    {
      "cell_type": "code",
      "source": [
        "from google.colab import drive\n",
        "drive.mount('/content/gdrive')"
      ],
      "metadata": {
        "colab": {
          "base_uri": "https://localhost:8080/"
        },
        "id": "R6uvy9xoYaQF",
        "outputId": "b13fde09-33d7-446e-88c0-b0c5229416d3"
      },
      "execution_count": null,
      "outputs": [
        {
          "output_type": "stream",
          "name": "stdout",
          "text": [
            "Mounted at /content/gdrive\n"
          ]
        }
      ]
    },
    {
      "cell_type": "code",
      "source": [
        "data_path = \"/content/gdrive/MyDrive/dermamnist.npz\"\n",
        "data = np.load(data_path)\n",
        "X_train = data['train_images']\n",
        "y_train = data['train_labels']\n",
        "X_val = data['val_images']\n",
        "y_val = data['val_labels']\n",
        "X_test = data['test_images']\n",
        "y_test = data['test_labels']"
      ],
      "metadata": {
        "id": "cvL5XcpgYkC7"
      },
      "execution_count": null,
      "outputs": []
    },
    {
      "cell_type": "code",
      "source": [
        "data = np.load(data_path)"
      ],
      "metadata": {
        "id": "PVT4vnMwYtKK"
      },
      "execution_count": null,
      "outputs": []
    },
    {
      "cell_type": "code",
      "source": [
        "X_train = data['train_images']\n",
        "y_train = data['train_labels']\n",
        "X_val = data['val_images']\n",
        "y_val = data['val_labels']\n",
        "X_test = data['test_images']\n",
        "y_test = data['test_labels']"
      ],
      "metadata": {
        "id": "lxh35uJgYxac"
      },
      "execution_count": null,
      "outputs": []
    },
    {
      "cell_type": "code",
      "source": [
        "print(\"x_train shape:\", X_train.shape, \"y_train shape:\", y_train.shape)"
      ],
      "metadata": {
        "colab": {
          "base_uri": "https://localhost:8080/"
        },
        "id": "NNSUVJHBY9zS",
        "outputId": "5ccf955f-845d-4c0c-ed1c-50e53d9009c8"
      },
      "execution_count": null,
      "outputs": [
        {
          "output_type": "stream",
          "name": "stdout",
          "text": [
            "x_train shape: (7007, 28, 28, 3) y_train shape: (7007, 1)\n"
          ]
        }
      ]
    },
    {
      "cell_type": "code",
      "source": [
        "#Data Pre-processing\n",
        "\n",
        "#Data Normalization\n",
        "x_train = X_train.astype('float32') / 255\n",
        "x_val = X_val.astype('float32') / 255\n",
        "x_test = X_test.astype('float32') / 255\n",
        "\n",
        "# Reshape the images\n",
        "import tensorflow as tf\n",
        "w, h = 28, 28\n",
        "x_train = x_train.reshape(x_train.shape[0], w, h, 3)\n",
        "x_valid = x_val.reshape(x_val.shape[0], w, h, 3)\n",
        "x_test = x_test.reshape(x_test.shape[0], w, h, 3)\n",
        "\n",
        "# One-hot encode the labels\n",
        "y_train = tf.keras.utils.to_categorical(y_train, 7)\n",
        "y_valid = tf.keras.utils.to_categorical(y_val, 7)\n",
        "y_test = tf.keras.utils.to_categorical(y_test, 7)"
      ],
      "metadata": {
        "id": "tnVoGVNCZPW6"
      },
      "execution_count": null,
      "outputs": []
    },
    {
      "cell_type": "code",
      "source": [
        "x_train.shape"
      ],
      "metadata": {
        "colab": {
          "base_uri": "https://localhost:8080/"
        },
        "id": "l80Jf7rWBhTH",
        "outputId": "b84b66ac-ccfb-4d6f-e941-8623a29290b9"
      },
      "execution_count": null,
      "outputs": [
        {
          "output_type": "execute_result",
          "data": {
            "text/plain": [
              "(7007, 28, 28, 3)"
            ]
          },
          "metadata": {},
          "execution_count": 10
        }
      ]
    },
    {
      "cell_type": "code",
      "source": [
        "import tensorflow as tf\n",
        "w, h = 28, 28\n",
        "x_train = x_train.reshape(x_train.shape[0], w, h, 3)\n",
        "x_valid = x_val.reshape(x_val.shape[0], w, h, 3)\n",
        "x_test = x_test.reshape(x_test.shape[0], w, h, 3)\n",
        "\n",
        "# One-hot encode the labels\n",
        "y_train = tf.keras.utils.to_categorical(y_train, 7)\n",
        "y_valid = tf.keras.utils.to_categorical(y_val, 7)\n",
        "y_test = tf.keras.utils.to_categorical(y_test, 7)"
      ],
      "metadata": {
        "id": "wzpKAnrKZWUL"
      },
      "execution_count": null,
      "outputs": []
    },
    {
      "cell_type": "code",
      "source": [
        "print(\"x_train shape:\", x_train.shape, \"y_train shape:\", y_train.shape)\n",
        "\n",
        "# Print the number of training, validation, and test datasets\n",
        "print(x_train.shape[0], 'train set')\n",
        "print(x_valid.shape[0], 'validation set')\n",
        "print(x_test.shape[0], 'test set')"
      ],
      "metadata": {
        "colab": {
          "base_uri": "https://localhost:8080/"
        },
        "id": "BLZLEKRLZw-K",
        "outputId": "1b5c0630-dff7-43c2-8d6f-feff2b56e7e2"
      },
      "execution_count": null,
      "outputs": [
        {
          "output_type": "stream",
          "name": "stdout",
          "text": [
            "x_train shape: (7007, 28, 28, 3) y_train shape: (7007, 7)\n",
            "7007 train set\n",
            "1003 validation set\n",
            "2005 test set\n"
          ]
        }
      ]
    },
    {
      "cell_type": "code",
      "source": [
        "# CNN Model 1"
      ],
      "metadata": {
        "id": "ti3yrZXioikH"
      },
      "execution_count": null,
      "outputs": []
    },
    {
      "cell_type": "code",
      "source": [
        "model1 = tf.keras.Sequential()\n",
        "\n",
        "# Must define the input shape in the first layer of the neural network\n",
        "model1.add(tf.keras.layers.Conv2D(filters=64, kernel_size=2, padding='same', activation='relu', input_shape=(28,28,3))) \n",
        "model1.add(tf.keras.layers.MaxPooling2D(pool_size=2))\n",
        "model1.add(tf.keras.layers.Dropout(0.3))\n",
        "\n",
        "model1.add(tf.keras.layers.Conv2D(filters=64, kernel_size=2, padding='same', activation='relu'))\n",
        "model1.add(tf.keras.layers.MaxPooling2D(pool_size=2))\n",
        "model1.add(tf.keras.layers.Dropout(0.3))\n",
        "\n",
        "model1.add(tf.keras.layers.Flatten())\n",
        "model1.add(tf.keras.layers.Dense(256, activation='relu'))\n",
        "model1.add(tf.keras.layers.Dropout(0.5))\n",
        "model1.add(tf.keras.layers.Dense(7, activation='softmax'))\n"
      ],
      "metadata": {
        "id": "OXXflwcAZ1Q1"
      },
      "execution_count": null,
      "outputs": []
    },
    {
      "cell_type": "code",
      "source": [
        "model1.summary()\n",
        "model1.compile(loss='categorical_crossentropy',\n",
        "             optimizer='adam',\n",
        "             metrics=['accuracy'])\n",
        "from keras.callbacks import ModelCheckpoint"
      ],
      "metadata": {
        "colab": {
          "base_uri": "https://localhost:8080/"
        },
        "id": "pWhc_4vMaFa8",
        "outputId": "46fa65d1-492d-4eaf-b1d8-b7f71af1b5f7"
      },
      "execution_count": null,
      "outputs": [
        {
          "output_type": "stream",
          "name": "stdout",
          "text": [
            "Model: \"sequential\"\n",
            "_________________________________________________________________\n",
            " Layer (type)                Output Shape              Param #   \n",
            "=================================================================\n",
            " conv2d (Conv2D)             (None, 28, 28, 64)        832       \n",
            "                                                                 \n",
            " max_pooling2d (MaxPooling2D  (None, 14, 14, 64)       0         \n",
            " )                                                               \n",
            "                                                                 \n",
            " dropout (Dropout)           (None, 14, 14, 64)        0         \n",
            "                                                                 \n",
            " conv2d_1 (Conv2D)           (None, 14, 14, 64)        16448     \n",
            "                                                                 \n",
            " max_pooling2d_1 (MaxPooling  (None, 7, 7, 64)         0         \n",
            " 2D)                                                             \n",
            "                                                                 \n",
            " dropout_1 (Dropout)         (None, 7, 7, 64)          0         \n",
            "                                                                 \n",
            " flatten (Flatten)           (None, 3136)              0         \n",
            "                                                                 \n",
            " dense (Dense)               (None, 256)               803072    \n",
            "                                                                 \n",
            " dropout_2 (Dropout)         (None, 256)               0         \n",
            "                                                                 \n",
            " dense_1 (Dense)             (None, 7)                 1799      \n",
            "                                                                 \n",
            "=================================================================\n",
            "Total params: 822,151\n",
            "Trainable params: 822,151\n",
            "Non-trainable params: 0\n",
            "_________________________________________________________________\n"
          ]
        }
      ]
    },
    {
      "cell_type": "code",
      "source": [
        "checkpointer = ModelCheckpoint(filepath='basemodel.weights.best.hdf5', verbose = 1, save_best_only=True)\n",
        "history1 = model1.fit(x_train,\n",
        "         y_train,\n",
        "         batch_size=64,\n",
        "         epochs=10,\n",
        "         validation_data=(x_valid, y_valid),\n",
        "         callbacks=[checkpointer])"
      ],
      "metadata": {
        "colab": {
          "base_uri": "https://localhost:8080/"
        },
        "id": "b_3Lkz25aHD-",
        "outputId": "9ae1fcba-ac00-4c53-ed46-74d5b87dadb4"
      },
      "execution_count": null,
      "outputs": [
        {
          "output_type": "stream",
          "name": "stdout",
          "text": [
            "Epoch 1/10\n",
            "110/110 [==============================] - ETA: 0s - loss: 1.0646 - accuracy: 0.6652\n",
            "Epoch 1: val_loss improved from inf to 1.17148, saving model to basemodel.weights.best.hdf5\n",
            "110/110 [==============================] - 13s 109ms/step - loss: 1.0646 - accuracy: 0.6652 - val_loss: 1.1715 - val_accuracy: 0.6361\n",
            "Epoch 2/10\n",
            "110/110 [==============================] - ETA: 0s - loss: 0.9594 - accuracy: 0.6693\n",
            "Epoch 2: val_loss improved from 1.17148 to 0.95404, saving model to basemodel.weights.best.hdf5\n",
            "110/110 [==============================] - 12s 109ms/step - loss: 0.9594 - accuracy: 0.6693 - val_loss: 0.9540 - val_accuracy: 0.6750\n",
            "Epoch 3/10\n",
            "110/110 [==============================] - ETA: 0s - loss: 0.9168 - accuracy: 0.6769\n",
            "Epoch 3: val_loss improved from 0.95404 to 0.94248, saving model to basemodel.weights.best.hdf5\n",
            "110/110 [==============================] - 16s 144ms/step - loss: 0.9168 - accuracy: 0.6769 - val_loss: 0.9425 - val_accuracy: 0.6750\n",
            "Epoch 4/10\n",
            "110/110 [==============================] - ETA: 0s - loss: 0.8823 - accuracy: 0.6846\n",
            "Epoch 4: val_loss improved from 0.94248 to 0.86982, saving model to basemodel.weights.best.hdf5\n",
            "110/110 [==============================] - 12s 106ms/step - loss: 0.8823 - accuracy: 0.6846 - val_loss: 0.8698 - val_accuracy: 0.6929\n",
            "Epoch 5/10\n",
            "110/110 [==============================] - ETA: 0s - loss: 0.8453 - accuracy: 0.6952\n",
            "Epoch 5: val_loss improved from 0.86982 to 0.81892, saving model to basemodel.weights.best.hdf5\n",
            "110/110 [==============================] - 12s 105ms/step - loss: 0.8453 - accuracy: 0.6952 - val_loss: 0.8189 - val_accuracy: 0.6820\n",
            "Epoch 6/10\n",
            "110/110 [==============================] - ETA: 0s - loss: 0.8329 - accuracy: 0.6926\n",
            "Epoch 6: val_loss improved from 0.81892 to 0.80754, saving model to basemodel.weights.best.hdf5\n",
            "110/110 [==============================] - 12s 106ms/step - loss: 0.8329 - accuracy: 0.6926 - val_loss: 0.8075 - val_accuracy: 0.6959\n",
            "Epoch 7/10\n",
            "110/110 [==============================] - ETA: 0s - loss: 0.8178 - accuracy: 0.6977\n",
            "Epoch 7: val_loss improved from 0.80754 to 0.78013, saving model to basemodel.weights.best.hdf5\n",
            "110/110 [==============================] - 12s 106ms/step - loss: 0.8178 - accuracy: 0.6977 - val_loss: 0.7801 - val_accuracy: 0.7049\n",
            "Epoch 8/10\n",
            "110/110 [==============================] - ETA: 0s - loss: 0.7921 - accuracy: 0.7077\n",
            "Epoch 8: val_loss did not improve from 0.78013\n",
            "110/110 [==============================] - 12s 105ms/step - loss: 0.7921 - accuracy: 0.7077 - val_loss: 0.8203 - val_accuracy: 0.7188\n",
            "Epoch 9/10\n",
            "110/110 [==============================] - ETA: 0s - loss: 0.7898 - accuracy: 0.7046\n",
            "Epoch 9: val_loss did not improve from 0.78013\n",
            "110/110 [==============================] - 12s 105ms/step - loss: 0.7898 - accuracy: 0.7046 - val_loss: 0.7808 - val_accuracy: 0.7029\n",
            "Epoch 10/10\n",
            "110/110 [==============================] - ETA: 0s - loss: 0.7627 - accuracy: 0.7123\n",
            "Epoch 10: val_loss improved from 0.78013 to 0.75482, saving model to basemodel.weights.best.hdf5\n",
            "110/110 [==============================] - 11s 105ms/step - loss: 0.7627 - accuracy: 0.7123 - val_loss: 0.7548 - val_accuracy: 0.7149\n"
          ]
        }
      ]
    },
    {
      "cell_type": "code",
      "source": [
        "import pandas as pd\n",
        "import matplotlib.pyplot as plt\n",
        "pd.DataFrame(history1.history).plot(figsize=(8, 5))\n",
        "plt.grid(True)\n",
        "plt.gca().set_ylim(0, 1)\n",
        "plt.show()"
      ],
      "metadata": {
        "colab": {
          "base_uri": "https://localhost:8080/",
          "height": 324
        },
        "id": "UB7yXO5bqEym",
        "outputId": "44428b38-b33d-4922-fdcb-410b28a7ae9f"
      },
      "execution_count": null,
      "outputs": [
        {
          "output_type": "display_data",
          "data": {
            "text/plain": [
              "<Figure size 576x360 with 1 Axes>"
            ],
            "image/png": "[encoded data removed]"
          },
          "metadata": {
            "needs_background": "light"
          }
        }
      ]
    },
    {
      "cell_type": "code",
      "source": [
        "prediction = model1.predict(x_test)"
      ],
      "metadata": {
        "id": "hsMkxSW1ezRc"
      },
      "execution_count": null,
      "outputs": []
    },
    {
      "cell_type": "code",
      "source": [
        "pred_1 = np.zeros_like(prediction)\n",
        "pred_1[np.arange(len(prediction)), prediction.argmax(1)] = 1"
      ],
      "metadata": {
        "id": "3k-0ocUbfGEu"
      },
      "execution_count": null,
      "outputs": []
    },
    {
      "cell_type": "code",
      "source": [
        "p1 = [np.argmax(p, axis=None, out=None) for p in pred_1]"
      ],
      "metadata": {
        "id": "ViiosSknImVk"
      },
      "execution_count": null,
      "outputs": []
    },
    {
      "cell_type": "code",
      "source": [
        "yt = []\n",
        "for y in y_test_og:\n",
        "  yt.append(y[0])\n"
      ],
      "metadata": {
        "colab": {
          "base_uri": "https://localhost:8080/"
        },
        "id": "81TP8QENJOK0",
        "outputId": "12306a04-6d52-41a8-d189-38941d979ddf"
      },
      "execution_count": null,
      "outputs": [
        {
          "output_type": "stream",
          "name": "stdout",
          "text": [
            "[5, 3, 4, 0, 5, 5, 5, 4, 5, 2, 1, 5, 4, 5, 5, 4, 4, 2, 5, 2, 5, 5, 5, 5, 5, 5, 5, 5, 5, 2, 5, 5, 4, 5, 2, 2, 2, 5, 2, 1, 5, 5, 5, 5, 5, 1, 5, 5, 5, 5, 5, 5, 5, 5, 5, 2, 3, 2, 5, 5, 5, 5, 0, 5, 5, 5, 4, 5, 4, 5, 5, 5, 1, 3, 4, 5, 5, 4, 5, 5, 5, 5, 5, 5, 5, 5, 4, 5, 5, 5, 5, 5, 1, 5, 5, 5, 4, 5, 5, 5, 4, 5, 5, 5, 5, 2, 5, 5, 5, 5, 5, 3, 5, 5, 1, 5, 5, 5, 2, 5, 4, 5, 5, 5, 5, 4, 5, 2, 4, 5, 4, 2, 1, 5, 5, 5, 5, 4, 5, 2, 4, 5, 5, 2, 5, 2, 5, 5, 5, 5, 5, 5, 5, 5, 4, 5, 5, 5, 4, 2, 5, 1, 5, 2, 5, 2, 5, 5, 0, 1, 4, 5, 5, 5, 5, 6, 5, 4, 2, 1, 5, 5, 2, 5, 5, 5, 5, 2, 2, 0, 5, 4, 2, 5, 4, 5, 5, 5, 5, 0, 5, 5, 5, 5, 2, 5, 5, 5, 5, 4, 4, 5, 5, 5, 1, 0, 5, 5, 6, 5, 5, 2, 2, 5, 5, 5, 5, 5, 5, 5, 5, 5, 5, 5, 4, 2, 5, 4, 5, 5, 5, 5, 4, 5, 0, 5, 5, 5, 4, 1, 5, 2, 5, 5, 5, 4, 5, 5, 5, 2, 5, 1, 4, 2, 5, 5, 4, 5, 5, 0, 5, 5, 5, 1, 5, 5, 4, 5, 5, 5, 5, 5, 5, 5, 5, 4, 6, 5, 4, 5, 4, 5, 5, 1, 2, 5, 2, 0, 5, 5, 2, 5, 1, 5, 2, 5, 5, 5, 5, 5, 4, 5, 0, 5, 5, 1, 2, 5, 5, 5, 5, 4, 5, 2, 5, 4, 5, 5, 2, 2, 5, 5, 5, 1, 5, 1, 5, 5, 5, 5, 2, 4, 5, 5, 0, 2, 6, 5, 5, 4, 5, 2, 2, 5, 5, 5, 0, 5, 5, 5, 4, 5, 1, 5, 5, 5, 5, 5, 6, 4, 1, 4, 4, 5, 5, 5, 1, 5, 5, 5, 5, 6, 5, 5, 5, 5, 5, 5, 2, 1, 4, 5, 5, 5, 5, 5, 5, 5, 5, 1, 5, 5, 4, 5, 5, 1, 5, 2, 0, 5, 5, 1, 5, 5, 5, 5, 2, 5, 1, 5, 5, 5, 4, 2, 5, 5, 5, 5, 2, 5, 4, 5, 5, 5, 5, 3, 1, 5, 5, 1, 5, 5, 5, 2, 5, 5, 5, 5, 5, 6, 5, 3, 1, 1, 5, 5, 5, 2, 5, 5, 5, 4, 5, 5, 2, 5, 5, 5, 5, 5, 6, 5, 5, 4, 5, 5, 2, 5, 5, 5, 2, 5, 5, 5, 5, 5, 5, 2, 5, 1, 5, 5, 5, 4, 5, 4, 5, 5, 5, 5, 5, 5, 5, 5, 5, 5, 5, 5, 5, 1, 5, 5, 4, 5, 5, 5, 5, 5, 5, 5, 5, 5, 0, 5, 5, 5, 2, 3, 5, 5, 5, 2, 2, 5, 5, 2, 2, 2, 5, 0, 5, 1, 2, 2, 1, 5, 5, 5, 5, 5, 4, 5, 5, 2, 5, 5, 1, 5, 5, 5, 5, 5, 2, 2, 5, 5, 1, 1, 5, 2, 5, 5, 5, 2, 5, 5, 5, 5, 1, 5, 5, 5, 5, 2, 5, 5, 0, 5, 5, 5, 4, 5, 5, 5, 5, 4, 5, 5, 4, 4, 3, 2, 4, 5, 4, 2, 5, 2, 5, 4, 2, 4, 5, 1, 5, 5, 2, 5, 5, 4, 5, 5, 5, 5, 5, 5, 2, 5, 5, 5, 5, 6, 5, 5, 5, 5, 5, 5, 5, 1, 0, 2, 5, 5, 5, 1, 5, 5, 5, 5, 5, 1, 2, 3, 1, 5, 5, 5, 5, 5, 5, 1, 5, 5, 4, 5, 5, 5, 5, 5, 5, 5, 5, 5, 4, 0, 5, 5, 4, 5, 5, 2, 5, 5, 0, 5, 1, 5, 1, 5, 2, 5, 4, 5, 0, 5, 5, 5, 5, 5, 5, 5, 0, 0, 5, 5, 5, 6, 5, 5, 3, 0, 5, 5, 5, 5, 5, 5, 5, 5, 5, 5, 5, 5, 4, 5, 5, 5, 5, 5, 5, 5, 5, 4, 5, 2, 1, 5, 5, 0, 5, 5, 4, 5, 5, 2, 4, 1, 5, 5, 5, 4, 5, 5, 5, 1, 2, 6, 3, 5, 2, 4, 2, 5, 5, 1, 5, 5, 5, 5, 5, 4, 5, 5, 4, 5, 5, 2, 5, 5, 5, 5, 5, 0, 5, 5, 5, 5, 5, 2, 5, 5, 1, 5, 5, 5, 5, 6, 0, 5, 2, 4, 4, 5, 5, 4, 6, 2, 5, 5, 5, 5, 5, 5, 4, 5, 5, 2, 5, 4, 3, 5, 5, 5, 5, 5, 4, 5, 3, 5, 5, 5, 1, 2, 5, 5, 5, 5, 5, 5, 2, 5, 5, 5, 2, 4, 4, 5, 5, 4, 5, 5, 5, 2, 5, 5, 5, 5, 5, 5, 5, 2, 5, 5, 5, 5, 5, 5, 5, 2, 1, 5, 4, 5, 5, 3, 5, 0, 4, 5, 0, 2, 5, 5, 1, 5, 5, 4, 5, 5, 5, 5, 5, 5, 5, 3, 5, 5, 5, 5, 5, 2, 2, 5, 0, 1, 4, 4, 2, 5, 5, 2, 5, 5, 0, 5, 5, 2, 5, 5, 5, 4, 5, 5, 5, 2, 5, 5, 5, 2, 4, 5, 5, 4, 5, 5, 4, 5, 5, 5, 5, 5, 5, 2, 4, 5, 5, 5, 2, 1, 5, 5, 5, 4, 2, 5, 5, 4, 2, 4, 5, 5, 5, 5, 5, 5, 5, 4, 4, 4, 5, 1, 2, 2, 1, 5, 5, 5, 2, 5, 5, 5, 5, 5, 1, 5, 4, 5, 5, 5, 5, 5, 5, 5, 5, 5, 5, 5, 5, 5, 5, 5, 2, 4, 5, 5, 5, 5, 0, 5, 5, 5, 5, 5, 5, 5, 5, 5, 5, 5, 5, 6, 4, 5, 5, 5, 5, 5, 4, 5, 3, 5, 5, 3, 1, 5, 5, 5, 5, 5, 5, 5, 5, 5, 4, 5, 5, 5, 2, 5, 2, 2, 2, 5, 2, 5, 2, 4, 4, 4, 5, 2, 5, 5, 5, 5, 5, 2, 5, 6, 5, 5, 4, 5, 4, 5, 5, 5, 2, 5, 2, 5, 5, 4, 0, 2, 5, 5, 5, 6, 0, 5, 5, 5, 5, 5, 2, 0, 4, 5, 3, 5, 5, 1, 5, 2, 5, 5, 5, 5, 5, 5, 5, 4, 2, 4, 2, 2, 5, 5, 0, 5, 4, 4, 3, 5, 5, 0, 2, 5, 5, 5, 1, 5, 2, 5, 2, 4, 4, 5, 5, 5, 3, 5, 5, 5, 2, 5, 2, 5, 1, 5, 5, 5, 5, 5, 5, 5, 1, 5, 4, 5, 6, 5, 2, 5, 5, 2, 1, 5, 5, 2, 5, 5, 2, 5, 5, 5, 5, 5, 5, 4, 5, 5, 0, 5, 0, 5, 5, 5, 4, 1, 5, 5, 2, 4, 2, 5, 5, 5, 5, 5, 5, 4, 5, 5, 5, 5, 1, 2, 5, 5, 5, 4, 1, 5, 4, 4, 5, 4, 5, 5, 0, 2, 4, 5, 5, 5, 5, 3, 5, 5, 0, 2, 2, 5, 5, 1, 5, 5, 5, 2, 5, 5, 4, 5, 0, 1, 5, 5, 5, 5, 4, 1, 5, 5, 5, 5, 5, 5, 2, 2, 5, 5, 5, 2, 5, 5, 5, 5, 5, 0, 5, 4, 5, 2, 2, 1, 5, 4, 5, 5, 5, 0, 5, 5, 2, 5, 5, 0, 5, 5, 5, 5, 5, 5, 5, 5, 5, 5, 5, 5, 5, 5, 4, 5, 5, 5, 5, 5, 5, 5, 5, 4, 5, 5, 2, 5, 5, 4, 5, 5, 5, 5, 6, 5, 2, 6, 5, 1, 5, 5, 2, 1, 4, 2, 4, 5, 5, 5, 2, 4, 2, 5, 5, 2, 5, 5, 5, 5, 4, 2, 5, 5, 5, 5, 5, 5, 5, 2, 4, 5, 5, 5, 5, 1, 5, 5, 5, 5, 5, 5, 5, 5, 5, 0, 6, 5, 5, 5, 5, 5, 4, 5, 5, 5, 4, 5, 5, 5, 5, 5, 5, 5, 5, 5, 5, 5, 5, 5, 5, 5, 5, 5, 4, 2, 4, 5, 2, 4, 5, 5, 5, 5, 5, 4, 5, 0, 5, 1, 5, 5, 5, 5, 0, 5, 4, 5, 5, 5, 5, 5, 5, 4, 2, 2, 2, 5, 5, 5, 5, 5, 5, 5, 4, 5, 5, 5, 5, 5, 4, 4, 5, 5, 0, 5, 5, 5, 0, 2, 2, 2, 3, 5, 5, 4, 4, 5, 5, 5, 5, 0, 5, 5, 5, 5, 4, 2, 1, 5, 5, 5, 5, 5, 5, 5, 5, 1, 5, 2, 5, 5, 2, 5, 5, 1, 5, 4, 0, 5, 5, 5, 5, 5, 5, 5, 5, 1, 5, 5, 5, 5, 5, 5, 5, 5, 4, 5, 5, 5, 2, 5, 5, 4, 5, 5, 5, 2, 5, 5, 5, 4, 6, 5, 5, 2, 5, 4, 5, 6, 5, 5, 5, 5, 4, 5, 5, 4, 5, 5, 5, 5, 1, 5, 5, 5, 5, 5, 2, 5, 0, 1, 5, 4, 5, 5, 5, 5, 5, 5, 5, 5, 5, 5, 4, 5, 5, 5, 2, 4, 5, 2, 5, 5, 4, 4, 5, 4, 2, 4, 5, 5, 5, 4, 5, 5, 5, 4, 1, 2, 5, 5, 5, 5, 5, 5, 5, 1, 5, 2, 2, 5, 5, 5, 5, 4, 5, 5, 5, 5, 5, 5, 5, 5, 1, 5, 4, 5, 5, 2, 0, 5, 5, 5, 5, 5, 6, 4, 1, 5, 5, 2, 5, 5, 5, 0, 5, 5, 4, 5, 5, 4, 5, 5, 5, 5, 5, 5, 5, 5, 5, 5, 4, 4, 5, 5, 2, 5, 5, 2, 5, 4, 5, 5, 5, 4, 5, 5, 5, 1, 5, 5, 5, 4, 5, 4, 5, 2, 5, 5, 5, 5, 5, 5, 5, 5, 5, 5, 1, 4, 5, 5, 5, 5, 5, 5, 5, 5, 5, 5, 0, 2, 5, 0, 5, 5, 4, 4, 6, 5, 5, 5, 5, 5, 5, 1, 0, 4, 5, 5, 1, 5, 5, 5, 5, 5, 1, 5, 5, 5, 4, 5, 5, 6, 5, 2, 6, 4, 5, 5, 5, 5, 5, 4, 5, 0, 5, 5, 2, 5, 0, 2, 5, 5, 5, 5, 5, 5, 5, 5, 5, 4, 4, 2, 5, 5, 5, 5, 5, 2, 2, 5, 2, 5, 6, 5, 5, 5, 5, 4, 2, 0, 5, 5, 5, 5, 5, 2, 5, 5, 4, 4, 5, 5, 5, 5, 5, 5, 2, 5, 5, 5, 5, 4, 5, 4, 5, 5, 5, 2, 5, 2, 4, 2, 5, 0, 5, 5, 4, 2, 5, 5, 5, 5, 5, 5, 5, 5, 5, 5, 5, 4, 2, 5, 2, 5, 5, 5, 5, 2, 4, 0, 5, 5, 2, 3, 4, 5, 5, 2, 5, 5, 2, 1, 4, 5, 5, 2, 1, 5, 4, 2, 1, 5, 5, 2, 5, 5, 4, 5, 5, 2, 1, 5, 1, 4, 5, 0, 5, 5, 2, 5, 5, 5, 5, 5, 5, 5, 4, 5, 2, 4, 5, 5, 5, 0, 4, 5, 2, 5, 5, 2, 5, 5, 2, 5, 0, 2, 5, 5, 5, 5, 5, 1, 5, 5, 5, 5, 5, 2, 5, 5, 2, 5, 1, 4, 5, 5, 5, 5, 1, 5, 5, 2, 4, 5, 5, 5, 5, 5, 4, 5, 5, 5, 5, 5, 4, 5, 5, 4, 5, 5, 6, 1, 5, 5, 4, 5, 1, 5, 0, 5, 5, 5, 5, 5, 5, 5, 4, 5, 5, 5, 4, 4, 6, 5, 5, 4, 4, 4, 2, 5, 1, 5, 5, 4, 5, 5, 5, 5, 2, 5, 5, 5, 5]\n",
            "[5, 1, 2, 2, 5, 5, 5, 5, 5, 2, 5, 5, 5, 5, 5, 5, 5, 5, 5, 5, 5, 5, 5, 5, 5, 5, 5, 5, 5, 5, 5, 5, 2, 5, 2, 5, 5, 5, 2, 5, 5, 5, 5, 5, 5, 2, 5, 5, 5, 5, 5, 5, 5, 5, 4, 5, 2, 2, 5, 5, 5, 5, 1, 5, 4, 5, 5, 5, 5, 5, 5, 5, 1, 5, 2, 5, 5, 5, 5, 5, 5, 5, 5, 2, 5, 5, 5, 4, 5, 5, 5, 5, 2, 5, 5, 5, 5, 5, 5, 5, 5, 5, 5, 5, 5, 5, 5, 5, 5, 5, 5, 0, 5, 5, 1, 5, 5, 5, 5, 5, 5, 5, 5, 5, 5, 5, 5, 5, 5, 5, 5, 5, 2, 5, 5, 5, 5, 5, 5, 5, 5, 5, 5, 5, 5, 2, 5, 5, 5, 5, 5, 5, 5, 5, 5, 5, 5, 5, 5, 2, 5, 5, 5, 5, 5, 5, 5, 5, 2, 2, 5, 5, 5, 5, 5, 5, 5, 5, 5, 5, 5, 5, 5, 5, 5, 5, 5, 2, 5, 4, 5, 5, 5, 5, 5, 5, 5, 5, 5, 6, 5, 5, 5, 5, 5, 5, 5, 5, 5, 5, 6, 5, 5, 5, 5, 5, 5, 5, 5, 5, 5, 5, 5, 5, 5, 5, 5, 4, 5, 5, 5, 5, 5, 4, 2, 5, 5, 1, 5, 5, 5, 5, 5, 5, 5, 5, 5, 5, 2, 5, 5, 5, 5, 5, 5, 5, 5, 5, 5, 2, 5, 5, 5, 5, 2, 5, 5, 5, 5, 2, 5, 5, 5, 1, 5, 5, 5, 5, 5, 5, 5, 5, 5, 5, 5, 5, 6, 5, 5, 5, 5, 5, 5, 5, 2, 5, 5, 5, 5, 5, 5, 5, 5, 5, 2, 5, 5, 5, 5, 5, 5, 5, 2, 5, 5, 2, 5, 5, 5, 5, 5, 5, 5, 4, 5, 5, 5, 5, 2, 2, 5, 5, 5, 1, 5, 5, 5, 5, 5, 5, 2, 5, 5, 5, 5, 2, 5, 5, 5, 5, 5, 5, 2, 5, 5, 5, 1, 5, 5, 5, 4, 5, 2, 5, 5, 5, 5, 5, 6, 5, 5, 5, 2, 5, 5, 5, 5, 5, 5, 5, 5, 6, 5, 5, 5, 5, 5, 5, 5, 5, 5, 5, 5, 5, 5, 5, 5, 5, 5, 2, 5, 5, 5, 5, 5, 2, 5, 2, 2, 5, 5, 5, 5, 5, 5, 5, 5, 5, 5, 5, 5, 5, 5, 5, 5, 5, 5, 5, 5, 5, 2, 5, 5, 5, 5, 5, 5, 5, 5, 5, 5, 5, 5, 2, 5, 5, 2, 5, 5, 6, 5, 1, 5, 2, 5, 5, 5, 5, 5, 5, 5, 5, 5, 5, 5, 5, 5, 5, 5, 5, 6, 5, 5, 5, 5, 5, 2, 5, 5, 5, 5, 5, 5, 5, 5, 2, 5, 5, 5, 5, 5, 5, 5, 5, 5, 5, 5, 5, 5, 5, 5, 5, 5, 5, 4, 5, 5, 5, 5, 2, 5, 5, 5, 5, 5, 5, 5, 5, 5, 5, 5, 5, 5, 5, 5, 5, 5, 5, 5, 4, 5, 5, 5, 5, 5, 2, 5, 5, 5, 2, 5, 6, 2, 2, 5, 5, 5, 5, 5, 5, 2, 5, 5, 5, 5, 5, 1, 5, 4, 5, 5, 5, 2, 2, 5, 5, 5, 1, 5, 5, 5, 5, 5, 2, 5, 5, 5, 5, 5, 5, 5, 5, 5, 2, 5, 5, 5, 5, 5, 5, 5, 5, 5, 5, 5, 5, 5, 5, 5, 5, 5, 1, 5, 5, 2, 2, 2, 5, 5, 5, 5, 5, 5, 5, 4, 5, 5, 5, 5, 4, 5, 5, 5, 5, 5, 5, 5, 5, 5, 5, 5, 0, 5, 5, 5, 5, 5, 5, 5, 5, 1, 5, 5, 5, 5, 5, 5, 5, 5, 5, 5, 1, 2, 0, 2, 5, 5, 2, 5, 5, 5, 5, 5, 5, 5, 5, 5, 5, 5, 5, 5, 5, 5, 5, 6, 5, 5, 5, 5, 5, 5, 5, 5, 5, 1, 5, 1, 5, 5, 5, 1, 5, 5, 5, 0, 5, 5, 5, 5, 5, 5, 5, 1, 2, 5, 2, 5, 5, 5, 5, 2, 2, 5, 5, 5, 5, 5, 5, 5, 5, 5, 5, 5, 5, 5, 5, 5, 5, 5, 5, 5, 5, 5, 5, 5, 2, 2, 5, 5, 2, 5, 5, 5, 5, 5, 4, 5, 1, 5, 5, 5, 5, 5, 5, 5, 1, 5, 5, 5, 5, 5, 5, 5, 5, 5, 5, 5, 5, 5, 5, 5, 5, 5, 5, 5, 5, 5, 5, 5, 5, 5, 5, 5, 5, 5, 5, 5, 5, 5, 2, 5, 5, 1, 5, 5, 5, 5, 6, 2, 5, 2, 5, 5, 5, 5, 5, 5, 5, 5, 5, 5, 5, 5, 5, 5, 5, 5, 2, 5, 5, 5, 5, 5, 2, 5, 5, 4, 5, 2, 2, 5, 5, 5, 5, 5, 5, 5, 5, 5, 5, 5, 5, 5, 5, 2, 5, 5, 5, 5, 5, 2, 5, 5, 2, 5, 5, 5, 5, 5, 5, 5, 0, 5, 5, 5, 5, 5, 5, 5, 2, 5, 5, 2, 5, 5, 1, 5, 5, 5, 5, 1, 5, 5, 5, 1, 5, 5, 5, 5, 5, 5, 5, 5, 5, 5, 5, 5, 5, 5, 5, 2, 2, 5, 5, 5, 5, 5, 5, 5, 5, 5, 2, 5, 2, 0, 5, 5, 4, 5, 5, 5, 5, 5, 5, 5, 5, 5, 5, 5, 5, 5, 5, 5, 5, 5, 5, 5, 5, 5, 5, 5, 5, 5, 2, 1, 5, 5, 5, 5, 2, 5, 5, 5, 5, 5, 5, 5, 5, 5, 5, 5, 5, 5, 5, 5, 4, 5, 5, 5, 5, 5, 1, 5, 5, 6, 5, 5, 5, 2, 5, 5, 5, 5, 5, 2, 5, 2, 5, 5, 5, 5, 5, 5, 5, 5, 5, 2, 5, 5, 5, 5, 5, 5, 4, 5, 5, 5, 5, 5, 5, 5, 5, 5, 5, 5, 5, 5, 5, 5, 5, 5, 0, 5, 5, 5, 1, 5, 5, 5, 5, 5, 5, 5, 5, 1, 5, 5, 5, 5, 5, 5, 5, 5, 5, 5, 5, 5, 5, 2, 5, 5, 2, 2, 5, 5, 5, 5, 5, 5, 5, 5, 5, 5, 5, 5, 5, 5, 2, 5, 6, 5, 5, 5, 5, 5, 5, 5, 5, 2, 5, 2, 5, 5, 5, 2, 5, 5, 5, 5, 6, 5, 5, 5, 5, 5, 5, 2, 0, 5, 5, 1, 5, 5, 1, 5, 5, 5, 2, 5, 2, 5, 5, 5, 4, 5, 5, 2, 5, 5, 5, 2, 5, 5, 5, 5, 5, 5, 1, 2, 5, 5, 5, 5, 5, 5, 5, 5, 5, 5, 1, 5, 5, 5, 5, 5, 5, 2, 5, 5, 5, 5, 2, 5, 5, 5, 5, 5, 5, 5, 5, 5, 5, 5, 5, 2, 5, 5, 5, 1, 5, 5, 5, 5, 5, 2, 5, 5, 5, 5, 5, 5, 5, 5, 5, 1, 5, 4, 5, 5, 5, 5, 5, 5, 5, 5, 5, 2, 5, 5, 5, 5, 5, 5, 6, 5, 5, 5, 5, 5, 5, 5, 5, 5, 5, 1, 5, 5, 5, 5, 2, 5, 5, 5, 5, 5, 5, 5, 5, 5, 1, 5, 5, 0, 2, 2, 5, 5, 5, 5, 5, 5, 5, 5, 5, 2, 5, 2, 1, 5, 5, 5, 5, 5, 5, 5, 5, 5, 5, 5, 5, 2, 4, 5, 5, 5, 5, 5, 5, 5, 5, 5, 0, 5, 2, 5, 4, 2, 6, 5, 5, 5, 5, 5, 6, 5, 5, 2, 5, 5, 5, 5, 5, 5, 5, 5, 6, 5, 5, 5, 5, 5, 5, 5, 5, 5, 5, 5, 5, 5, 5, 5, 5, 5, 6, 5, 5, 2, 5, 5, 6, 5, 5, 5, 5, 5, 5, 5, 6, 5, 2, 5, 5, 5, 6, 2, 5, 5, 5, 5, 5, 5, 5, 5, 5, 5, 5, 5, 5, 5, 5, 5, 5, 5, 5, 5, 5, 5, 5, 5, 2, 5, 5, 5, 5, 5, 5, 5, 5, 5, 5, 5, 5, 5, 5, 5, 1, 6, 5, 5, 4, 5, 5, 5, 5, 5, 5, 2, 5, 5, 5, 5, 5, 5, 1, 5, 5, 5, 5, 2, 5, 5, 5, 5, 5, 5, 5, 5, 5, 5, 5, 5, 5, 5, 5, 5, 5, 5, 5, 5, 1, 5, 5, 5, 5, 2, 5, 4, 5, 5, 5, 5, 5, 5, 5, 5, 0, 2, 2, 5, 5, 5, 5, 5, 5, 1, 5, 2, 5, 5, 5, 5, 4, 5, 5, 5, 5, 5, 5, 5, 2, 2, 2, 6, 5, 5, 5, 2, 5, 5, 5, 5, 2, 5, 5, 5, 5, 5, 5, 1, 5, 5, 5, 5, 5, 5, 5, 5, 5, 5, 5, 5, 5, 4, 5, 5, 1, 5, 5, 1, 5, 5, 5, 5, 5, 5, 5, 5, 5, 5, 5, 5, 5, 5, 5, 5, 5, 5, 5, 5, 5, 5, 5, 5, 5, 5, 5, 5, 5, 5, 5, 5, 1, 6, 5, 5, 5, 5, 5, 5, 6, 5, 5, 5, 5, 5, 5, 5, 2, 5, 5, 5, 5, 5, 5, 0, 5, 5, 5, 5, 5, 5, 5, 5, 5, 5, 5, 5, 5, 5, 5, 5, 5, 5, 5, 4, 5, 5, 5, 5, 5, 5, 2, 5, 5, 5, 5, 5, 5, 5, 5, 5, 5, 5, 5, 5, 2, 5, 5, 2, 5, 5, 5, 5, 5, 5, 5, 5, 5, 5, 5, 5, 5, 5, 5, 5, 5, 5, 5, 5, 5, 5, 5, 5, 5, 1, 5, 5, 5, 5, 5, 0, 5, 5, 5, 5, 5, 6, 5, 0, 5, 5, 5, 5, 5, 5, 5, 5, 5, 5, 5, 5, 5, 5, 5, 5, 5, 5, 5, 5, 5, 5, 5, 2, 5, 5, 5, 2, 5, 5, 5, 5, 5, 5, 5, 5, 5, 5, 5, 5, 5, 5, 5, 5, 5, 5, 5, 5, 5, 5, 5, 5, 5, 5, 5, 5, 2, 5, 5, 1, 5, 5, 4, 5, 5, 5, 5, 5, 5, 5, 5, 5, 5, 5, 1, 5, 2, 5, 5, 6, 5, 5, 5, 5, 5, 5, 6, 0, 5, 5, 5, 2, 5, 5, 5, 5, 5, 6, 5, 5, 5, 5, 5, 5, 5, 5, 2, 5, 5, 5, 5, 5, 5, 5, 5, 5, 5, 5, 5, 5, 5, 5, 2, 5, 5, 5, 5, 5, 5, 5, 5, 5, 5, 5, 5, 5, 5, 5, 5, 5, 5, 5, 5, 5, 5, 6, 5, 5, 5, 5, 5, 5, 0, 5, 5, 5, 5, 5, 5, 5, 5, 5, 5, 5, 5, 2, 5, 5, 5, 5, 5, 5, 5, 5, 5, 5, 4, 5, 5, 5, 5, 5, 5, 5, 2, 5, 5, 5, 5, 5, 5, 5, 5, 5, 1, 5, 5, 5, 5, 5, 5, 5, 4, 5, 5, 2, 4, 5, 5, 5, 5, 5, 5, 5, 5, 5, 1, 5, 5, 5, 5, 5, 5, 2, 6, 5, 5, 5, 2, 5, 5, 4, 2, 6, 5, 5, 5, 5, 2, 5, 5, 5, 5, 5, 5, 1, 2, 5, 2, 5, 5, 5, 5, 5, 5, 5, 5, 5, 5, 5, 5, 2, 5, 5, 5, 5, 1, 5, 5, 2, 5, 2, 5, 5, 5, 2, 5, 5, 5, 5, 5, 5, 5, 5, 2, 5, 5, 5, 5, 5, 5, 5, 5, 5, 5, 5, 5, 5, 5, 5, 5, 5, 5, 5, 5, 5, 5, 5, 5, 5, 5, 2, 5, 5, 5, 4, 5, 5, 5, 5, 5, 5, 5, 6, 2, 5, 5, 5, 5, 1, 5, 2, 5, 5, 5, 5, 5, 5, 5, 5, 5, 5, 5, 2, 5, 6, 5, 5, 5, 5, 4, 2, 5, 1, 5, 5, 5, 5, 5, 5, 5, 5, 6, 5, 5, 5]\n"
          ]
        }
      ]
    },
    {
      "cell_type": "code",
      "source": [
        "from sklearn.metrics import classification_report\n",
        "report = classification_report(yt, p1)\n",
        "print(report)"
      ],
      "metadata": {
        "colab": {
          "base_uri": "https://localhost:8080/"
        },
        "id": "MgY8knEbIGce",
        "outputId": "a24e1c1e-28e6-4dbb-a198-3e7af2e7db8d"
      },
      "execution_count": null,
      "outputs": [
        {
          "output_type": "stream",
          "name": "stdout",
          "text": [
            "              precision    recall  f1-score   support\n",
            "\n",
            "           0       0.50      0.12      0.20        66\n",
            "           1       0.48      0.25      0.33       103\n",
            "           2       0.47      0.34      0.39       220\n",
            "           3       0.00      0.00      0.00        23\n",
            "           4       0.35      0.05      0.09       223\n",
            "           5       0.76      0.97      0.85      1341\n",
            "           6       0.49      0.59      0.53        29\n",
            "\n",
            "    accuracy                           0.71      2005\n",
            "   macro avg       0.44      0.33      0.34      2005\n",
            "weighted avg       0.65      0.71      0.65      2005\n",
            "\n"
          ]
        },
        {
          "output_type": "stream",
          "name": "stderr",
          "text": [
            "/usr/local/lib/python3.7/dist-packages/sklearn/metrics/_classification.py:1318: UndefinedMetricWarning: Precision and F-score are ill-defined and being set to 0.0 in labels with no predicted samples. Use `zero_division` parameter to control this behavior.\n",
            "  _warn_prf(average, modifier, msg_start, len(result))\n",
            "/usr/local/lib/python3.7/dist-packages/sklearn/metrics/_classification.py:1318: UndefinedMetricWarning: Precision and F-score are ill-defined and being set to 0.0 in labels with no predicted samples. Use `zero_division` parameter to control this behavior.\n",
            "  _warn_prf(average, modifier, msg_start, len(result))\n",
            "/usr/local/lib/python3.7/dist-packages/sklearn/metrics/_classification.py:1318: UndefinedMetricWarning: Precision and F-score are ill-defined and being set to 0.0 in labels with no predicted samples. Use `zero_division` parameter to control this behavior.\n",
            "  _warn_prf(average, modifier, msg_start, len(result))\n"
          ]
        }
      ]
    },
    {
      "cell_type": "code",
      "source": [
        "# Load the weights with the best validation accuracy\n",
        "model1.load_weights('basemodel.weights.best.hdf5')\n",
        "\n",
        "# Evaluate the model on test set\n",
        "score = model1.evaluate(x_test, y_test, verbose=0)\n",
        "\n",
        "# Print test accuracy\n",
        "print('\\n', 'Test accuracy:', score[1])"
      ],
      "metadata": {
        "colab": {
          "base_uri": "https://localhost:8080/"
        },
        "id": "YUhF3XpIapkQ",
        "outputId": "88dc4548-1b74-4cb3-9160-539b2ccae006"
      },
      "execution_count": null,
      "outputs": [
        {
          "output_type": "stream",
          "name": "stdout",
          "text": [
            "\n",
            " Test accuracy: 0.7147132158279419\n"
          ]
        }
      ]
    },
    {
      "cell_type": "code",
      "source": [
        "cf_matrix = confusion_matrix(yt, p1)\n",
        "\n",
        "plt.figure(figsize=(6,5))\n",
        "sns.heatmap(cf_matrix, annot=True,cmap=\"Blues\")\n",
        "plt.title('Confusion Matrix')\n",
        "plt.ylabel('Actal Values')\n",
        "plt.xlabel('Predicted Values')\n",
        "plt.show()"
      ],
      "metadata": {
        "id": "ACYRW3foBGHY",
        "colab": {
          "base_uri": "https://localhost:8080/",
          "height": 350
        },
        "outputId": "264259e5-fd2e-4290-8ddf-728ccbfba478"
      },
      "execution_count": null,
      "outputs": [
        {
          "output_type": "display_data",
          "data": {
            "text/plain": [
              "<Figure size 432x360 with 2 Axes>"
            ],
            "image/png": "[encoded data removed]"
          },
          "metadata": {
            "needs_background": "light"
          }
        }
      ]
    },
    {
      "cell_type": "code",
      "source": [],
      "metadata": {
        "id": "UWoLjWBIBGEm"
      },
      "execution_count": null,
      "outputs": []
    },
    {
      "cell_type": "code",
      "source": [
        "# CNN Model 2"
      ],
      "metadata": {
        "id": "oKX00rnnrSWD"
      },
      "execution_count": null,
      "outputs": []
    },
    {
      "cell_type": "code",
      "source": [
        "model2 = tf.keras.Sequential()\n",
        "\n",
        "# Must define the input shape in the first layer of the neural network\n",
        "model2.add(tf.keras.layers.Conv2D(filters=64, kernel_size=2, padding='same', activation='relu', input_shape=(28,28,3))) \n",
        "model2.add(tf.keras.layers.MaxPooling2D(pool_size=2))\n",
        "model2.add(tf.keras.layers.Dropout(0.2))\n",
        "\n",
        "model2.add(tf.keras.layers.Conv2D(filters=64, kernel_size=2, padding='same', activation='relu'))\n",
        "model2.add(tf.keras.layers.MaxPooling2D(pool_size=2))\n",
        "model2.add(tf.keras.layers.Dropout(0.2))\n",
        "\n",
        "model2.add(tf.keras.layers.Conv2D(filters=32, kernel_size=2, padding='same', activation='relu'))\n",
        "model2.add(tf.keras.layers.MaxPooling2D(pool_size=2))\n",
        "model2.add(tf.keras.layers.Dropout(0.2))\n",
        "\n",
        "model2.add(tf.keras.layers.Flatten())\n",
        "model2.add(tf.keras.layers.Dense(256, activation='relu'))\n",
        "model2.add(tf.keras.layers.Dropout(0.5))\n",
        "model2.add(tf.keras.layers.Dense(7, activation='softmax'))"
      ],
      "metadata": {
        "id": "CNoIWkkUrVLK"
      },
      "execution_count": null,
      "outputs": []
    },
    {
      "cell_type": "code",
      "source": [
        "model2.summary()\n",
        "model2.compile(loss='categorical_crossentropy',\n",
        "             optimizer='adam',\n",
        "             metrics=['accuracy'])\n",
        "from keras.callbacks import ModelCheckpoint"
      ],
      "metadata": {
        "colab": {
          "base_uri": "https://localhost:8080/"
        },
        "id": "exQ3H8KCrmRb",
        "outputId": "8bad4cf3-7871-4030-97f8-d0547a8b2104"
      },
      "execution_count": null,
      "outputs": [
        {
          "output_type": "stream",
          "name": "stdout",
          "text": [
            "Model: \"sequential_1\"\n",
            "_________________________________________________________________\n",
            " Layer (type)                Output Shape              Param #   \n",
            "=================================================================\n",
            " conv2d_2 (Conv2D)           (None, 28, 28, 64)        832       \n",
            "                                                                 \n",
            " max_pooling2d_2 (MaxPooling  (None, 14, 14, 64)       0         \n",
            " 2D)                                                             \n",
            "                                                                 \n",
            " dropout_3 (Dropout)         (None, 14, 14, 64)        0         \n",
            "                                                                 \n",
            " conv2d_3 (Conv2D)           (None, 14, 14, 64)        16448     \n",
            "                                                                 \n",
            " max_pooling2d_3 (MaxPooling  (None, 7, 7, 64)         0         \n",
            " 2D)                                                             \n",
            "                                                                 \n",
            " dropout_4 (Dropout)         (None, 7, 7, 64)          0         \n",
            "                                                                 \n",
            " conv2d_4 (Conv2D)           (None, 7, 7, 32)          8224      \n",
            "                                                                 \n",
            " max_pooling2d_4 (MaxPooling  (None, 3, 3, 32)         0         \n",
            " 2D)                                                             \n",
            "                                                                 \n",
            " dropout_5 (Dropout)         (None, 3, 3, 32)          0         \n",
            "                                                                 \n",
            " flatten_1 (Flatten)         (None, 288)               0         \n",
            "                                                                 \n",
            " dense_2 (Dense)             (None, 256)               73984     \n",
            "                                                                 \n",
            " dropout_6 (Dropout)         (None, 256)               0         \n",
            "                                                                 \n",
            " dense_3 (Dense)             (None, 7)                 1799      \n",
            "                                                                 \n",
            "=================================================================\n",
            "Total params: 101,287\n",
            "Trainable params: 101,287\n",
            "Non-trainable params: 0\n",
            "_________________________________________________________________\n"
          ]
        }
      ]
    },
    {
      "cell_type": "code",
      "source": [
        "checkpointer = ModelCheckpoint(filepath='basemodel.weights.best.hdf5', verbose = 1, save_best_only=True)\n",
        "history2 = model2.fit(x_train,\n",
        "         y_train,\n",
        "         batch_size=64,\n",
        "         epochs=10,\n",
        "         validation_data=(x_valid, y_valid),\n",
        "         callbacks=[checkpointer])"
      ],
      "metadata": {
        "colab": {
          "base_uri": "https://localhost:8080/"
        },
        "id": "PD_lexttr7ME",
        "outputId": "e4924d2a-d874-4571-aeb3-464c336d1fe8"
      },
      "execution_count": null,
      "outputs": [
        {
          "output_type": "stream",
          "name": "stdout",
          "text": [
            "Epoch 1/10\n",
            "110/110 [==============================] - ETA: 0s - loss: 1.1098 - accuracy: 0.6652\n",
            "Epoch 1: val_loss improved from inf to 1.08071, saving model to basemodel.weights.best.hdf5\n",
            "110/110 [==============================] - 13s 107ms/step - loss: 1.1098 - accuracy: 0.6652 - val_loss: 1.0807 - val_accuracy: 0.6690\n",
            "Epoch 2/10\n",
            "110/110 [==============================] - ETA: 0s - loss: 0.9918 - accuracy: 0.6698\n",
            "Epoch 2: val_loss improved from 1.08071 to 1.06087, saving model to basemodel.weights.best.hdf5\n",
            "110/110 [==============================] - 11s 104ms/step - loss: 0.9918 - accuracy: 0.6698 - val_loss: 1.0609 - val_accuracy: 0.6690\n",
            "Epoch 3/10\n",
            "110/110 [==============================] - ETA: 0s - loss: 0.9411 - accuracy: 0.6713\n",
            "Epoch 3: val_loss improved from 1.06087 to 0.91950, saving model to basemodel.weights.best.hdf5\n",
            "110/110 [==============================] - 12s 105ms/step - loss: 0.9411 - accuracy: 0.6713 - val_loss: 0.9195 - val_accuracy: 0.6790\n",
            "Epoch 4/10\n",
            "110/110 [==============================] - ETA: 0s - loss: 0.9013 - accuracy: 0.6748\n",
            "Epoch 4: val_loss improved from 0.91950 to 0.88036, saving model to basemodel.weights.best.hdf5\n",
            "110/110 [==============================] - 12s 106ms/step - loss: 0.9013 - accuracy: 0.6748 - val_loss: 0.8804 - val_accuracy: 0.6949\n",
            "Epoch 5/10\n",
            "110/110 [==============================] - ETA: 0s - loss: 0.8776 - accuracy: 0.6812\n",
            "Epoch 5: val_loss improved from 0.88036 to 0.84721, saving model to basemodel.weights.best.hdf5\n",
            "110/110 [==============================] - 12s 105ms/step - loss: 0.8776 - accuracy: 0.6812 - val_loss: 0.8472 - val_accuracy: 0.6919\n",
            "Epoch 6/10\n",
            "110/110 [==============================] - ETA: 0s - loss: 0.8663 - accuracy: 0.6906\n",
            "Epoch 6: val_loss improved from 0.84721 to 0.84599, saving model to basemodel.weights.best.hdf5\n",
            "110/110 [==============================] - 13s 117ms/step - loss: 0.8663 - accuracy: 0.6906 - val_loss: 0.8460 - val_accuracy: 0.6999\n",
            "Epoch 7/10\n",
            "110/110 [==============================] - ETA: 0s - loss: 0.8536 - accuracy: 0.6892\n",
            "Epoch 7: val_loss improved from 0.84599 to 0.81202, saving model to basemodel.weights.best.hdf5\n",
            "110/110 [==============================] - 12s 106ms/step - loss: 0.8536 - accuracy: 0.6892 - val_loss: 0.8120 - val_accuracy: 0.6979\n",
            "Epoch 8/10\n",
            "110/110 [==============================] - ETA: 0s - loss: 0.8344 - accuracy: 0.6962\n",
            "Epoch 8: val_loss improved from 0.81202 to 0.80996, saving model to basemodel.weights.best.hdf5\n",
            "110/110 [==============================] - 12s 107ms/step - loss: 0.8344 - accuracy: 0.6962 - val_loss: 0.8100 - val_accuracy: 0.6959\n",
            "Epoch 9/10\n",
            "110/110 [==============================] - ETA: 0s - loss: 0.8221 - accuracy: 0.6949\n",
            "Epoch 9: val_loss improved from 0.80996 to 0.78809, saving model to basemodel.weights.best.hdf5\n",
            "110/110 [==============================] - 12s 106ms/step - loss: 0.8221 - accuracy: 0.6949 - val_loss: 0.7881 - val_accuracy: 0.7049\n",
            "Epoch 10/10\n",
            "110/110 [==============================] - ETA: 0s - loss: 0.8119 - accuracy: 0.6987\n",
            "Epoch 10: val_loss improved from 0.78809 to 0.77675, saving model to basemodel.weights.best.hdf5\n",
            "110/110 [==============================] - 12s 105ms/step - loss: 0.8119 - accuracy: 0.6987 - val_loss: 0.7767 - val_accuracy: 0.7119\n"
          ]
        }
      ]
    },
    {
      "cell_type": "code",
      "source": [
        "prediction = model2.predict(x_test)"
      ],
      "metadata": {
        "id": "XW6FBr5-gNfK"
      },
      "execution_count": null,
      "outputs": []
    },
    {
      "cell_type": "code",
      "source": [
        "pred_2 = np.zeros_like(prediction)\n",
        "pred_2[np.arange(len(prediction)), prediction.argmax(1)] = 1\n",
        "print(pred_2)"
      ],
      "metadata": {
        "colab": {
          "base_uri": "https://localhost:8080/"
        },
        "id": "034aDSYtgJVa",
        "outputId": "21208f6d-3bb6-434c-9ae3-77f1877b0d16"
      },
      "execution_count": null,
      "outputs": [
        {
          "output_type": "stream",
          "name": "stdout",
          "text": [
            "[[0. 0. 0. ... 0. 1. 0.]\n",
            " [0. 0. 1. ... 0. 0. 0.]\n",
            " [0. 0. 1. ... 0. 0. 0.]\n",
            " ...\n",
            " [0. 0. 0. ... 0. 1. 0.]\n",
            " [0. 0. 0. ... 0. 1. 0.]\n",
            " [0. 0. 0. ... 0. 1. 0.]]\n"
          ]
        }
      ]
    },
    {
      "cell_type": "code",
      "source": [
        "p2 = [np.argmax(p, axis=None, out=None) for p in pred_2]\n",
        "report2 = classification_report(yt, p2)\n",
        "print(report2)"
      ],
      "metadata": {
        "colab": {
          "base_uri": "https://localhost:8080/"
        },
        "id": "cTE_MK0dE3C5",
        "outputId": "8d8cabc9-50a0-4d4a-f020-c1391086717a"
      },
      "execution_count": null,
      "outputs": [
        {
          "output_type": "stream",
          "name": "stdout",
          "text": [
            "              precision    recall  f1-score   support\n",
            "\n",
            "           0       0.80      0.06      0.11        66\n",
            "           1       0.35      0.29      0.32       103\n",
            "           2       0.39      0.46      0.42       220\n",
            "           3       0.00      0.00      0.00        23\n",
            "           4       0.40      0.05      0.09       223\n",
            "           5       0.78      0.94      0.85      1341\n",
            "           6       0.50      0.07      0.12        29\n",
            "\n",
            "    accuracy                           0.70      2005\n",
            "   macro avg       0.46      0.27      0.27      2005\n",
            "weighted avg       0.66      0.70      0.65      2005\n",
            "\n"
          ]
        },
        {
          "output_type": "stream",
          "name": "stderr",
          "text": [
            "/usr/local/lib/python3.7/dist-packages/sklearn/metrics/_classification.py:1318: UndefinedMetricWarning: Precision and F-score are ill-defined and being set to 0.0 in labels with no predicted samples. Use `zero_division` parameter to control this behavior.\n",
            "  _warn_prf(average, modifier, msg_start, len(result))\n",
            "/usr/local/lib/python3.7/dist-packages/sklearn/metrics/_classification.py:1318: UndefinedMetricWarning: Precision and F-score are ill-defined and being set to 0.0 in labels with no predicted samples. Use `zero_division` parameter to control this behavior.\n",
            "  _warn_prf(average, modifier, msg_start, len(result))\n",
            "/usr/local/lib/python3.7/dist-packages/sklearn/metrics/_classification.py:1318: UndefinedMetricWarning: Precision and F-score are ill-defined and being set to 0.0 in labels with no predicted samples. Use `zero_division` parameter to control this behavior.\n",
            "  _warn_prf(average, modifier, msg_start, len(result))\n"
          ]
        }
      ]
    },
    {
      "cell_type": "code",
      "source": [
        "pd.DataFrame(history2.history).plot(figsize=(8, 5))\n",
        "plt.grid(True)\n",
        "plt.gca().set_ylim(0, 1)\n",
        "plt.show()"
      ],
      "metadata": {
        "colab": {
          "base_uri": "https://localhost:8080/",
          "height": 324
        },
        "id": "zMm_Y_HqsnBc",
        "outputId": "8980b055-11f2-43cd-ac4c-fdee0d841c59"
      },
      "execution_count": null,
      "outputs": [
        {
          "output_type": "display_data",
          "data": {
            "text/plain": [
              "<Figure size 576x360 with 1 Axes>"
            ],
            "image/png": "[encoded data removed]"
          },
          "metadata": {
            "needs_background": "light"
          }
        }
      ]
    },
    {
      "cell_type": "code",
      "source": [
        "# Load the weights with the best validation accuracy\n",
        "model2.load_weights('basemodel.weights.best.hdf5')\n",
        "\n",
        "# Evaluate the model on test set\n",
        "score = model2.evaluate(x_test, y_test, verbose=0)\n",
        "# Print test accuracy\n",
        "print('\\n', 'Test accuracy:', score[1])"
      ],
      "metadata": {
        "colab": {
          "base_uri": "https://localhost:8080/"
        },
        "id": "i4rb768Us6hQ",
        "outputId": "d79a3f95-5f3c-41f7-d8c5-1fbd39ca8e33"
      },
      "execution_count": null,
      "outputs": [
        {
          "output_type": "stream",
          "name": "stdout",
          "text": [
            "\n",
            " Test accuracy: 0.7007481455802917\n"
          ]
        }
      ]
    },
    {
      "cell_type": "code",
      "source": [
        "cf_matrix = confusion_matrix(yt, p2)\n",
        "\n",
        "plt.figure(figsize=(6,5))\n",
        "sns.heatmap(cf_matrix, annot=True,cmap=\"Blues\")\n",
        "plt.title('Confusion Matrix')\n",
        "plt.ylabel('Actal Values')\n",
        "plt.xlabel('Predicted Values')\n",
        "plt.show()"
      ],
      "metadata": {
        "id": "ok1A21lqBDkx",
        "colab": {
          "base_uri": "https://localhost:8080/",
          "height": 350
        },
        "outputId": "a43c575b-e511-441d-b02f-d5f7cc38f9e1"
      },
      "execution_count": null,
      "outputs": [
        {
          "output_type": "display_data",
          "data": {
            "text/plain": [
              "<Figure size 432x360 with 2 Axes>"
            ],
            "image/png": "[encoded data removed]"
          },
          "metadata": {
            "needs_background": "light"
          }
        }
      ]
    },
    {
      "cell_type": "code",
      "source": [],
      "metadata": {
        "id": "ptzXExbSBDiB"
      },
      "execution_count": null,
      "outputs": []
    },
    {
      "cell_type": "code",
      "source": [
        "# CNN Model 3"
      ],
      "metadata": {
        "id": "jdCQ2lcXtWGA"
      },
      "execution_count": null,
      "outputs": []
    },
    {
      "cell_type": "code",
      "source": [
        "model3 = tf.keras.Sequential()\n",
        "\n",
        "# Must define the input shape in the first layer of the neural network\n",
        "model3.add(tf.keras.layers.Conv2D(filters=256, kernel_size=2, padding='same', activation='relu', input_shape=(28,28,3))) \n",
        "model3.add(tf.keras.layers.MaxPooling2D(pool_size=2))\n",
        "model3.add(tf.keras.layers.Dropout(0.25))\n",
        "\n",
        "model3.add(tf.keras.layers.Conv2D(filters=128, kernel_size=2, padding='same', activation='relu'))\n",
        "model3.add(tf.keras.layers.MaxPooling2D(pool_size=2))\n",
        "model3.add(tf.keras.layers.Dropout(0.25))\n",
        "\n",
        "model3.add(tf.keras.layers.Conv2D(filters=64, kernel_size=2, padding='same', activation='relu'))\n",
        "model3.add(tf.keras.layers.MaxPooling2D(pool_size=2))\n",
        "model3.add(tf.keras.layers.Dropout(0.25))\n",
        "\n",
        "model3.add(tf.keras.layers.Flatten())\n",
        "model3.add(tf.keras.layers.Dense(256, activation='relu'))\n",
        "model3.add(tf.keras.layers.Dropout(0.5))\n",
        "model3.add(tf.keras.layers.Dense(7, activation='softmax'))"
      ],
      "metadata": {
        "id": "zvpxj1oAtgPM"
      },
      "execution_count": null,
      "outputs": []
    },
    {
      "cell_type": "code",
      "source": [
        "model3.summary()\n",
        "model3.compile(loss='categorical_crossentropy',\n",
        "             optimizer='adam',\n",
        "             metrics=['accuracy'])\n",
        "from keras.callbacks import ModelCheckpoint"
      ],
      "metadata": {
        "colab": {
          "base_uri": "https://localhost:8080/"
        },
        "id": "veOTdsL-uzBG",
        "outputId": "7286baa3-fdf3-4204-84cd-9b04f807a4bc"
      },
      "execution_count": null,
      "outputs": [
        {
          "output_type": "stream",
          "name": "stdout",
          "text": [
            "Model: \"sequential_2\"\n",
            "_________________________________________________________________\n",
            " Layer (type)                Output Shape              Param #   \n",
            "=================================================================\n",
            " conv2d_5 (Conv2D)           (None, 28, 28, 256)       3328      \n",
            "                                                                 \n",
            " max_pooling2d_5 (MaxPooling  (None, 14, 14, 256)      0         \n",
            " 2D)                                                             \n",
            "                                                                 \n",
            " dropout_7 (Dropout)         (None, 14, 14, 256)       0         \n",
            "                                                                 \n",
            " conv2d_6 (Conv2D)           (None, 14, 14, 128)       131200    \n",
            "                                                                 \n",
            " max_pooling2d_6 (MaxPooling  (None, 7, 7, 128)        0         \n",
            " 2D)                                                             \n",
            "                                                                 \n",
            " dropout_8 (Dropout)         (None, 7, 7, 128)         0         \n",
            "                                                                 \n",
            " conv2d_7 (Conv2D)           (None, 7, 7, 64)          32832     \n",
            "                                                                 \n",
            " max_pooling2d_7 (MaxPooling  (None, 3, 3, 64)         0         \n",
            " 2D)                                                             \n",
            "                                                                 \n",
            " dropout_9 (Dropout)         (None, 3, 3, 64)          0         \n",
            "                                                                 \n",
            " flatten_2 (Flatten)         (None, 576)               0         \n",
            "                                                                 \n",
            " dense_4 (Dense)             (None, 256)               147712    \n",
            "                                                                 \n",
            " dropout_10 (Dropout)        (None, 256)               0         \n",
            "                                                                 \n",
            " dense_5 (Dense)             (None, 7)                 1799      \n",
            "                                                                 \n",
            "=================================================================\n",
            "Total params: 316,871\n",
            "Trainable params: 316,871\n",
            "Non-trainable params: 0\n",
            "_________________________________________________________________\n"
          ]
        }
      ]
    },
    {
      "cell_type": "code",
      "source": [
        "checkpointer = ModelCheckpoint(filepath='basemodel.weights.best.hdf5', verbose = 1, save_best_only=True)\n",
        "history3 = model3.fit(x_train,\n",
        "         y_train,\n",
        "         batch_size=64,\n",
        "         epochs=10,\n",
        "         validation_data=(x_valid, y_valid),\n",
        "         callbacks=[checkpointer])"
      ],
      "metadata": {
        "colab": {
          "base_uri": "https://localhost:8080/"
        },
        "id": "P4AyZ8BRu4HY",
        "outputId": "8c86d3b6-75f1-4378-8dbd-cf637d8fa8a2"
      },
      "execution_count": null,
      "outputs": [
        {
          "output_type": "stream",
          "name": "stdout",
          "text": [
            "Epoch 1/10\n",
            "110/110 [==============================] - ETA: 0s - loss: 1.0855 - accuracy: 0.6658\n",
            "Epoch 1: val_loss improved from inf to 1.01518, saving model to basemodel.weights.best.hdf5\n",
            "110/110 [==============================] - 57s 510ms/step - loss: 1.0855 - accuracy: 0.6658 - val_loss: 1.0152 - val_accuracy: 0.6690\n",
            "Epoch 2/10\n",
            "110/110 [==============================] - ETA: 0s - loss: 0.9816 - accuracy: 0.6698\n",
            "Epoch 2: val_loss improved from 1.01518 to 0.94617, saving model to basemodel.weights.best.hdf5\n",
            "110/110 [==============================] - 53s 486ms/step - loss: 0.9816 - accuracy: 0.6698 - val_loss: 0.9462 - val_accuracy: 0.6690\n",
            "Epoch 3/10\n",
            "110/110 [==============================] - ETA: 0s - loss: 0.9391 - accuracy: 0.6695\n",
            "Epoch 3: val_loss improved from 0.94617 to 0.88430, saving model to basemodel.weights.best.hdf5\n",
            "110/110 [==============================] - 50s 456ms/step - loss: 0.9391 - accuracy: 0.6695 - val_loss: 0.8843 - val_accuracy: 0.6740\n",
            "Epoch 4/10\n",
            "110/110 [==============================] - ETA: 0s - loss: 0.8960 - accuracy: 0.6735\n",
            "Epoch 4: val_loss improved from 0.88430 to 0.85920, saving model to basemodel.weights.best.hdf5\n",
            "110/110 [==============================] - 50s 453ms/step - loss: 0.8960 - accuracy: 0.6735 - val_loss: 0.8592 - val_accuracy: 0.6710\n",
            "Epoch 5/10\n",
            "110/110 [==============================] - ETA: 0s - loss: 0.8763 - accuracy: 0.6869\n",
            "Epoch 5: val_loss improved from 0.85920 to 0.82763, saving model to basemodel.weights.best.hdf5\n",
            "110/110 [==============================] - 53s 483ms/step - loss: 0.8763 - accuracy: 0.6869 - val_loss: 0.8276 - val_accuracy: 0.6780\n",
            "Epoch 6/10\n",
            "110/110 [==============================] - ETA: 0s - loss: 0.8603 - accuracy: 0.6883\n",
            "Epoch 6: val_loss did not improve from 0.82763\n",
            "110/110 [==============================] - 49s 443ms/step - loss: 0.8603 - accuracy: 0.6883 - val_loss: 0.8645 - val_accuracy: 0.6820\n",
            "Epoch 7/10\n",
            "110/110 [==============================] - ETA: 0s - loss: 0.8311 - accuracy: 0.6936\n",
            "Epoch 7: val_loss improved from 0.82763 to 0.80888, saving model to basemodel.weights.best.hdf5\n",
            "110/110 [==============================] - 49s 445ms/step - loss: 0.8311 - accuracy: 0.6936 - val_loss: 0.8089 - val_accuracy: 0.6820\n",
            "Epoch 8/10\n",
            "110/110 [==============================] - ETA: 0s - loss: 0.8177 - accuracy: 0.6994\n",
            "Epoch 8: val_loss improved from 0.80888 to 0.80344, saving model to basemodel.weights.best.hdf5\n",
            "110/110 [==============================] - 49s 442ms/step - loss: 0.8177 - accuracy: 0.6994 - val_loss: 0.8034 - val_accuracy: 0.7039\n",
            "Epoch 9/10\n",
            "110/110 [==============================] - ETA: 0s - loss: 0.7953 - accuracy: 0.7024\n",
            "Epoch 9: val_loss improved from 0.80344 to 0.76108, saving model to basemodel.weights.best.hdf5\n",
            "110/110 [==============================] - 53s 479ms/step - loss: 0.7953 - accuracy: 0.7024 - val_loss: 0.7611 - val_accuracy: 0.7099\n",
            "Epoch 10/10\n",
            "110/110 [==============================] - ETA: 0s - loss: 0.7852 - accuracy: 0.7052\n",
            "Epoch 10: val_loss improved from 0.76108 to 0.74925, saving model to basemodel.weights.best.hdf5\n",
            "110/110 [==============================] - 49s 443ms/step - loss: 0.7852 - accuracy: 0.7052 - val_loss: 0.7492 - val_accuracy: 0.7178\n"
          ]
        }
      ]
    },
    {
      "cell_type": "code",
      "source": [
        "prediction = model3.predict(x_test)"
      ],
      "metadata": {
        "id": "lNL8weirioCY"
      },
      "execution_count": null,
      "outputs": []
    },
    {
      "cell_type": "code",
      "source": [
        "pred_3 = np.zeros_like(prediction)\n",
        "pred_3[np.arange(len(prediction)), prediction.argmax(1)] = 1\n",
        "print(pred_3)"
      ],
      "metadata": {
        "colab": {
          "base_uri": "https://localhost:8080/"
        },
        "id": "mkcKlW7-ixC1",
        "outputId": "2bc2ef44-367a-4898-b34c-1a3b004d71ac"
      },
      "execution_count": null,
      "outputs": [
        {
          "output_type": "stream",
          "name": "stdout",
          "text": [
            "[[0. 0. 0. ... 0. 1. 0.]\n",
            " [0. 1. 0. ... 0. 0. 0.]\n",
            " [0. 0. 1. ... 0. 0. 0.]\n",
            " ...\n",
            " [0. 0. 0. ... 0. 1. 0.]\n",
            " [0. 0. 0. ... 0. 1. 0.]\n",
            " [0. 0. 0. ... 0. 1. 0.]]\n"
          ]
        }
      ]
    },
    {
      "cell_type": "code",
      "source": [
        "p3 = [np.argmax(p, axis=None, out=None) for p in pred_3]\n",
        "report3 = classification_report(yt, p3)\n",
        "print(report3)"
      ],
      "metadata": {
        "colab": {
          "base_uri": "https://localhost:8080/"
        },
        "id": "yABtv2rGIVNF",
        "outputId": "733fa478-df1c-419b-8cf8-6383c6f4b1ad"
      },
      "execution_count": null,
      "outputs": [
        {
          "output_type": "stream",
          "name": "stdout",
          "text": [
            "              precision    recall  f1-score   support\n",
            "\n",
            "           0       0.42      0.12      0.19        66\n",
            "           1       0.39      0.43      0.41       103\n",
            "           2       0.52      0.39      0.45       220\n",
            "           3       0.00      0.00      0.00        23\n",
            "           4       0.50      0.05      0.10       223\n",
            "           5       0.76      0.95      0.85      1341\n",
            "           6       0.80      0.28      0.41        29\n",
            "\n",
            "    accuracy                           0.72      2005\n",
            "   macro avg       0.49      0.32      0.34      2005\n",
            "weighted avg       0.67      0.72      0.66      2005\n",
            "\n"
          ]
        },
        {
          "output_type": "stream",
          "name": "stderr",
          "text": [
            "/usr/local/lib/python3.7/dist-packages/sklearn/metrics/_classification.py:1318: UndefinedMetricWarning: Precision and F-score are ill-defined and being set to 0.0 in labels with no predicted samples. Use `zero_division` parameter to control this behavior.\n",
            "  _warn_prf(average, modifier, msg_start, len(result))\n",
            "/usr/local/lib/python3.7/dist-packages/sklearn/metrics/_classification.py:1318: UndefinedMetricWarning: Precision and F-score are ill-defined and being set to 0.0 in labels with no predicted samples. Use `zero_division` parameter to control this behavior.\n",
            "  _warn_prf(average, modifier, msg_start, len(result))\n",
            "/usr/local/lib/python3.7/dist-packages/sklearn/metrics/_classification.py:1318: UndefinedMetricWarning: Precision and F-score are ill-defined and being set to 0.0 in labels with no predicted samples. Use `zero_division` parameter to control this behavior.\n",
            "  _warn_prf(average, modifier, msg_start, len(result))\n"
          ]
        }
      ]
    },
    {
      "cell_type": "code",
      "source": [
        "pd.DataFrame(history3.history).plot(figsize=(8, 5))\n",
        "plt.grid(True)\n",
        "plt.gca().set_ylim(0, 1)\n",
        "plt.show()"
      ],
      "metadata": {
        "colab": {
          "base_uri": "https://localhost:8080/",
          "height": 324
        },
        "id": "rvqMkUlayptH",
        "outputId": "dbce79d3-6a02-44d8-8e77-89f3a971ed66"
      },
      "execution_count": null,
      "outputs": [
        {
          "output_type": "display_data",
          "data": {
            "text/plain": [
              "<Figure size 576x360 with 1 Axes>"
            ],
            "image/png": "[encoded data removed]"
          },
          "metadata": {
            "needs_background": "light"
          }
        }
      ]
    },
    {
      "cell_type": "code",
      "source": [
        "# Load the weights with the best validation accuracy\n",
        "model3.load_weights('basemodel.weights.best.hdf5')\n",
        "\n",
        "# Evaluate the model on test set\n",
        "score = model3.evaluate(x_test, y_test, verbose=0)\n",
        "\n",
        "# Print test accuracy\n",
        "print('\\n', 'Test accuracy:', score[1])"
      ],
      "metadata": {
        "colab": {
          "base_uri": "https://localhost:8080/"
        },
        "id": "Nn7XO23ty0a7",
        "outputId": "ec52d805-dc70-4b74-f94a-6c17bc1ae77a"
      },
      "execution_count": null,
      "outputs": [
        {
          "output_type": "stream",
          "name": "stdout",
          "text": [
            "\n",
            " Test accuracy: 0.7162094712257385\n"
          ]
        }
      ]
    },
    {
      "cell_type": "code",
      "source": [
        "cf_matrix = confusion_matrix(yt, p3)\n",
        "\n",
        "plt.figure(figsize=(6,5))\n",
        "sns.heatmap(cf_matrix, annot=True,cmap=\"Blues\")\n",
        "plt.title('Confusion Matrix')\n",
        "plt.ylabel('Actal Values')\n",
        "plt.xlabel('Predicted Values')\n",
        "plt.show()"
      ],
      "metadata": {
        "id": "TxGRJFPNBBrM",
        "colab": {
          "base_uri": "https://localhost:8080/",
          "height": 350
        },
        "outputId": "a3c6895d-a50a-41b2-c7f3-7853494a777b"
      },
      "execution_count": null,
      "outputs": [
        {
          "output_type": "display_data",
          "data": {
            "text/plain": [
              "<Figure size 432x360 with 2 Axes>"
            ],
            "image/png": "[encoded data removed]"
          },
          "metadata": {
            "needs_background": "light"
          }
        }
      ]
    },
    {
      "cell_type": "code",
      "source": [],
      "metadata": {
        "id": "261eDoLuBBiF"
      },
      "execution_count": null,
      "outputs": []
    },
    {
      "cell_type": "code",
      "source": [
        "# CNN Model 4"
      ],
      "metadata": {
        "id": "Dt_OZJj--YMd"
      },
      "execution_count": null,
      "outputs": []
    },
    {
      "cell_type": "code",
      "source": [
        "model4 = tf.keras.Sequential()\n",
        "\n",
        "# Must define the input shape in the first layer of the neural network\n",
        "model4.add(tf.keras.layers.Conv2D(filters=256, kernel_size=5, padding='same', activation='relu', input_shape=(28,28,3))) \n",
        "model4.add(tf.keras.layers.MaxPooling2D(pool_size=2))\n",
        "model4.add(tf.keras.layers.Dropout(0.25))\n",
        "\n",
        "model4.add(tf.keras.layers.Conv2D(filters=128, kernel_size=3, padding='same', activation='relu'))\n",
        "model4.add(tf.keras.layers.MaxPooling2D(pool_size=2))\n",
        "model4.add(tf.keras.layers.Dropout(0.25))\n",
        "\n",
        "model4.add(tf.keras.layers.Flatten())\n",
        "model4.add(tf.keras.layers.Dense(256, activation='relu'))\n",
        "model4.add(tf.keras.layers.Dropout(0.5))\n",
        "model4.add(tf.keras.layers.Dense(7, activation='softmax'))\n",
        "\n",
        "# Take a look at the model summary\n",
        "model4.summary()\n",
        "\n",
        "model4.compile(loss='categorical_crossentropy',\n",
        "             optimizer='adam',\n",
        "             metrics=['accuracy'])\n",
        "from keras.callbacks import ModelCheckpoint\n",
        "\n",
        "checkpointer = ModelCheckpoint(filepath='model3.weights.best.hdf5', verbose = 1, save_best_only=True)\n",
        "history4 = model4.fit(x_train,\n",
        "         y_train,\n",
        "         batch_size=64,\n",
        "         epochs=10,\n",
        "         validation_data=(x_valid, y_valid),\n",
        "         callbacks=[checkpointer])\n",
        "\n",
        "# Load the weights with the best validation accuracy\n",
        "model4.load_weights('model3.weights.best.hdf5')\n",
        "\n",
        "# Evaluate the model on test set\n",
        "score = model4.evaluate(x_test, y_test, verbose=0)\n",
        "\n",
        "# Print test accuracy\n",
        "print('\\n', 'Test accuracy:', score[1])"
      ],
      "metadata": {
        "colab": {
          "base_uri": "https://localhost:8080/"
        },
        "id": "fxs7i5vN-o5n",
        "outputId": "c45e6220-cf31-415d-bcd2-d3736fd3f5a5"
      },
      "execution_count": null,
      "outputs": [
        {
          "output_type": "stream",
          "name": "stdout",
          "text": [
            "Model: \"sequential_4\"\n",
            "_________________________________________________________________\n",
            " Layer (type)                Output Shape              Param #   \n",
            "=================================================================\n",
            " conv2d_10 (Conv2D)          (None, 28, 28, 256)       19456     \n",
            "                                                                 \n",
            " max_pooling2d_10 (MaxPoolin  (None, 14, 14, 256)      0         \n",
            " g2D)                                                            \n",
            "                                                                 \n",
            " dropout_14 (Dropout)        (None, 14, 14, 256)       0         \n",
            "                                                                 \n",
            " conv2d_11 (Conv2D)          (None, 14, 14, 128)       295040    \n",
            "                                                                 \n",
            " max_pooling2d_11 (MaxPoolin  (None, 7, 7, 128)        0         \n",
            " g2D)                                                            \n",
            "                                                                 \n",
            " dropout_15 (Dropout)        (None, 7, 7, 128)         0         \n",
            "                                                                 \n",
            " flatten_4 (Flatten)         (None, 6272)              0         \n",
            "                                                                 \n",
            " dense_8 (Dense)             (None, 256)               1605888   \n",
            "                                                                 \n",
            " dropout_16 (Dropout)        (None, 256)               0         \n",
            "                                                                 \n",
            " dense_9 (Dense)             (None, 7)                 1799      \n",
            "                                                                 \n",
            "=================================================================\n",
            "Total params: 1,922,183\n",
            "Trainable params: 1,922,183\n",
            "Non-trainable params: 0\n",
            "_________________________________________________________________\n",
            "Epoch 1/10\n",
            "110/110 [==============================] - ETA: 0s - loss: 1.1449 - accuracy: 0.6670\n",
            "Epoch 1: val_loss improved from inf to 1.03024, saving model to model3.weights.best.hdf5\n",
            "110/110 [==============================] - 85s 763ms/step - loss: 1.1449 - accuracy: 0.6670 - val_loss: 1.0302 - val_accuracy: 0.6690\n",
            "Epoch 2/10\n",
            "110/110 [==============================] - ETA: 0s - loss: 0.9853 - accuracy: 0.6699\n",
            "Epoch 2: val_loss improved from 1.03024 to 0.93983, saving model to model3.weights.best.hdf5\n",
            "110/110 [==============================] - 87s 790ms/step - loss: 0.9853 - accuracy: 0.6699 - val_loss: 0.9398 - val_accuracy: 0.6720\n",
            "Epoch 3/10\n",
            "110/110 [==============================] - ETA: 0s - loss: 0.9513 - accuracy: 0.6719\n",
            "Epoch 3: val_loss improved from 0.93983 to 0.91440, saving model to model3.weights.best.hdf5\n",
            "110/110 [==============================] - 82s 749ms/step - loss: 0.9513 - accuracy: 0.6719 - val_loss: 0.9144 - val_accuracy: 0.6740\n",
            "Epoch 4/10\n",
            "110/110 [==============================] - ETA: 0s - loss: 0.9304 - accuracy: 0.6755\n",
            "Epoch 4: val_loss improved from 0.91440 to 0.89123, saving model to model3.weights.best.hdf5\n",
            "110/110 [==============================] - 87s 787ms/step - loss: 0.9304 - accuracy: 0.6755 - val_loss: 0.8912 - val_accuracy: 0.6820\n",
            "Epoch 5/10\n",
            "110/110 [==============================] - ETA: 0s - loss: 0.9122 - accuracy: 0.6763\n",
            "Epoch 5: val_loss improved from 0.89123 to 0.87069, saving model to model3.weights.best.hdf5\n",
            "110/110 [==============================] - 83s 753ms/step - loss: 0.9122 - accuracy: 0.6763 - val_loss: 0.8707 - val_accuracy: 0.6790\n",
            "Epoch 6/10\n",
            "110/110 [==============================] - ETA: 0s - loss: 0.9083 - accuracy: 0.6827\n",
            "Epoch 6: val_loss did not improve from 0.87069\n",
            "110/110 [==============================] - 83s 752ms/step - loss: 0.9083 - accuracy: 0.6827 - val_loss: 0.8808 - val_accuracy: 0.6710\n",
            "Epoch 7/10\n",
            "110/110 [==============================] - ETA: 0s - loss: 0.8820 - accuracy: 0.6836\n",
            "Epoch 7: val_loss improved from 0.87069 to 0.84498, saving model to model3.weights.best.hdf5\n",
            "110/110 [==============================] - 87s 793ms/step - loss: 0.8820 - accuracy: 0.6836 - val_loss: 0.8450 - val_accuracy: 0.6800\n",
            "Epoch 8/10\n",
            "110/110 [==============================] - ETA: 0s - loss: 0.8797 - accuracy: 0.6849\n",
            "Epoch 8: val_loss did not improve from 0.84498\n",
            "110/110 [==============================] - 84s 760ms/step - loss: 0.8797 - accuracy: 0.6849 - val_loss: 0.8480 - val_accuracy: 0.6899\n",
            "Epoch 9/10\n",
            "110/110 [==============================] - ETA: 0s - loss: 0.8683 - accuracy: 0.6867\n",
            "Epoch 9: val_loss improved from 0.84498 to 0.81077, saving model to model3.weights.best.hdf5\n",
            "110/110 [==============================] - 84s 761ms/step - loss: 0.8683 - accuracy: 0.6867 - val_loss: 0.8108 - val_accuracy: 0.6949\n",
            "Epoch 10/10\n",
            "110/110 [==============================] - ETA: 0s - loss: 0.8394 - accuracy: 0.6910\n",
            "Epoch 10: val_loss did not improve from 0.81077\n",
            "110/110 [==============================] - 88s 798ms/step - loss: 0.8394 - accuracy: 0.6910 - val_loss: 0.8208 - val_accuracy: 0.6989\n",
            "\n",
            " Test accuracy: 0.6932668089866638\n"
          ]
        }
      ]
    },
    {
      "cell_type": "code",
      "source": [
        "prediction = model4.predict(x_test)\n",
        "pred_4 = np.zeros_like(prediction)\n",
        "pred_4[np.arange(len(prediction)), prediction.argmax(1)] = 1"
      ],
      "metadata": {
        "id": "apjm5_dcARBA"
      },
      "execution_count": null,
      "outputs": []
    },
    {
      "cell_type": "code",
      "source": [
        "p4 = [np.argmax(p, axis=None, out=None) for p in pred_4]\n",
        "report4 = classification_report(yt, p4)\n",
        "print(report4)"
      ],
      "metadata": {
        "colab": {
          "base_uri": "https://localhost:8080/"
        },
        "id": "aXN6yODwSlof",
        "outputId": "ca2d7716-e6b5-4c44-caa2-b21e75cfde8a"
      },
      "execution_count": null,
      "outputs": [
        {
          "output_type": "stream",
          "name": "stdout",
          "text": [
            "              precision    recall  f1-score   support\n",
            "\n",
            "           0       0.00      0.00      0.00        66\n",
            "           1       0.25      0.03      0.05       103\n",
            "           2       0.33      0.41      0.37       220\n",
            "           3       0.00      0.00      0.00        23\n",
            "           4       1.00      0.00      0.01       223\n",
            "           5       0.75      0.97      0.85      1341\n",
            "           6       0.00      0.00      0.00        29\n",
            "\n",
            "    accuracy                           0.69      2005\n",
            "   macro avg       0.33      0.20      0.18      2005\n",
            "weighted avg       0.66      0.69      0.61      2005\n",
            "\n"
          ]
        },
        {
          "output_type": "stream",
          "name": "stderr",
          "text": [
            "/usr/local/lib/python3.7/dist-packages/sklearn/metrics/_classification.py:1318: UndefinedMetricWarning: Precision and F-score are ill-defined and being set to 0.0 in labels with no predicted samples. Use `zero_division` parameter to control this behavior.\n",
            "  _warn_prf(average, modifier, msg_start, len(result))\n",
            "/usr/local/lib/python3.7/dist-packages/sklearn/metrics/_classification.py:1318: UndefinedMetricWarning: Precision and F-score are ill-defined and being set to 0.0 in labels with no predicted samples. Use `zero_division` parameter to control this behavior.\n",
            "  _warn_prf(average, modifier, msg_start, len(result))\n",
            "/usr/local/lib/python3.7/dist-packages/sklearn/metrics/_classification.py:1318: UndefinedMetricWarning: Precision and F-score are ill-defined and being set to 0.0 in labels with no predicted samples. Use `zero_division` parameter to control this behavior.\n",
            "  _warn_prf(average, modifier, msg_start, len(result))\n"
          ]
        }
      ]
    },
    {
      "cell_type": "code",
      "source": [
        "pd.DataFrame(history4.history).plot(figsize=(8, 5))\n",
        "plt.grid(True)\n",
        "plt.gca().set_ylim(0, 1)\n",
        "plt.show()"
      ],
      "metadata": {
        "colab": {
          "base_uri": "https://localhost:8080/",
          "height": 324
        },
        "id": "HYXoa_p7Aqmn",
        "outputId": "7fad2317-0f9b-4bbb-95d4-636d33189ce2"
      },
      "execution_count": null,
      "outputs": [
        {
          "output_type": "display_data",
          "data": {
            "text/plain": [
              "<Figure size 576x360 with 1 Axes>"
            ],
            "image/png": "[encoded data removed]"
          },
          "metadata": {
            "needs_background": "light"
          }
        }
      ]
    },
    {
      "cell_type": "code",
      "source": [
        "cf_matrix = confusion_matrix(yt, p4)\n",
        "\n",
        "plt.figure(figsize=(6,5))\n",
        "sns.heatmap(cf_matrix, annot=True,cmap=\"Blues\")\n",
        "plt.title('Confusion Matrix')\n",
        "plt.ylabel('Actal Values')\n",
        "plt.xlabel('Predicted Values')\n",
        "plt.show()"
      ],
      "metadata": {
        "id": "l4UgFux7A75P",
        "colab": {
          "base_uri": "https://localhost:8080/",
          "height": 350
        },
        "outputId": "0d3411e8-0f6a-4f8f-a412-0121ec194f77"
      },
      "execution_count": null,
      "outputs": [
        {
          "output_type": "display_data",
          "data": {
            "text/plain": [
              "<Figure size 432x360 with 2 Axes>"
            ],
            "image/png": "[encoded data removed]"
          },
          "metadata": {
            "needs_background": "light"
          }
        }
      ]
    },
    {
      "cell_type": "code",
      "source": [],
      "metadata": {
        "id": "8aH8qp2PA72G"
      },
      "execution_count": null,
      "outputs": []
    },
    {
      "cell_type": "code",
      "source": [
        "# CNN Model 5"
      ],
      "metadata": {
        "id": "LoSXJzDjA7ys"
      },
      "execution_count": null,
      "outputs": []
    },
    {
      "cell_type": "code",
      "source": [
        "model5 = tf.keras.Sequential()\n",
        "\n",
        "# Must define the input shape in the first layer of the neural network\n",
        "model5.add(tf.keras.layers.Conv2D(filters=64, kernel_size=2, padding='same', activation='relu', input_shape=(28,28,3))) \n",
        "model5.add(tf.keras.layers.MaxPooling2D(pool_size=2))\n",
        "model5.add(tf.keras.layers.Dropout(0.25))\n",
        "\n",
        "model5.add(tf.keras.layers.Conv2D(filters=32, kernel_size=2, padding='same', activation='relu'))\n",
        "model5.add(tf.keras.layers.MaxPooling2D(pool_size=2))\n",
        "model5.add(tf.keras.layers.Dropout(0.25))\n",
        "\n",
        "model5.add(tf.keras.layers.Flatten())\n",
        "model5.add(tf.keras.layers.Dense(256, activation='relu'))\n",
        "model5.add(tf.keras.layers.Dropout(0.5))\n",
        "model5.add(tf.keras.layers.Dense(7, activation='softmax'))\n",
        "\n",
        "# Take a look at the model summary\n",
        "model5.summary()\n",
        "model5.compile(loss='categorical_crossentropy',\n",
        "             optimizer='adam',\n",
        "             metrics=['accuracy'])\n",
        "from keras.callbacks import ModelCheckpoint\n",
        "\n",
        "checkpointer = ModelCheckpoint(filepath='model6.weights.best.hdf5', verbose = 1, save_best_only=True)\n",
        "history5 =  model5.fit(x_train,\n",
        "         y_train,\n",
        "         batch_size=64,\n",
        "         epochs=10,\n",
        "         validation_data=(x_valid, y_valid),\n",
        "         callbacks=[checkpointer])\n",
        "\n",
        "# Load the weights with the best validation accuracy\n",
        "model5.load_weights('model6.weights.best.hdf5')\n",
        "\n",
        "# Evaluate the model on test set\n",
        "score = model5.evaluate(x_test, y_test, verbose=0)\n",
        "\n",
        "# Print test accuracy\n",
        "print('\\n', 'Test accuracy:', score[1])"
      ],
      "metadata": {
        "colab": {
          "base_uri": "https://localhost:8080/"
        },
        "id": "wZy-ZFSkA7wH",
        "outputId": "ac880a2e-3c76-42f2-f19e-0d95449210db"
      },
      "execution_count": null,
      "outputs": [
        {
          "output_type": "stream",
          "name": "stdout",
          "text": [
            "Model: \"sequential_5\"\n",
            "_________________________________________________________________\n",
            " Layer (type)                Output Shape              Param #   \n",
            "=================================================================\n",
            " conv2d_12 (Conv2D)          (None, 28, 28, 64)        832       \n",
            "                                                                 \n",
            " max_pooling2d_12 (MaxPoolin  (None, 14, 14, 64)       0         \n",
            " g2D)                                                            \n",
            "                                                                 \n",
            " dropout_17 (Dropout)        (None, 14, 14, 64)        0         \n",
            "                                                                 \n",
            " conv2d_13 (Conv2D)          (None, 14, 14, 32)        8224      \n",
            "                                                                 \n",
            " max_pooling2d_13 (MaxPoolin  (None, 7, 7, 32)         0         \n",
            " g2D)                                                            \n",
            "                                                                 \n",
            " dropout_18 (Dropout)        (None, 7, 7, 32)          0         \n",
            "                                                                 \n",
            " flatten_5 (Flatten)         (None, 1568)              0         \n",
            "                                                                 \n",
            " dense_10 (Dense)            (None, 256)               401664    \n",
            "                                                                 \n",
            " dropout_19 (Dropout)        (None, 256)               0         \n",
            "                                                                 \n",
            " dense_11 (Dense)            (None, 7)                 1799      \n",
            "                                                                 \n",
            "=================================================================\n",
            "Total params: 412,519\n",
            "Trainable params: 412,519\n",
            "Non-trainable params: 0\n",
            "_________________________________________________________________\n",
            "Epoch 1/10\n",
            "110/110 [==============================] - ETA: 0s - loss: 1.0988 - accuracy: 0.6635\n",
            "Epoch 1: val_loss improved from inf to 1.13069, saving model to model6.weights.best.hdf5\n",
            "110/110 [==============================] - 11s 92ms/step - loss: 1.0988 - accuracy: 0.6635 - val_loss: 1.1307 - val_accuracy: 0.6690\n",
            "Epoch 2/10\n",
            "109/110 [============================>.] - ETA: 0s - loss: 0.9689 - accuracy: 0.6709\n",
            "Epoch 2: val_loss improved from 1.13069 to 0.98767, saving model to model6.weights.best.hdf5\n",
            "110/110 [==============================] - 10s 92ms/step - loss: 0.9692 - accuracy: 0.6705 - val_loss: 0.9877 - val_accuracy: 0.6710\n",
            "Epoch 3/10\n",
            "110/110 [==============================] - ETA: 0s - loss: 0.9242 - accuracy: 0.6710\n",
            "Epoch 3: val_loss improved from 0.98767 to 0.88989, saving model to model6.weights.best.hdf5\n",
            "110/110 [==============================] - 10s 90ms/step - loss: 0.9242 - accuracy: 0.6710 - val_loss: 0.8899 - val_accuracy: 0.6889\n",
            "Epoch 4/10\n",
            "109/110 [============================>.] - ETA: 0s - loss: 0.8879 - accuracy: 0.6799\n",
            "Epoch 4: val_loss improved from 0.88989 to 0.86154, saving model to model6.weights.best.hdf5\n",
            "110/110 [==============================] - 10s 89ms/step - loss: 0.8870 - accuracy: 0.6799 - val_loss: 0.8615 - val_accuracy: 0.6790\n",
            "Epoch 5/10\n",
            "109/110 [============================>.] - ETA: 0s - loss: 0.8654 - accuracy: 0.6892\n",
            "Epoch 5: val_loss did not improve from 0.86154\n",
            "110/110 [==============================] - 10s 90ms/step - loss: 0.8654 - accuracy: 0.6893 - val_loss: 0.8706 - val_accuracy: 0.6999\n",
            "Epoch 6/10\n",
            "109/110 [============================>.] - ETA: 0s - loss: 0.8486 - accuracy: 0.6978\n",
            "Epoch 6: val_loss improved from 0.86154 to 0.82665, saving model to model6.weights.best.hdf5\n",
            "110/110 [==============================] - 10s 89ms/step - loss: 0.8477 - accuracy: 0.6983 - val_loss: 0.8267 - val_accuracy: 0.6969\n",
            "Epoch 7/10\n",
            "109/110 [============================>.] - ETA: 0s - loss: 0.8254 - accuracy: 0.6962\n",
            "Epoch 7: val_loss improved from 0.82665 to 0.78633, saving model to model6.weights.best.hdf5\n",
            "110/110 [==============================] - 10s 89ms/step - loss: 0.8260 - accuracy: 0.6960 - val_loss: 0.7863 - val_accuracy: 0.7019\n",
            "Epoch 8/10\n",
            "109/110 [============================>.] - ETA: 0s - loss: 0.8072 - accuracy: 0.6977\n",
            "Epoch 8: val_loss did not improve from 0.78633\n",
            "110/110 [==============================] - 10s 88ms/step - loss: 0.8069 - accuracy: 0.6977 - val_loss: 0.8277 - val_accuracy: 0.7019\n",
            "Epoch 9/10\n",
            "109/110 [============================>.] - ETA: 0s - loss: 0.7979 - accuracy: 0.7056\n",
            "Epoch 9: val_loss improved from 0.78633 to 0.76791, saving model to model6.weights.best.hdf5\n",
            "110/110 [==============================] - 10s 89ms/step - loss: 0.7983 - accuracy: 0.7054 - val_loss: 0.7679 - val_accuracy: 0.7139\n",
            "Epoch 10/10\n",
            "110/110 [==============================] - ETA: 0s - loss: 0.7746 - accuracy: 0.7101\n",
            "Epoch 10: val_loss improved from 0.76791 to 0.75153, saving model to model6.weights.best.hdf5\n",
            "110/110 [==============================] - 10s 89ms/step - loss: 0.7746 - accuracy: 0.7101 - val_loss: 0.7515 - val_accuracy: 0.7168\n",
            "\n",
            " Test accuracy: 0.7172069549560547\n"
          ]
        }
      ]
    },
    {
      "cell_type": "code",
      "source": [
        "prediction = model5.predict(x_test)\n",
        "pred_5 = np.zeros_like(prediction)\n",
        "pred_5[np.arange(len(prediction)), prediction.argmax(1)] = 1"
      ],
      "metadata": {
        "id": "0f5kAu-_A7ta"
      },
      "execution_count": null,
      "outputs": []
    },
    {
      "cell_type": "code",
      "source": [
        "p5 = [np.argmax(p, axis=None, out=None) for p in pred_5]\n",
        "report5 = classification_report(yt, p5)\n",
        "print(report5)"
      ],
      "metadata": {
        "colab": {
          "base_uri": "https://localhost:8080/"
        },
        "id": "uyo4pRAsZg8U",
        "outputId": "17135096-3a95-4da6-bcc9-d7869a43bc93"
      },
      "execution_count": null,
      "outputs": [
        {
          "output_type": "stream",
          "name": "stdout",
          "text": [
            "              precision    recall  f1-score   support\n",
            "\n",
            "           0       0.43      0.14      0.21        66\n",
            "           1       0.42      0.29      0.34       103\n",
            "           2       0.47      0.43      0.45       220\n",
            "           3       0.00      0.00      0.00        23\n",
            "           4       0.33      0.04      0.07       223\n",
            "           5       0.77      0.96      0.85      1341\n",
            "           6       0.74      0.48      0.58        29\n",
            "\n",
            "    accuracy                           0.72      2005\n",
            "   macro avg       0.45      0.33      0.36      2005\n",
            "weighted avg       0.65      0.72      0.66      2005\n",
            "\n"
          ]
        },
        {
          "output_type": "stream",
          "name": "stderr",
          "text": [
            "/usr/local/lib/python3.7/dist-packages/sklearn/metrics/_classification.py:1318: UndefinedMetricWarning: Precision and F-score are ill-defined and being set to 0.0 in labels with no predicted samples. Use `zero_division` parameter to control this behavior.\n",
            "  _warn_prf(average, modifier, msg_start, len(result))\n",
            "/usr/local/lib/python3.7/dist-packages/sklearn/metrics/_classification.py:1318: UndefinedMetricWarning: Precision and F-score are ill-defined and being set to 0.0 in labels with no predicted samples. Use `zero_division` parameter to control this behavior.\n",
            "  _warn_prf(average, modifier, msg_start, len(result))\n",
            "/usr/local/lib/python3.7/dist-packages/sklearn/metrics/_classification.py:1318: UndefinedMetricWarning: Precision and F-score are ill-defined and being set to 0.0 in labels with no predicted samples. Use `zero_division` parameter to control this behavior.\n",
            "  _warn_prf(average, modifier, msg_start, len(result))\n"
          ]
        }
      ]
    },
    {
      "cell_type": "code",
      "source": [
        "pd.DataFrame(history5.history).plot(figsize=(8, 5))\n",
        "plt.grid(True)\n",
        "plt.gca().set_ylim(0, 1)\n",
        "plt.show()"
      ],
      "metadata": {
        "colab": {
          "base_uri": "https://localhost:8080/",
          "height": 324
        },
        "id": "tSxBqp6zA7dW",
        "outputId": "1647255f-63cd-482a-d76a-fb2a71e6a8f6"
      },
      "execution_count": null,
      "outputs": [
        {
          "output_type": "display_data",
          "data": {
            "text/plain": [
              "<Figure size 576x360 with 1 Axes>"
            ],
            "image/png": "[encoded data removed]"
          },
          "metadata": {
            "needs_background": "light"
          }
        }
      ]
    },
    {
      "cell_type": "code",
      "source": [
        "cf_matrix = confusion_matrix(yt, p5)\n",
        "\n",
        "plt.figure(figsize=(6,5))\n",
        "sns.heatmap(cf_matrix, annot=True,cmap=\"Blues\")\n",
        "plt.title('Confusion Matrix')\n",
        "plt.ylabel('Actal Values')\n",
        "plt.xlabel('Predicted Values')\n",
        "plt.show()"
      ],
      "metadata": {
        "colab": {
          "base_uri": "https://localhost:8080/",
          "height": 350
        },
        "id": "IeYX_hNBqNmj",
        "outputId": "40fa17b4-0e60-4e75-a538-43681b6b387e"
      },
      "execution_count": null,
      "outputs": [
        {
          "output_type": "display_data",
          "data": {
            "text/plain": [
              "<Figure size 432x360 with 2 Axes>"
            ],
            "image/png": "[encoded data removed]"
          },
          "metadata": {
            "needs_background": "light"
          }
        }
      ]
    },
    {
      "cell_type": "code",
      "source": [],
      "metadata": {
        "id": "UawJYi1uqNio"
      },
      "execution_count": null,
      "outputs": []
    },
    {
      "cell_type": "code",
      "source": [
        "# CNN Model 6"
      ],
      "metadata": {
        "id": "KRwjehk6qNe1"
      },
      "execution_count": null,
      "outputs": []
    },
    {
      "cell_type": "code",
      "source": [
        "model6 = tf.keras.Sequential()\n",
        "\n",
        "# Must define the input shape in the first layer of the neural network\n",
        "model6.add(tf.keras.layers.Conv2D(filters=32, kernel_size=2, padding='same', activation='relu', input_shape=(28,28,3))) \n",
        "model6.add(tf.keras.layers.MaxPooling2D(pool_size=2))\n",
        "model6.add(tf.keras.layers.Dropout(0.3))\n",
        "\n",
        "model6.add(tf.keras.layers.Conv2D(filters=32, kernel_size=2, padding='same', activation='relu'))\n",
        "model6.add(tf.keras.layers.MaxPooling2D(pool_size=2))\n",
        "model6.add(tf.keras.layers.Dropout(0.3))\n",
        "\n",
        "model6.add(tf.keras.layers.Flatten())\n",
        "model6.add(tf.keras.layers.Dense(256, activation='relu'))\n",
        "model6.add(tf.keras.layers.Dropout(0.5))\n",
        "model6.add(tf.keras.layers.Dense(7, activation='softmax'))"
      ],
      "metadata": {
        "id": "EinSJDwCqNa9"
      },
      "execution_count": null,
      "outputs": []
    },
    {
      "cell_type": "code",
      "source": [
        "# Take a look at the model summary\n",
        "model6.summary()\n",
        "model6.compile(loss='categorical_crossentropy',\n",
        "             optimizer='adam',\n",
        "             metrics=['accuracy'])\n",
        "from keras.callbacks import ModelCheckpoint\n",
        "\n",
        "checkpointer = ModelCheckpoint(filepath='model6.weights.best.hdf5', verbose = 1, save_best_only=True)\n",
        "history6 =  model6.fit(x_train,\n",
        "         y_train,\n",
        "         batch_size=64,\n",
        "         epochs=10,\n",
        "         validation_data=(x_valid, y_valid),\n",
        "         callbacks=[checkpointer])\n",
        "\n",
        "# Load the weights with the best validation accuracy\n",
        "model6.load_weights('model6.weights.best.hdf5')\n",
        "\n",
        "# Evaluate the model on test set\n",
        "score = model6.evaluate(x_test, y_test, verbose=0)\n",
        "\n",
        "# Print test accuracy\n",
        "print('\\n', 'Test accuracy:', score[1])"
      ],
      "metadata": {
        "colab": {
          "base_uri": "https://localhost:8080/"
        },
        "id": "j5EooTtTqUta",
        "outputId": "1f32a99e-303b-492c-e27a-399bf7c00bf0"
      },
      "execution_count": null,
      "outputs": [
        {
          "output_type": "stream",
          "name": "stdout",
          "text": [
            "Model: \"sequential_6\"\n",
            "_________________________________________________________________\n",
            " Layer (type)                Output Shape              Param #   \n",
            "=================================================================\n",
            " conv2d_14 (Conv2D)          (None, 28, 28, 32)        416       \n",
            "                                                                 \n",
            " max_pooling2d_14 (MaxPoolin  (None, 14, 14, 32)       0         \n",
            " g2D)                                                            \n",
            "                                                                 \n",
            " dropout_20 (Dropout)        (None, 14, 14, 32)        0         \n",
            "                                                                 \n",
            " conv2d_15 (Conv2D)          (None, 14, 14, 32)        4128      \n",
            "                                                                 \n",
            " max_pooling2d_15 (MaxPoolin  (None, 7, 7, 32)         0         \n",
            " g2D)                                                            \n",
            "                                                                 \n",
            " dropout_21 (Dropout)        (None, 7, 7, 32)          0         \n",
            "                                                                 \n",
            " flatten_6 (Flatten)         (None, 1568)              0         \n",
            "                                                                 \n",
            " dense_12 (Dense)            (None, 256)               401664    \n",
            "                                                                 \n",
            " dropout_22 (Dropout)        (None, 256)               0         \n",
            "                                                                 \n",
            " dense_13 (Dense)            (None, 7)                 1799      \n",
            "                                                                 \n",
            "=================================================================\n",
            "Total params: 408,007\n",
            "Trainable params: 408,007\n",
            "Non-trainable params: 0\n",
            "_________________________________________________________________\n",
            "Epoch 1/10\n",
            "109/110 [============================>.] - ETA: 0s - loss: 1.0961 - accuracy: 0.6649\n",
            "Epoch 1: val_loss improved from inf to 1.19744, saving model to model6.weights.best.hdf5\n",
            "110/110 [==============================] - 8s 64ms/step - loss: 1.0959 - accuracy: 0.6649 - val_loss: 1.1974 - val_accuracy: 0.6690\n",
            "Epoch 2/10\n",
            "109/110 [============================>.] - ETA: 0s - loss: 0.9864 - accuracy: 0.6703\n",
            "Epoch 2: val_loss improved from 1.19744 to 1.07178, saving model to model6.weights.best.hdf5\n",
            "110/110 [==============================] - 14s 130ms/step - loss: 0.9873 - accuracy: 0.6699 - val_loss: 1.0718 - val_accuracy: 0.6690\n",
            "Epoch 3/10\n",
            "109/110 [============================>.] - ETA: 0s - loss: 0.9469 - accuracy: 0.6712\n",
            "Epoch 3: val_loss improved from 1.07178 to 0.96138, saving model to model6.weights.best.hdf5\n",
            "110/110 [==============================] - 7s 63ms/step - loss: 0.9468 - accuracy: 0.6710 - val_loss: 0.9614 - val_accuracy: 0.6859\n",
            "Epoch 4/10\n",
            "109/110 [============================>.] - ETA: 0s - loss: 0.9150 - accuracy: 0.6717\n",
            "Epoch 4: val_loss improved from 0.96138 to 0.94117, saving model to model6.weights.best.hdf5\n",
            "110/110 [==============================] - 8s 71ms/step - loss: 0.9141 - accuracy: 0.6722 - val_loss: 0.9412 - val_accuracy: 0.6889\n",
            "Epoch 5/10\n",
            "109/110 [============================>.] - ETA: 0s - loss: 0.8888 - accuracy: 0.6812\n",
            "Epoch 5: val_loss improved from 0.94117 to 0.87509, saving model to model6.weights.best.hdf5\n",
            "110/110 [==============================] - 9s 84ms/step - loss: 0.8870 - accuracy: 0.6817 - val_loss: 0.8751 - val_accuracy: 0.6849\n",
            "Epoch 6/10\n",
            "110/110 [==============================] - ETA: 0s - loss: 0.8745 - accuracy: 0.6885\n",
            "Epoch 6: val_loss did not improve from 0.87509\n",
            "110/110 [==============================] - 10s 94ms/step - loss: 0.8745 - accuracy: 0.6885 - val_loss: 0.8928 - val_accuracy: 0.7009\n",
            "Epoch 7/10\n",
            "109/110 [============================>.] - ETA: 0s - loss: 0.8550 - accuracy: 0.6897\n",
            "Epoch 7: val_loss did not improve from 0.87509\n",
            "110/110 [==============================] - 9s 85ms/step - loss: 0.8548 - accuracy: 0.6897 - val_loss: 0.8801 - val_accuracy: 0.7089\n",
            "Epoch 8/10\n",
            "109/110 [============================>.] - ETA: 0s - loss: 0.8322 - accuracy: 0.6987\n",
            "Epoch 8: val_loss improved from 0.87509 to 0.86983, saving model to model6.weights.best.hdf5\n",
            "110/110 [==============================] - 7s 61ms/step - loss: 0.8316 - accuracy: 0.6987 - val_loss: 0.8698 - val_accuracy: 0.6989\n",
            "Epoch 9/10\n",
            "109/110 [============================>.] - ETA: 0s - loss: 0.8213 - accuracy: 0.7020\n",
            "Epoch 9: val_loss improved from 0.86983 to 0.80985, saving model to model6.weights.best.hdf5\n",
            "110/110 [==============================] - 7s 60ms/step - loss: 0.8216 - accuracy: 0.7020 - val_loss: 0.8098 - val_accuracy: 0.7029\n",
            "Epoch 10/10\n",
            "109/110 [============================>.] - ETA: 0s - loss: 0.8210 - accuracy: 0.6978\n",
            "Epoch 10: val_loss did not improve from 0.80985\n",
            "110/110 [==============================] - 7s 67ms/step - loss: 0.8215 - accuracy: 0.6976 - val_loss: 0.8600 - val_accuracy: 0.7079\n",
            "\n",
            " Test accuracy: 0.7002493739128113\n"
          ]
        }
      ]
    },
    {
      "cell_type": "code",
      "source": [
        "prediction = model6.predict(x_test)\n",
        "pred_6 = np.zeros_like(prediction)\n",
        "pred_6[np.arange(len(prediction)), prediction.argmax(1)] = 1"
      ],
      "metadata": {
        "id": "HxRprki6Ea6m"
      },
      "execution_count": null,
      "outputs": []
    },
    {
      "cell_type": "code",
      "source": [
        "p6 = [np.argmax(p, axis=None, out=None) for p in pred_6]\n",
        "report6 = classification_report(yt, p6)\n",
        "print(report6)"
      ],
      "metadata": {
        "colab": {
          "base_uri": "https://localhost:8080/"
        },
        "id": "LR6KOS-TqiLU",
        "outputId": "af069db3-9c3f-409a-c4a0-44f88f66bb19"
      },
      "execution_count": null,
      "outputs": [
        {
          "output_type": "stream",
          "name": "stdout",
          "text": [
            "              precision    recall  f1-score   support\n",
            "\n",
            "           0       0.67      0.03      0.06        66\n",
            "           1       0.37      0.20      0.26       103\n",
            "           2       0.38      0.41      0.39       220\n",
            "           3       0.00      0.00      0.00        23\n",
            "           4       0.50      0.02      0.04       223\n",
            "           5       0.76      0.96      0.85      1341\n",
            "           6       0.00      0.00      0.00        29\n",
            "\n",
            "    accuracy                           0.70      2005\n",
            "   macro avg       0.38      0.23      0.23      2005\n",
            "weighted avg       0.64      0.70      0.63      2005\n",
            "\n"
          ]
        },
        {
          "output_type": "stream",
          "name": "stderr",
          "text": [
            "/usr/local/lib/python3.7/dist-packages/sklearn/metrics/_classification.py:1318: UndefinedMetricWarning: Precision and F-score are ill-defined and being set to 0.0 in labels with no predicted samples. Use `zero_division` parameter to control this behavior.\n",
            "  _warn_prf(average, modifier, msg_start, len(result))\n",
            "/usr/local/lib/python3.7/dist-packages/sklearn/metrics/_classification.py:1318: UndefinedMetricWarning: Precision and F-score are ill-defined and being set to 0.0 in labels with no predicted samples. Use `zero_division` parameter to control this behavior.\n",
            "  _warn_prf(average, modifier, msg_start, len(result))\n",
            "/usr/local/lib/python3.7/dist-packages/sklearn/metrics/_classification.py:1318: UndefinedMetricWarning: Precision and F-score are ill-defined and being set to 0.0 in labels with no predicted samples. Use `zero_division` parameter to control this behavior.\n",
            "  _warn_prf(average, modifier, msg_start, len(result))\n"
          ]
        }
      ]
    },
    {
      "cell_type": "code",
      "source": [
        "pd.DataFrame(history6.history).plot(figsize=(8, 5))\n",
        "plt.grid(True)\n",
        "plt.gca().set_ylim(0, 1)\n",
        "plt.show()"
      ],
      "metadata": {
        "colab": {
          "base_uri": "https://localhost:8080/",
          "height": 324
        },
        "id": "iCb5c56kqlr_",
        "outputId": "d388666b-faba-45ea-94e6-4b32338f0cba"
      },
      "execution_count": null,
      "outputs": [
        {
          "output_type": "display_data",
          "data": {
            "text/plain": [
              "<Figure size 576x360 with 1 Axes>"
            ],
            "image/png": "[encoded data removed]"
          },
          "metadata": {
            "needs_background": "light"
          }
        }
      ]
    },
    {
      "cell_type": "code",
      "source": [
        "cf_matrix = confusion_matrix(yt, p6)\n",
        "\n",
        "plt.figure(figsize=(6,5))\n",
        "sns.heatmap(cf_matrix, annot=True,cmap=\"Blues\")\n",
        "plt.title('Confusion Matrix')\n",
        "plt.ylabel('Actal Values')\n",
        "plt.xlabel('Predicted Values')\n",
        "plt.show()"
      ],
      "metadata": {
        "colab": {
          "base_uri": "https://localhost:8080/",
          "height": 350
        },
        "id": "-l6czQzgsI2a",
        "outputId": "174f6ecc-e207-487b-e73d-4dc9c67c297b"
      },
      "execution_count": null,
      "outputs": [
        {
          "output_type": "display_data",
          "data": {
            "text/plain": [
              "<Figure size 432x360 with 2 Axes>"
            ],
            "image/png": "[encoded data removed]"
          },
          "metadata": {
            "needs_background": "light"
          }
        }
      ]
    },
    {
      "cell_type": "code",
      "source": [],
      "metadata": {
        "id": "oCWwJvxWsIy6"
      },
      "execution_count": null,
      "outputs": []
    },
    {
      "cell_type": "code",
      "source": [
        "# CNN Model 7"
      ],
      "metadata": {
        "id": "vAjSg3r1sIvP"
      },
      "execution_count": null,
      "outputs": []
    },
    {
      "cell_type": "code",
      "source": [
        "model7 = tf.keras.Sequential()\n",
        "\n",
        "# Must define the input shape in the first layer of the neural network\n",
        "model7.add(tf.keras.layers.Conv2D(filters=16, kernel_size=2, padding='same', activation='relu', input_shape=(28,28,3))) \n",
        "model7.add(tf.keras.layers.MaxPooling2D(pool_size=2))\n",
        "model7.add(tf.keras.layers.Dropout(0.3))\n",
        "\n",
        "model7.add(tf.keras.layers.Flatten())\n",
        "model7.add(tf.keras.layers.Dense(256, activation='relu'))\n",
        "model7.add(tf.keras.layers.Dropout(0.5))\n",
        "model7.add(tf.keras.layers.Dense(7, activation='softmax'))"
      ],
      "metadata": {
        "id": "_IKD-UieqmtD"
      },
      "execution_count": null,
      "outputs": []
    },
    {
      "cell_type": "code",
      "source": [
        "model7.summary()\n",
        "model7.compile(loss='categorical_crossentropy',\n",
        "             optimizer='adam',\n",
        "             metrics=['accuracy'])\n",
        "from keras.callbacks import ModelCheckpoint\n",
        "\n",
        "checkpointer = ModelCheckpoint(filepath='model7.weights.best.hdf5', verbose = 1, save_best_only=True)\n",
        "history7 =  model7.fit(x_train,\n",
        "         y_train,\n",
        "         batch_size=64,\n",
        "         epochs=10,\n",
        "         validation_data=(x_valid, y_valid),\n",
        "         callbacks=[checkpointer])\n",
        "\n",
        "# Load the weights with the best validation accuracy\n",
        "model7.load_weights('model7.weights.best.hdf5')\n",
        "\n",
        "# Evaluate the model on test set\n",
        "score = model7.evaluate(x_test, y_test, verbose=0)\n",
        "\n",
        "# Print test accuracy\n",
        "print('\\n', 'Test accuracy:', score[1])"
      ],
      "metadata": {
        "colab": {
          "base_uri": "https://localhost:8080/"
        },
        "id": "u5GjtVUssUKI",
        "outputId": "29041fc2-b470-412a-8849-7c77dc98475d"
      },
      "execution_count": null,
      "outputs": [
        {
          "output_type": "stream",
          "name": "stdout",
          "text": [
            "Model: \"sequential_7\"\n",
            "_________________________________________________________________\n",
            " Layer (type)                Output Shape              Param #   \n",
            "=================================================================\n",
            " conv2d_16 (Conv2D)          (None, 28, 28, 16)        208       \n",
            "                                                                 \n",
            " max_pooling2d_16 (MaxPoolin  (None, 14, 14, 16)       0         \n",
            " g2D)                                                            \n",
            "                                                                 \n",
            " dropout_23 (Dropout)        (None, 14, 14, 16)        0         \n",
            "                                                                 \n",
            " flatten_7 (Flatten)         (None, 3136)              0         \n",
            "                                                                 \n",
            " dense_14 (Dense)            (None, 256)               803072    \n",
            "                                                                 \n",
            " dropout_24 (Dropout)        (None, 256)               0         \n",
            "                                                                 \n",
            " dense_15 (Dense)            (None, 7)                 1799      \n",
            "                                                                 \n",
            "=================================================================\n",
            "Total params: 805,079\n",
            "Trainable params: 805,079\n",
            "Non-trainable params: 0\n",
            "_________________________________________________________________\n",
            "Epoch 1/10\n",
            "110/110 [==============================] - ETA: 0s - loss: 1.0724 - accuracy: 0.6602\n",
            "Epoch 1: val_loss improved from inf to 0.96152, saving model to model7.weights.best.hdf5\n",
            "110/110 [==============================] - 5s 38ms/step - loss: 1.0724 - accuracy: 0.6602 - val_loss: 0.9615 - val_accuracy: 0.6690\n",
            "Epoch 2/10\n",
            "109/110 [============================>.] - ETA: 0s - loss: 0.9623 - accuracy: 0.6697\n",
            "Epoch 2: val_loss improved from 0.96152 to 0.92274, saving model to model7.weights.best.hdf5\n",
            "110/110 [==============================] - 4s 35ms/step - loss: 0.9627 - accuracy: 0.6695 - val_loss: 0.9227 - val_accuracy: 0.6690\n",
            "Epoch 3/10\n",
            "109/110 [============================>.] - ETA: 0s - loss: 0.9166 - accuracy: 0.6719\n",
            "Epoch 3: val_loss improved from 0.92274 to 0.86826, saving model to model7.weights.best.hdf5\n",
            "110/110 [==============================] - 4s 40ms/step - loss: 0.9149 - accuracy: 0.6728 - val_loss: 0.8683 - val_accuracy: 0.6690\n",
            "Epoch 4/10\n",
            "109/110 [============================>.] - ETA: 0s - loss: 0.8819 - accuracy: 0.6770\n",
            "Epoch 4: val_loss improved from 0.86826 to 0.84500, saving model to model7.weights.best.hdf5\n",
            "110/110 [==============================] - 4s 36ms/step - loss: 0.8813 - accuracy: 0.6773 - val_loss: 0.8450 - val_accuracy: 0.6710\n",
            "Epoch 5/10\n",
            "109/110 [============================>.] - ETA: 0s - loss: 0.8511 - accuracy: 0.6843\n",
            "Epoch 5: val_loss improved from 0.84500 to 0.81527, saving model to model7.weights.best.hdf5\n",
            "110/110 [==============================] - 4s 36ms/step - loss: 0.8518 - accuracy: 0.6839 - val_loss: 0.8153 - val_accuracy: 0.6830\n",
            "Epoch 6/10\n",
            "109/110 [============================>.] - ETA: 0s - loss: 0.8277 - accuracy: 0.6914\n",
            "Epoch 6: val_loss improved from 0.81527 to 0.79298, saving model to model7.weights.best.hdf5\n",
            "110/110 [==============================] - 4s 36ms/step - loss: 0.8286 - accuracy: 0.6912 - val_loss: 0.7930 - val_accuracy: 0.7079\n",
            "Epoch 7/10\n",
            "110/110 [==============================] - ETA: 0s - loss: 0.8038 - accuracy: 0.6993\n",
            "Epoch 7: val_loss improved from 0.79298 to 0.76609, saving model to model7.weights.best.hdf5\n",
            "110/110 [==============================] - 5s 43ms/step - loss: 0.8038 - accuracy: 0.6993 - val_loss: 0.7661 - val_accuracy: 0.7019\n",
            "Epoch 8/10\n",
            "110/110 [==============================] - ETA: 0s - loss: 0.8002 - accuracy: 0.7029\n",
            "Epoch 8: val_loss did not improve from 0.76609\n",
            "110/110 [==============================] - 5s 42ms/step - loss: 0.8002 - accuracy: 0.7029 - val_loss: 0.7673 - val_accuracy: 0.6949\n",
            "Epoch 9/10\n",
            "109/110 [============================>.] - ETA: 0s - loss: 0.7864 - accuracy: 0.7104\n",
            "Epoch 9: val_loss improved from 0.76609 to 0.76175, saving model to model7.weights.best.hdf5\n",
            "110/110 [==============================] - 4s 36ms/step - loss: 0.7866 - accuracy: 0.7107 - val_loss: 0.7618 - val_accuracy: 0.6989\n",
            "Epoch 10/10\n",
            "110/110 [==============================] - ETA: 0s - loss: 0.7714 - accuracy: 0.7114\n",
            "Epoch 10: val_loss improved from 0.76175 to 0.74259, saving model to model7.weights.best.hdf5\n",
            "110/110 [==============================] - 5s 44ms/step - loss: 0.7714 - accuracy: 0.7114 - val_loss: 0.7426 - val_accuracy: 0.7159\n",
            "\n",
            " Test accuracy: 0.7177057266235352\n"
          ]
        }
      ]
    },
    {
      "cell_type": "code",
      "source": [
        "prediction = model7.predict(x_test)\n",
        "pred_7 = np.zeros_like(prediction)\n",
        "pred_7[np.arange(len(prediction)), prediction.argmax(1)] = 1"
      ],
      "metadata": {
        "id": "ffpOeBQXsb_n"
      },
      "execution_count": null,
      "outputs": []
    },
    {
      "cell_type": "code",
      "source": [
        "p7 = [np.argmax(p, axis=None, out=None) for p in pred_7]\n",
        "report7 = classification_report(yt, p7)\n",
        "print(report7)"
      ],
      "metadata": {
        "colab": {
          "base_uri": "https://localhost:8080/"
        },
        "id": "weNKrgO5sxAv",
        "outputId": "218f367d-7897-456f-8e69-e3787e935c58"
      },
      "execution_count": null,
      "outputs": [
        {
          "output_type": "stream",
          "name": "stdout",
          "text": [
            "              precision    recall  f1-score   support\n",
            "\n",
            "           0       0.33      0.02      0.03        66\n",
            "           1       0.38      0.47      0.42       103\n",
            "           2       0.50      0.33      0.40       220\n",
            "           3       0.00      0.00      0.00        23\n",
            "           4       0.57      0.05      0.10       223\n",
            "           5       0.76      0.97      0.85      1341\n",
            "           6       0.70      0.24      0.36        29\n",
            "\n",
            "    accuracy                           0.72      2005\n",
            "   macro avg       0.46      0.30      0.31      2005\n",
            "weighted avg       0.67      0.72      0.65      2005\n",
            "\n"
          ]
        },
        {
          "output_type": "stream",
          "name": "stderr",
          "text": [
            "/usr/local/lib/python3.7/dist-packages/sklearn/metrics/_classification.py:1318: UndefinedMetricWarning: Precision and F-score are ill-defined and being set to 0.0 in labels with no predicted samples. Use `zero_division` parameter to control this behavior.\n",
            "  _warn_prf(average, modifier, msg_start, len(result))\n",
            "/usr/local/lib/python3.7/dist-packages/sklearn/metrics/_classification.py:1318: UndefinedMetricWarning: Precision and F-score are ill-defined and being set to 0.0 in labels with no predicted samples. Use `zero_division` parameter to control this behavior.\n",
            "  _warn_prf(average, modifier, msg_start, len(result))\n",
            "/usr/local/lib/python3.7/dist-packages/sklearn/metrics/_classification.py:1318: UndefinedMetricWarning: Precision and F-score are ill-defined and being set to 0.0 in labels with no predicted samples. Use `zero_division` parameter to control this behavior.\n",
            "  _warn_prf(average, modifier, msg_start, len(result))\n"
          ]
        }
      ]
    },
    {
      "cell_type": "code",
      "source": [
        "pd.DataFrame(history7.history).plot(figsize=(8, 5))\n",
        "plt.grid(True)\n",
        "plt.gca().set_ylim(0, 1)\n",
        "plt.show()"
      ],
      "metadata": {
        "colab": {
          "base_uri": "https://localhost:8080/",
          "height": 324
        },
        "id": "lg7aY3Nos2uV",
        "outputId": "c30d35e9-cdf1-4649-bdad-e110cb69b196"
      },
      "execution_count": null,
      "outputs": [
        {
          "output_type": "display_data",
          "data": {
            "text/plain": [
              "<Figure size 576x360 with 1 Axes>"
            ],
            "image/png": "[encoded data removed]"
          },
          "metadata": {
            "needs_background": "light"
          }
        }
      ]
    },
    {
      "cell_type": "code",
      "source": [
        "cf_matrix = confusion_matrix(yt, p7)\n",
        "\n",
        "plt.figure(figsize=(6,5))\n",
        "sns.heatmap(cf_matrix, annot=True,cmap=\"Blues\")\n",
        "plt.title('Confusion Matrix')\n",
        "plt.ylabel('Actal Values')\n",
        "plt.xlabel('Predicted Values')\n",
        "plt.show()"
      ],
      "metadata": {
        "colab": {
          "base_uri": "https://localhost:8080/",
          "height": 350
        },
        "id": "NpEpzdDrs2WZ",
        "outputId": "f00738ea-c9e5-44f9-8e25-e77b2edb78e8"
      },
      "execution_count": null,
      "outputs": [
        {
          "output_type": "display_data",
          "data": {
            "text/plain": [
              "<Figure size 432x360 with 2 Axes>"
            ],
            "image/png": "[encoded data removed]"
          },
          "metadata": {
            "needs_background": "light"
          }
        }
      ]
    },
    {
      "cell_type": "code",
      "source": [],
      "metadata": {
        "id": "Glr8rv6JEa34"
      },
      "execution_count": null,
      "outputs": []
    },
    {
      "cell_type": "code",
      "source": [
        "print(p1)\n",
        "print(p2)\n",
        "print(p3)\n",
        "print(p4)\n",
        "print(p5)\n",
        "print(p6)\n",
        "print(p7)"
      ],
      "metadata": {
        "colab": {
          "base_uri": "https://localhost:8080/"
        },
        "id": "kfrRNcClr96H",
        "outputId": "d31d969e-622d-425b-97f5-3bea2e07c65a"
      },
      "execution_count": null,
      "outputs": [
        {
          "output_type": "stream",
          "name": "stdout",
          "text": [
            "[5, 1, 2, 2, 5, 5, 5, 5, 5, 2, 5, 5, 5, 5, 5, 5, 5, 5, 5, 5, 5, 5, 5, 5, 5, 5, 5, 5, 5, 5, 5, 5, 2, 5, 2, 5, 5, 5, 2, 5, 5, 5, 5, 5, 5, 2, 5, 5, 5, 5, 5, 5, 5, 5, 4, 5, 2, 2, 5, 5, 5, 5, 1, 5, 4, 5, 5, 5, 5, 5, 5, 5, 1, 5, 2, 5, 5, 5, 5, 5, 5, 5, 5, 2, 5, 5, 5, 4, 5, 5, 5, 5, 2, 5, 5, 5, 5, 5, 5, 5, 5, 5, 5, 5, 5, 5, 5, 5, 5, 5, 5, 0, 5, 5, 1, 5, 5, 5, 5, 5, 5, 5, 5, 5, 5, 5, 5, 5, 5, 5, 5, 5, 2, 5, 5, 5, 5, 5, 5, 5, 5, 5, 5, 5, 5, 2, 5, 5, 5, 5, 5, 5, 5, 5, 5, 5, 5, 5, 5, 2, 5, 5, 5, 5, 5, 5, 5, 5, 2, 2, 5, 5, 5, 5, 5, 5, 5, 5, 5, 5, 5, 5, 5, 5, 5, 5, 5, 2, 5, 4, 5, 5, 5, 5, 5, 5, 5, 5, 5, 6, 5, 5, 5, 5, 5, 5, 5, 5, 5, 5, 6, 5, 5, 5, 5, 5, 5, 5, 5, 5, 5, 5, 5, 5, 5, 5, 5, 4, 5, 5, 5, 5, 5, 4, 2, 5, 5, 1, 5, 5, 5, 5, 5, 5, 5, 5, 5, 5, 2, 5, 5, 5, 5, 5, 5, 5, 5, 5, 5, 2, 5, 5, 5, 5, 2, 5, 5, 5, 5, 2, 5, 5, 5, 1, 5, 5, 5, 5, 5, 5, 5, 5, 5, 5, 5, 5, 6, 5, 5, 5, 5, 5, 5, 5, 2, 5, 5, 5, 5, 5, 5, 5, 5, 5, 2, 5, 5, 5, 5, 5, 5, 5, 2, 5, 5, 2, 5, 5, 5, 5, 5, 5, 5, 4, 5, 5, 5, 5, 2, 2, 5, 5, 5, 1, 5, 5, 5, 5, 5, 5, 2, 5, 5, 5, 5, 2, 5, 5, 5, 5, 5, 5, 2, 5, 5, 5, 1, 5, 5, 5, 4, 5, 2, 5, 5, 5, 5, 5, 6, 5, 5, 5, 2, 5, 5, 5, 5, 5, 5, 5, 5, 6, 5, 5, 5, 5, 5, 5, 5, 5, 5, 5, 5, 5, 5, 5, 5, 5, 5, 2, 5, 5, 5, 5, 5, 2, 5, 2, 2, 5, 5, 5, 5, 5, 5, 5, 5, 5, 5, 5, 5, 5, 5, 5, 5, 5, 5, 5, 5, 5, 2, 5, 5, 5, 5, 5, 5, 5, 5, 5, 5, 5, 5, 2, 5, 5, 2, 5, 5, 6, 5, 1, 5, 2, 5, 5, 5, 5, 5, 5, 5, 5, 5, 5, 5, 5, 5, 5, 5, 5, 6, 5, 5, 5, 5, 5, 2, 5, 5, 5, 5, 5, 5, 5, 5, 2, 5, 5, 5, 5, 5, 5, 5, 5, 5, 5, 5, 5, 5, 5, 5, 5, 5, 5, 4, 5, 5, 5, 5, 2, 5, 5, 5, 5, 5, 5, 5, 5, 5, 5, 5, 5, 5, 5, 5, 5, 5, 5, 5, 4, 5, 5, 5, 5, 5, 2, 5, 5, 5, 2, 5, 6, 2, 2, 5, 5, 5, 5, 5, 5, 2, 5, 5, 5, 5, 5, 1, 5, 4, 5, 5, 5, 2, 2, 5, 5, 5, 1, 5, 5, 5, 5, 5, 2, 5, 5, 5, 5, 5, 5, 5, 5, 5, 2, 5, 5, 5, 5, 5, 5, 5, 5, 5, 5, 5, 5, 5, 5, 5, 5, 5, 1, 5, 5, 2, 2, 2, 5, 5, 5, 5, 5, 5, 5, 4, 5, 5, 5, 5, 4, 5, 5, 5, 5, 5, 5, 5, 5, 5, 5, 5, 0, 5, 5, 5, 5, 5, 5, 5, 5, 1, 5, 5, 5, 5, 5, 5, 5, 5, 5, 5, 1, 2, 0, 2, 5, 5, 2, 5, 5, 5, 5, 5, 5, 5, 5, 5, 5, 5, 5, 5, 5, 5, 5, 6, 5, 5, 5, 5, 5, 5, 5, 5, 5, 1, 5, 1, 5, 5, 5, 1, 5, 5, 5, 0, 5, 5, 5, 5, 5, 5, 5, 1, 2, 5, 2, 5, 5, 5, 5, 2, 2, 5, 5, 5, 5, 5, 5, 5, 5, 5, 5, 5, 5, 5, 5, 5, 5, 5, 5, 5, 5, 5, 5, 5, 2, 2, 5, 5, 2, 5, 5, 5, 5, 5, 4, 5, 1, 5, 5, 5, 5, 5, 5, 5, 1, 5, 5, 5, 5, 5, 5, 5, 5, 5, 5, 5, 5, 5, 5, 5, 5, 5, 5, 5, 5, 5, 5, 5, 5, 5, 5, 5, 5, 5, 5, 5, 5, 5, 2, 5, 5, 1, 5, 5, 5, 5, 6, 2, 5, 2, 5, 5, 5, 5, 5, 5, 5, 5, 5, 5, 5, 5, 5, 5, 5, 5, 2, 5, 5, 5, 5, 5, 2, 5, 5, 4, 5, 2, 2, 5, 5, 5, 5, 5, 5, 5, 5, 5, 5, 5, 5, 5, 5, 2, 5, 5, 5, 5, 5, 2, 5, 5, 2, 5, 5, 5, 5, 5, 5, 5, 0, 5, 5, 5, 5, 5, 5, 5, 2, 5, 5, 2, 5, 5, 1, 5, 5, 5, 5, 1, 5, 5, 5, 1, 5, 5, 5, 5, 5, 5, 5, 5, 5, 5, 5, 5, 5, 5, 5, 2, 2, 5, 5, 5, 5, 5, 5, 5, 5, 5, 2, 5, 2, 0, 5, 5, 4, 5, 5, 5, 5, 5, 5, 5, 5, 5, 5, 5, 5, 5, 5, 5, 5, 5, 5, 5, 5, 5, 5, 5, 5, 5, 2, 1, 5, 5, 5, 5, 2, 5, 5, 5, 5, 5, 5, 5, 5, 5, 5, 5, 5, 5, 5, 5, 4, 5, 5, 5, 5, 5, 1, 5, 5, 6, 5, 5, 5, 2, 5, 5, 5, 5, 5, 2, 5, 2, 5, 5, 5, 5, 5, 5, 5, 5, 5, 2, 5, 5, 5, 5, 5, 5, 4, 5, 5, 5, 5, 5, 5, 5, 5, 5, 5, 5, 5, 5, 5, 5, 5, 5, 0, 5, 5, 5, 1, 5, 5, 5, 5, 5, 5, 5, 5, 1, 5, 5, 5, 5, 5, 5, 5, 5, 5, 5, 5, 5, 5, 2, 5, 5, 2, 2, 5, 5, 5, 5, 5, 5, 5, 5, 5, 5, 5, 5, 5, 5, 2, 5, 6, 5, 5, 5, 5, 5, 5, 5, 5, 2, 5, 2, 5, 5, 5, 2, 5, 5, 5, 5, 6, 5, 5, 5, 5, 5, 5, 2, 0, 5, 5, 1, 5, 5, 1, 5, 5, 5, 2, 5, 2, 5, 5, 5, 4, 5, 5, 2, 5, 5, 5, 2, 5, 5, 5, 5, 5, 5, 1, 2, 5, 5, 5, 5, 5, 5, 5, 5, 5, 5, 1, 5, 5, 5, 5, 5, 5, 2, 5, 5, 5, 5, 2, 5, 5, 5, 5, 5, 5, 5, 5, 5, 5, 5, 5, 2, 5, 5, 5, 1, 5, 5, 5, 5, 5, 2, 5, 5, 5, 5, 5, 5, 5, 5, 5, 1, 5, 4, 5, 5, 5, 5, 5, 5, 5, 5, 5, 2, 5, 5, 5, 5, 5, 5, 6, 5, 5, 5, 5, 5, 5, 5, 5, 5, 5, 1, 5, 5, 5, 5, 2, 5, 5, 5, 5, 5, 5, 5, 5, 5, 1, 5, 5, 0, 2, 2, 5, 5, 5, 5, 5, 5, 5, 5, 5, 2, 5, 2, 1, 5, 5, 5, 5, 5, 5, 5, 5, 5, 5, 5, 5, 2, 4, 5, 5, 5, 5, 5, 5, 5, 5, 5, 0, 5, 2, 5, 4, 2, 6, 5, 5, 5, 5, 5, 6, 5, 5, 2, 5, 5, 5, 5, 5, 5, 5, 5, 6, 5, 5, 5, 5, 5, 5, 5, 5, 5, 5, 5, 5, 5, 5, 5, 5, 5, 6, 5, 5, 2, 5, 5, 6, 5, 5, 5, 5, 5, 5, 5, 6, 5, 2, 5, 5, 5, 6, 2, 5, 5, 5, 5, 5, 5, 5, 5, 5, 5, 5, 5, 5, 5, 5, 5, 5, 5, 5, 5, 5, 5, 5, 5, 2, 5, 5, 5, 5, 5, 5, 5, 5, 5, 5, 5, 5, 5, 5, 5, 1, 6, 5, 5, 4, 5, 5, 5, 5, 5, 5, 2, 5, 5, 5, 5, 5, 5, 1, 5, 5, 5, 5, 2, 5, 5, 5, 5, 5, 5, 5, 5, 5, 5, 5, 5, 5, 5, 5, 5, 5, 5, 5, 5, 1, 5, 5, 5, 5, 2, 5, 4, 5, 5, 5, 5, 5, 5, 5, 5, 0, 2, 2, 5, 5, 5, 5, 5, 5, 1, 5, 2, 5, 5, 5, 5, 4, 5, 5, 5, 5, 5, 5, 5, 2, 2, 2, 6, 5, 5, 5, 2, 5, 5, 5, 5, 2, 5, 5, 5, 5, 5, 5, 1, 5, 5, 5, 5, 5, 5, 5, 5, 5, 5, 5, 5, 5, 4, 5, 5, 1, 5, 5, 1, 5, 5, 5, 5, 5, 5, 5, 5, 5, 5, 5, 5, 5, 5, 5, 5, 5, 5, 5, 5, 5, 5, 5, 5, 5, 5, 5, 5, 5, 5, 5, 5, 1, 6, 5, 5, 5, 5, 5, 5, 6, 5, 5, 5, 5, 5, 5, 5, 2, 5, 5, 5, 5, 5, 5, 0, 5, 5, 5, 5, 5, 5, 5, 5, 5, 5, 5, 5, 5, 5, 5, 5, 5, 5, 5, 4, 5, 5, 5, 5, 5, 5, 2, 5, 5, 5, 5, 5, 5, 5, 5, 5, 5, 5, 5, 5, 2, 5, 5, 2, 5, 5, 5, 5, 5, 5, 5, 5, 5, 5, 5, 5, 5, 5, 5, 5, 5, 5, 5, 5, 5, 5, 5, 5, 5, 1, 5, 5, 5, 5, 5, 0, 5, 5, 5, 5, 5, 6, 5, 0, 5, 5, 5, 5, 5, 5, 5, 5, 5, 5, 5, 5, 5, 5, 5, 5, 5, 5, 5, 5, 5, 5, 5, 2, 5, 5, 5, 2, 5, 5, 5, 5, 5, 5, 5, 5, 5, 5, 5, 5, 5, 5, 5, 5, 5, 5, 5, 5, 5, 5, 5, 5, 5, 5, 5, 5, 2, 5, 5, 1, 5, 5, 4, 5, 5, 5, 5, 5, 5, 5, 5, 5, 5, 5, 1, 5, 2, 5, 5, 6, 5, 5, 5, 5, 5, 5, 6, 0, 5, 5, 5, 2, 5, 5, 5, 5, 5, 6, 5, 5, 5, 5, 5, 5, 5, 5, 2, 5, 5, 5, 5, 5, 5, 5, 5, 5, 5, 5, 5, 5, 5, 5, 2, 5, 5, 5, 5, 5, 5, 5, 5, 5, 5, 5, 5, 5, 5, 5, 5, 5, 5, 5, 5, 5, 5, 6, 5, 5, 5, 5, 5, 5, 0, 5, 5, 5, 5, 5, 5, 5, 5, 5, 5, 5, 5, 2, 5, 5, 5, 5, 5, 5, 5, 5, 5, 5, 4, 5, 5, 5, 5, 5, 5, 5, 2, 5, 5, 5, 5, 5, 5, 5, 5, 5, 1, 5, 5, 5, 5, 5, 5, 5, 4, 5, 5, 2, 4, 5, 5, 5, 5, 5, 5, 5, 5, 5, 1, 5, 5, 5, 5, 5, 5, 2, 6, 5, 5, 5, 2, 5, 5, 4, 2, 6, 5, 5, 5, 5, 2, 5, 5, 5, 5, 5, 5, 1, 2, 5, 2, 5, 5, 5, 5, 5, 5, 5, 5, 5, 5, 5, 5, 2, 5, 5, 5, 5, 1, 5, 5, 2, 5, 2, 5, 5, 5, 2, 5, 5, 5, 5, 5, 5, 5, 5, 2, 5, 5, 5, 5, 5, 5, 5, 5, 5, 5, 5, 5, 5, 5, 5, 5, 5, 5, 5, 5, 5, 5, 5, 5, 5, 5, 2, 5, 5, 5, 4, 5, 5, 5, 5, 5, 5, 5, 6, 2, 5, 5, 5, 5, 1, 5, 2, 5, 5, 5, 5, 5, 5, 5, 5, 5, 5, 5, 2, 5, 6, 5, 5, 5, 5, 4, 2, 5, 1, 5, 5, 5, 5, 5, 5, 5, 5, 6, 5, 5, 5]\n",
            "[5, 2, 2, 2, 5, 5, 5, 5, 5, 2, 2, 5, 5, 5, 5, 5, 4, 5, 5, 5, 5, 5, 5, 5, 5, 5, 5, 5, 5, 2, 5, 5, 2, 5, 2, 5, 2, 5, 2, 5, 5, 5, 5, 5, 5, 2, 5, 5, 5, 5, 5, 5, 5, 5, 5, 5, 2, 2, 5, 5, 5, 5, 2, 5, 4, 1, 5, 5, 5, 5, 5, 5, 1, 5, 2, 5, 5, 5, 5, 5, 5, 5, 5, 2, 5, 5, 5, 5, 5, 4, 5, 5, 2, 5, 5, 5, 5, 5, 5, 5, 5, 5, 5, 5, 2, 5, 5, 5, 5, 5, 5, 1, 5, 5, 1, 5, 5, 5, 5, 5, 5, 5, 5, 5, 5, 5, 5, 5, 5, 5, 5, 5, 2, 5, 5, 5, 5, 5, 5, 5, 5, 5, 5, 5, 5, 2, 5, 5, 5, 5, 5, 5, 5, 5, 5, 5, 5, 5, 5, 2, 5, 5, 5, 5, 2, 5, 5, 5, 1, 1, 5, 5, 5, 5, 5, 5, 5, 5, 2, 5, 5, 5, 5, 5, 5, 5, 5, 2, 2, 5, 5, 5, 2, 5, 5, 5, 5, 5, 5, 6, 5, 5, 1, 5, 5, 5, 5, 5, 5, 5, 5, 5, 5, 5, 2, 5, 5, 5, 5, 5, 5, 5, 5, 5, 5, 5, 5, 5, 5, 5, 5, 5, 5, 5, 2, 5, 5, 5, 5, 5, 5, 5, 4, 5, 5, 5, 5, 5, 2, 5, 5, 5, 5, 5, 5, 5, 5, 5, 5, 2, 5, 2, 5, 5, 2, 5, 5, 5, 5, 5, 5, 5, 5, 5, 5, 5, 5, 5, 5, 5, 5, 2, 5, 5, 5, 5, 5, 5, 5, 5, 5, 5, 5, 1, 1, 5, 5, 5, 5, 5, 5, 5, 5, 5, 2, 5, 5, 5, 5, 5, 5, 5, 5, 5, 5, 2, 2, 5, 5, 5, 5, 5, 5, 2, 1, 5, 5, 5, 2, 2, 5, 5, 5, 1, 5, 5, 5, 5, 5, 5, 2, 5, 5, 5, 5, 2, 5, 5, 5, 4, 5, 5, 2, 5, 5, 5, 2, 5, 5, 5, 4, 5, 1, 5, 5, 5, 5, 2, 5, 5, 5, 5, 2, 5, 5, 5, 5, 5, 5, 5, 5, 5, 5, 5, 5, 5, 2, 5, 5, 5, 5, 5, 5, 5, 5, 5, 5, 5, 5, 2, 2, 5, 5, 5, 5, 2, 5, 2, 1, 5, 5, 1, 5, 5, 5, 5, 5, 5, 5, 5, 5, 5, 5, 5, 5, 5, 5, 5, 1, 5, 2, 5, 5, 5, 5, 5, 2, 5, 5, 2, 5, 5, 5, 2, 5, 5, 2, 5, 5, 6, 5, 2, 1, 2, 5, 5, 5, 5, 2, 5, 5, 5, 5, 5, 5, 5, 5, 5, 5, 5, 1, 5, 5, 2, 5, 5, 2, 5, 2, 2, 5, 5, 5, 5, 5, 2, 5, 5, 5, 2, 5, 5, 5, 5, 5, 5, 5, 5, 5, 5, 5, 5, 5, 5, 4, 5, 5, 5, 5, 2, 5, 5, 5, 5, 2, 5, 5, 5, 5, 5, 1, 5, 5, 5, 5, 5, 4, 2, 5, 4, 5, 5, 5, 5, 5, 2, 5, 5, 5, 1, 5, 1, 2, 2, 2, 5, 5, 2, 5, 4, 2, 5, 5, 5, 5, 5, 1, 5, 5, 5, 2, 5, 2, 2, 5, 5, 2, 1, 5, 5, 5, 5, 5, 2, 5, 5, 5, 5, 1, 5, 5, 5, 5, 2, 5, 5, 5, 5, 5, 2, 5, 5, 5, 5, 5, 5, 5, 5, 5, 5, 1, 1, 5, 5, 2, 2, 2, 5, 5, 5, 5, 5, 5, 2, 5, 5, 5, 5, 5, 5, 5, 5, 5, 5, 5, 5, 5, 5, 5, 5, 5, 1, 5, 5, 5, 5, 5, 5, 5, 5, 2, 5, 1, 5, 5, 5, 5, 5, 5, 5, 5, 1, 2, 2, 2, 1, 5, 2, 5, 5, 5, 2, 5, 5, 5, 5, 5, 5, 5, 5, 5, 5, 5, 5, 5, 5, 5, 5, 5, 5, 5, 5, 5, 5, 1, 5, 1, 5, 2, 5, 2, 5, 5, 5, 5, 5, 5, 5, 5, 5, 5, 5, 1, 0, 5, 2, 5, 5, 5, 5, 2, 2, 5, 5, 5, 5, 5, 5, 5, 5, 5, 5, 5, 5, 2, 5, 5, 5, 5, 5, 5, 5, 5, 5, 5, 1, 1, 5, 5, 5, 5, 5, 5, 5, 5, 5, 5, 2, 5, 5, 5, 5, 5, 5, 5, 1, 2, 5, 5, 5, 0, 5, 2, 5, 5, 5, 5, 5, 5, 5, 5, 5, 5, 5, 5, 5, 5, 2, 5, 5, 5, 5, 5, 2, 5, 5, 5, 5, 5, 2, 5, 5, 1, 5, 5, 5, 5, 5, 2, 5, 2, 5, 5, 5, 5, 2, 5, 1, 5, 5, 5, 5, 5, 5, 5, 5, 5, 2, 5, 5, 1, 5, 5, 2, 5, 5, 4, 5, 2, 2, 1, 5, 5, 2, 5, 5, 5, 5, 5, 5, 2, 5, 5, 5, 2, 5, 5, 5, 5, 5, 2, 5, 5, 2, 5, 5, 5, 5, 5, 5, 5, 1, 5, 5, 5, 5, 5, 5, 5, 2, 5, 5, 2, 5, 5, 1, 5, 5, 5, 5, 1, 2, 5, 5, 2, 5, 5, 5, 5, 5, 5, 5, 5, 5, 5, 5, 5, 5, 5, 5, 2, 2, 5, 5, 5, 5, 5, 5, 5, 5, 5, 2, 5, 2, 1, 5, 5, 5, 5, 5, 5, 5, 5, 5, 5, 5, 2, 5, 5, 5, 5, 5, 5, 5, 5, 5, 5, 5, 5, 5, 5, 5, 5, 2, 2, 5, 5, 5, 5, 2, 5, 5, 5, 5, 5, 5, 5, 5, 5, 5, 5, 5, 5, 5, 5, 5, 5, 5, 5, 5, 5, 1, 5, 5, 1, 5, 5, 5, 2, 5, 5, 5, 5, 5, 2, 5, 1, 5, 5, 5, 5, 5, 5, 5, 5, 5, 2, 5, 5, 5, 5, 5, 2, 4, 5, 5, 5, 5, 5, 5, 5, 5, 5, 5, 5, 5, 5, 5, 5, 5, 5, 5, 5, 5, 5, 1, 5, 5, 5, 5, 5, 5, 5, 5, 1, 5, 2, 5, 5, 5, 5, 5, 1, 5, 5, 5, 5, 5, 2, 5, 5, 2, 2, 5, 5, 5, 2, 5, 5, 5, 5, 1, 5, 5, 5, 5, 5, 1, 5, 5, 5, 5, 5, 5, 5, 5, 5, 2, 5, 5, 2, 5, 5, 5, 1, 5, 5, 5, 5, 2, 5, 5, 5, 5, 5, 5, 5, 0, 5, 5, 1, 5, 5, 2, 5, 5, 5, 2, 5, 2, 5, 5, 5, 2, 2, 5, 2, 2, 5, 5, 2, 5, 5, 5, 5, 5, 5, 1, 2, 5, 4, 5, 5, 4, 2, 2, 5, 5, 5, 2, 5, 5, 5, 5, 5, 5, 2, 5, 5, 5, 2, 5, 5, 5, 5, 5, 5, 5, 5, 5, 5, 5, 5, 5, 2, 5, 5, 5, 2, 5, 5, 2, 5, 5, 2, 2, 5, 5, 5, 5, 5, 5, 5, 5, 1, 5, 5, 5, 5, 5, 5, 2, 5, 5, 5, 5, 2, 5, 2, 5, 5, 5, 5, 1, 1, 5, 5, 5, 5, 2, 5, 5, 5, 5, 1, 5, 5, 5, 5, 2, 5, 5, 1, 2, 5, 5, 5, 5, 5, 2, 5, 5, 1, 2, 2, 5, 5, 5, 5, 5, 2, 5, 5, 5, 2, 5, 2, 1, 5, 5, 5, 5, 5, 2, 5, 5, 5, 5, 5, 5, 2, 2, 5, 5, 5, 2, 5, 5, 5, 5, 5, 1, 5, 5, 5, 4, 1, 2, 5, 5, 5, 1, 5, 5, 5, 5, 1, 5, 5, 2, 5, 5, 5, 5, 5, 5, 5, 5, 5, 5, 5, 5, 5, 5, 5, 5, 5, 5, 5, 5, 5, 5, 5, 5, 5, 5, 2, 5, 5, 2, 5, 5, 5, 5, 5, 5, 5, 1, 5, 2, 5, 5, 2, 2, 2, 5, 5, 5, 5, 5, 5, 5, 5, 5, 5, 5, 5, 5, 5, 5, 5, 5, 5, 5, 5, 5, 5, 5, 5, 2, 5, 5, 5, 5, 5, 5, 5, 5, 5, 5, 5, 5, 5, 5, 5, 1, 2, 5, 5, 5, 5, 5, 5, 5, 5, 5, 2, 5, 5, 5, 5, 5, 5, 2, 5, 5, 5, 5, 2, 5, 5, 5, 5, 5, 5, 2, 5, 5, 4, 5, 5, 5, 2, 5, 5, 5, 5, 1, 5, 2, 5, 5, 5, 5, 2, 5, 5, 5, 5, 5, 5, 5, 5, 5, 2, 2, 2, 2, 5, 5, 5, 5, 5, 5, 2, 5, 2, 5, 5, 5, 5, 4, 5, 5, 5, 5, 2, 5, 5, 5, 2, 2, 5, 5, 5, 5, 2, 5, 5, 5, 5, 2, 5, 5, 5, 5, 5, 5, 1, 5, 5, 5, 5, 5, 5, 5, 5, 5, 5, 5, 5, 5, 5, 5, 5, 1, 5, 5, 2, 5, 2, 5, 4, 5, 5, 5, 5, 5, 5, 5, 5, 5, 5, 5, 5, 5, 5, 5, 5, 5, 5, 5, 5, 5, 5, 5, 5, 5, 5, 2, 5, 2, 6, 5, 5, 5, 5, 5, 5, 2, 5, 5, 5, 5, 5, 2, 5, 2, 5, 5, 5, 5, 5, 5, 2, 5, 5, 5, 2, 5, 5, 5, 5, 5, 5, 5, 5, 5, 5, 5, 5, 5, 5, 5, 4, 5, 5, 5, 5, 5, 5, 2, 5, 5, 5, 5, 6, 5, 4, 4, 5, 5, 5, 5, 5, 2, 5, 5, 2, 5, 5, 5, 5, 5, 5, 5, 5, 2, 5, 5, 2, 5, 5, 5, 5, 2, 2, 5, 5, 5, 5, 5, 5, 4, 1, 5, 5, 5, 5, 5, 0, 5, 5, 5, 5, 5, 2, 5, 5, 5, 5, 5, 5, 5, 5, 5, 5, 5, 5, 5, 5, 5, 5, 5, 5, 5, 5, 5, 5, 5, 5, 5, 2, 5, 5, 5, 2, 2, 5, 5, 5, 5, 5, 5, 5, 5, 5, 5, 5, 1, 5, 5, 5, 5, 5, 2, 5, 5, 5, 5, 5, 5, 5, 5, 5, 2, 5, 5, 1, 5, 5, 4, 5, 5, 5, 5, 5, 5, 5, 5, 1, 5, 5, 1, 2, 2, 5, 5, 1, 5, 5, 5, 5, 5, 5, 5, 0, 5, 5, 5, 2, 5, 5, 5, 2, 5, 1, 5, 5, 5, 5, 5, 5, 5, 5, 2, 5, 5, 5, 1, 5, 5, 5, 2, 5, 5, 5, 5, 5, 5, 5, 5, 5, 5, 5, 5, 5, 5, 5, 5, 5, 5, 5, 5, 5, 5, 5, 5, 5, 5, 5, 5, 5, 5, 1, 5, 5, 5, 5, 5, 5, 5, 5, 5, 5, 5, 5, 5, 5, 5, 5, 5, 5, 5, 2, 5, 5, 5, 5, 5, 5, 5, 5, 5, 5, 4, 5, 5, 5, 2, 5, 5, 5, 2, 5, 5, 5, 5, 5, 1, 5, 2, 5, 1, 5, 5, 5, 5, 5, 5, 5, 2, 4, 5, 2, 5, 5, 5, 4, 2, 5, 5, 5, 5, 2, 2, 5, 5, 5, 2, 5, 5, 2, 2, 5, 5, 5, 2, 5, 5, 4, 2, 5, 5, 5, 5, 5, 5, 5, 5, 5, 5, 5, 5, 1, 2, 5, 2, 5, 5, 5, 5, 5, 5, 5, 5, 2, 5, 5, 5, 2, 5, 4, 5, 5, 2, 5, 5, 2, 5, 2, 5, 5, 5, 2, 5, 1, 5, 5, 5, 5, 5, 5, 2, 5, 5, 5, 5, 5, 1, 5, 5, 2, 5, 4, 5, 5, 5, 5, 5, 2, 5, 5, 5, 5, 5, 5, 5, 5, 5, 1, 5, 5, 5, 5, 5, 5, 5, 5, 5, 5, 5, 5, 2, 5, 5, 5, 5, 1, 5, 2, 5, 5, 2, 5, 2, 5, 5, 5, 5, 5, 5, 2, 5, 2, 5, 5, 5, 5, 4, 2, 5, 5, 5, 5, 5, 5, 5, 5, 5, 5, 5, 5, 5, 5]\n",
            "[5, 1, 2, 2, 5, 5, 5, 5, 5, 2, 5, 5, 5, 5, 5, 5, 5, 5, 5, 5, 2, 5, 5, 5, 5, 5, 5, 5, 5, 2, 5, 5, 4, 5, 2, 5, 2, 5, 2, 5, 5, 5, 5, 5, 5, 2, 5, 5, 5, 5, 5, 5, 5, 5, 5, 5, 2, 2, 5, 5, 5, 5, 2, 5, 5, 1, 5, 5, 5, 5, 5, 5, 1, 5, 5, 5, 5, 5, 5, 5, 5, 5, 5, 1, 5, 5, 5, 4, 5, 5, 5, 5, 2, 5, 5, 5, 5, 5, 5, 5, 5, 5, 5, 5, 2, 5, 5, 5, 5, 5, 5, 0, 5, 5, 1, 5, 5, 5, 5, 5, 5, 5, 5, 5, 5, 5, 5, 5, 5, 5, 5, 5, 2, 5, 5, 5, 5, 5, 5, 5, 4, 5, 5, 5, 5, 2, 5, 5, 5, 5, 5, 5, 5, 5, 5, 5, 5, 5, 5, 2, 5, 5, 5, 5, 2, 5, 5, 5, 0, 1, 5, 5, 5, 5, 5, 5, 5, 5, 2, 5, 5, 5, 5, 5, 5, 5, 5, 1, 5, 5, 5, 5, 2, 5, 5, 5, 5, 5, 5, 6, 5, 5, 1, 5, 5, 5, 5, 5, 5, 5, 5, 5, 5, 5, 1, 5, 4, 5, 1, 5, 5, 5, 5, 5, 5, 5, 5, 5, 5, 4, 5, 5, 5, 5, 2, 5, 5, 4, 5, 5, 5, 5, 5, 5, 5, 5, 5, 5, 2, 5, 5, 5, 5, 5, 5, 5, 5, 5, 5, 2, 5, 2, 5, 5, 2, 5, 5, 5, 5, 5, 5, 5, 5, 5, 5, 5, 5, 4, 5, 5, 5, 2, 5, 5, 5, 5, 5, 5, 5, 5, 5, 5, 5, 1, 2, 5, 5, 5, 5, 5, 5, 5, 5, 5, 2, 5, 5, 5, 5, 5, 5, 5, 5, 5, 5, 2, 5, 5, 2, 5, 5, 5, 5, 2, 1, 5, 5, 5, 2, 2, 5, 5, 5, 1, 5, 5, 5, 5, 5, 5, 2, 4, 5, 5, 5, 2, 5, 5, 5, 5, 5, 5, 2, 5, 5, 5, 1, 5, 5, 5, 4, 5, 1, 5, 5, 5, 5, 5, 6, 5, 5, 5, 2, 5, 5, 5, 5, 5, 5, 5, 5, 6, 5, 5, 5, 5, 5, 5, 5, 5, 5, 5, 5, 5, 5, 5, 5, 5, 5, 2, 5, 5, 5, 5, 5, 2, 5, 2, 1, 5, 5, 1, 5, 5, 5, 5, 2, 5, 5, 5, 5, 5, 5, 5, 5, 5, 5, 5, 5, 5, 5, 5, 5, 5, 5, 5, 1, 5, 5, 2, 5, 5, 5, 2, 5, 5, 2, 5, 5, 6, 5, 2, 5, 1, 5, 5, 5, 5, 5, 5, 5, 4, 5, 5, 5, 5, 5, 5, 5, 5, 1, 5, 5, 2, 5, 5, 2, 5, 2, 5, 5, 5, 5, 5, 5, 2, 5, 5, 5, 5, 5, 5, 5, 5, 5, 5, 5, 5, 5, 5, 5, 5, 5, 5, 5, 5, 5, 5, 5, 1, 5, 5, 5, 5, 1, 5, 5, 5, 5, 5, 0, 5, 5, 5, 5, 5, 5, 2, 5, 5, 5, 5, 5, 5, 5, 5, 5, 5, 5, 1, 5, 0, 2, 2, 1, 5, 5, 5, 5, 5, 5, 5, 5, 5, 5, 5, 1, 5, 5, 5, 5, 5, 2, 2, 5, 5, 1, 1, 5, 5, 5, 5, 5, 2, 5, 5, 5, 5, 1, 5, 5, 5, 5, 2, 5, 5, 5, 5, 5, 5, 5, 5, 5, 5, 5, 5, 5, 5, 5, 5, 5, 1, 5, 5, 2, 2, 2, 5, 5, 5, 5, 5, 5, 1, 5, 5, 5, 5, 5, 5, 5, 5, 5, 5, 5, 5, 2, 5, 5, 5, 5, 1, 5, 5, 5, 5, 5, 5, 5, 5, 2, 5, 1, 5, 5, 5, 5, 5, 5, 5, 5, 1, 5, 1, 1, 0, 5, 2, 5, 5, 5, 5, 5, 5, 5, 5, 5, 5, 5, 5, 5, 5, 5, 5, 5, 5, 5, 5, 5, 5, 5, 5, 5, 5, 1, 5, 1, 5, 1, 5, 2, 5, 5, 5, 5, 5, 5, 5, 5, 5, 5, 5, 1, 5, 5, 2, 5, 5, 5, 5, 2, 1, 5, 5, 5, 5, 5, 5, 5, 5, 5, 5, 5, 5, 2, 5, 5, 5, 5, 5, 5, 5, 5, 5, 5, 1, 1, 5, 5, 5, 5, 5, 5, 5, 5, 5, 5, 1, 5, 5, 5, 5, 5, 5, 5, 5, 2, 5, 5, 5, 5, 5, 2, 5, 5, 5, 5, 5, 5, 5, 5, 5, 5, 5, 5, 5, 5, 2, 5, 5, 5, 5, 5, 2, 5, 5, 5, 5, 5, 2, 5, 5, 1, 5, 5, 5, 5, 6, 2, 5, 2, 5, 5, 5, 5, 2, 5, 0, 5, 5, 5, 5, 5, 5, 5, 5, 5, 2, 5, 5, 1, 5, 5, 5, 5, 5, 4, 5, 1, 2, 1, 5, 5, 5, 5, 5, 5, 5, 5, 5, 5, 5, 5, 5, 5, 5, 5, 5, 5, 5, 2, 5, 5, 2, 5, 5, 5, 5, 5, 4, 5, 1, 5, 5, 5, 5, 5, 5, 5, 2, 5, 5, 2, 5, 5, 1, 5, 5, 5, 5, 1, 5, 5, 5, 1, 5, 5, 5, 5, 5, 5, 5, 5, 5, 5, 5, 5, 5, 5, 5, 1, 1, 5, 5, 5, 5, 5, 5, 5, 5, 5, 2, 5, 5, 0, 5, 5, 2, 5, 5, 5, 5, 5, 5, 5, 5, 5, 5, 5, 5, 5, 5, 5, 5, 5, 5, 5, 5, 5, 5, 5, 5, 5, 2, 0, 5, 5, 5, 5, 1, 5, 5, 5, 5, 5, 5, 5, 5, 5, 5, 5, 5, 5, 5, 5, 5, 5, 5, 5, 5, 5, 1, 5, 5, 1, 5, 5, 5, 2, 5, 5, 5, 5, 5, 2, 5, 1, 5, 5, 5, 5, 5, 5, 5, 5, 5, 2, 5, 5, 5, 5, 5, 2, 4, 5, 5, 5, 5, 5, 5, 5, 5, 5, 5, 5, 5, 5, 5, 5, 5, 5, 1, 5, 5, 5, 1, 5, 5, 5, 5, 5, 5, 5, 5, 1, 5, 2, 5, 5, 5, 5, 5, 5, 5, 5, 5, 5, 5, 1, 5, 5, 2, 1, 5, 5, 5, 2, 5, 5, 5, 5, 5, 5, 5, 5, 5, 5, 0, 5, 5, 5, 5, 5, 5, 5, 5, 5, 2, 5, 5, 5, 5, 5, 5, 1, 5, 5, 5, 5, 6, 5, 5, 5, 5, 5, 5, 2, 5, 5, 5, 1, 5, 5, 0, 5, 5, 5, 2, 5, 2, 5, 5, 5, 2, 2, 5, 2, 2, 5, 5, 1, 5, 5, 5, 5, 5, 5, 1, 2, 5, 5, 5, 5, 5, 5, 1, 5, 5, 5, 1, 5, 5, 5, 5, 5, 5, 2, 5, 5, 5, 2, 2, 5, 5, 5, 5, 5, 5, 5, 5, 5, 5, 5, 5, 2, 5, 5, 5, 1, 5, 5, 5, 5, 5, 2, 5, 5, 5, 5, 5, 5, 5, 5, 5, 1, 5, 4, 5, 5, 5, 5, 1, 5, 5, 5, 5, 5, 5, 5, 5, 5, 5, 5, 1, 1, 5, 5, 5, 5, 2, 5, 5, 5, 5, 1, 5, 5, 5, 5, 2, 5, 5, 1, 2, 5, 5, 5, 5, 5, 1, 5, 5, 1, 2, 2, 5, 5, 5, 5, 5, 5, 5, 5, 5, 2, 5, 5, 1, 5, 5, 5, 5, 5, 1, 5, 5, 5, 5, 5, 5, 2, 2, 5, 5, 5, 5, 5, 5, 5, 5, 5, 1, 5, 5, 5, 5, 1, 1, 5, 5, 5, 5, 5, 5, 5, 5, 1, 5, 5, 2, 5, 4, 5, 5, 5, 2, 5, 5, 5, 5, 5, 5, 5, 5, 5, 1, 5, 5, 5, 5, 5, 5, 5, 5, 5, 5, 1, 5, 5, 2, 5, 5, 5, 5, 5, 5, 5, 1, 5, 2, 5, 5, 2, 5, 2, 5, 5, 5, 5, 5, 5, 5, 5, 5, 5, 5, 5, 5, 5, 5, 5, 5, 5, 5, 5, 5, 5, 5, 5, 2, 5, 5, 5, 5, 5, 5, 5, 5, 5, 5, 5, 5, 5, 5, 5, 0, 6, 5, 5, 5, 5, 5, 5, 5, 5, 5, 2, 4, 5, 5, 5, 5, 5, 1, 5, 5, 5, 5, 2, 5, 5, 5, 5, 5, 5, 5, 5, 5, 5, 2, 5, 5, 1, 5, 5, 5, 5, 1, 5, 1, 5, 5, 5, 5, 1, 5, 5, 5, 5, 5, 5, 5, 5, 5, 2, 2, 2, 2, 5, 5, 5, 5, 5, 5, 1, 5, 2, 5, 5, 5, 5, 5, 5, 5, 5, 5, 5, 5, 5, 5, 2, 2, 5, 5, 5, 5, 2, 5, 5, 5, 5, 2, 5, 5, 5, 5, 5, 5, 1, 5, 5, 5, 5, 5, 5, 5, 5, 5, 5, 5, 5, 5, 5, 5, 5, 1, 5, 5, 2, 5, 5, 5, 4, 5, 5, 5, 5, 5, 5, 5, 5, 5, 5, 5, 5, 5, 5, 5, 5, 5, 5, 5, 5, 5, 5, 5, 5, 5, 5, 1, 5, 2, 6, 5, 5, 5, 5, 5, 5, 2, 5, 5, 5, 5, 5, 2, 5, 2, 5, 5, 5, 5, 5, 5, 2, 5, 5, 5, 2, 5, 5, 5, 5, 5, 5, 5, 5, 5, 5, 5, 5, 5, 5, 5, 4, 5, 5, 5, 5, 5, 5, 2, 5, 5, 5, 5, 6, 5, 5, 4, 5, 5, 5, 5, 5, 1, 5, 5, 2, 5, 5, 5, 5, 5, 5, 5, 5, 5, 5, 5, 2, 5, 5, 5, 5, 0, 5, 5, 5, 5, 5, 5, 5, 5, 0, 5, 5, 5, 5, 5, 0, 5, 5, 5, 5, 5, 1, 5, 5, 5, 5, 5, 5, 5, 5, 5, 5, 5, 5, 5, 5, 5, 5, 5, 5, 5, 5, 5, 5, 5, 5, 5, 2, 5, 5, 5, 2, 2, 5, 5, 5, 5, 5, 5, 5, 4, 5, 5, 5, 5, 5, 5, 5, 5, 5, 5, 5, 5, 5, 5, 5, 5, 5, 5, 5, 5, 5, 5, 1, 5, 5, 5, 5, 5, 5, 5, 5, 5, 5, 5, 5, 5, 5, 0, 5, 5, 5, 5, 1, 5, 5, 5, 5, 5, 5, 5, 0, 5, 5, 5, 2, 5, 5, 5, 5, 5, 1, 5, 5, 5, 5, 5, 5, 5, 5, 2, 2, 5, 5, 1, 5, 5, 5, 5, 5, 5, 5, 5, 5, 5, 5, 2, 5, 5, 5, 5, 5, 5, 5, 5, 5, 5, 5, 5, 5, 5, 5, 5, 5, 5, 5, 5, 5, 5, 6, 5, 5, 5, 5, 5, 5, 0, 5, 5, 5, 5, 5, 5, 5, 5, 5, 5, 5, 5, 2, 5, 5, 5, 5, 5, 5, 5, 5, 5, 5, 5, 5, 5, 5, 2, 5, 5, 5, 2, 5, 5, 5, 5, 5, 5, 5, 5, 5, 1, 5, 5, 5, 5, 5, 5, 5, 2, 5, 5, 2, 4, 5, 5, 5, 2, 4, 5, 5, 5, 5, 1, 5, 5, 5, 5, 5, 5, 2, 1, 5, 5, 5, 2, 5, 5, 5, 2, 5, 5, 5, 5, 5, 5, 5, 5, 5, 2, 5, 5, 1, 5, 5, 0, 5, 5, 5, 5, 5, 5, 5, 5, 2, 5, 5, 5, 5, 5, 5, 5, 5, 1, 5, 5, 2, 5, 2, 5, 5, 5, 2, 5, 1, 5, 5, 5, 5, 5, 5, 5, 5, 5, 5, 5, 5, 1, 5, 5, 2, 5, 4, 5, 5, 5, 5, 5, 5, 5, 5, 5, 5, 5, 5, 5, 5, 5, 5, 5, 5, 5, 4, 5, 5, 5, 5, 5, 5, 5, 5, 1, 5, 5, 5, 5, 1, 5, 2, 5, 5, 1, 5, 5, 5, 5, 5, 5, 5, 5, 2, 5, 1, 5, 5, 5, 5, 5, 2, 5, 0, 5, 5, 5, 5, 5, 5, 5, 5, 5, 5, 5, 5]\n",
            "[5, 2, 2, 2, 5, 5, 5, 5, 5, 5, 5, 5, 5, 5, 5, 5, 5, 5, 5, 5, 2, 5, 5, 5, 5, 5, 5, 5, 5, 2, 5, 5, 2, 5, 2, 5, 2, 5, 2, 5, 5, 5, 5, 5, 5, 2, 5, 5, 5, 5, 5, 5, 5, 5, 5, 5, 2, 2, 5, 5, 5, 5, 2, 5, 5, 5, 5, 5, 5, 5, 5, 5, 2, 5, 2, 5, 5, 5, 5, 5, 5, 5, 5, 2, 5, 5, 5, 5, 5, 5, 5, 5, 2, 5, 5, 5, 5, 5, 5, 5, 5, 5, 5, 5, 5, 5, 5, 5, 5, 5, 5, 2, 5, 5, 2, 5, 5, 5, 5, 5, 5, 5, 5, 5, 5, 5, 5, 5, 5, 5, 5, 5, 2, 5, 5, 5, 5, 5, 5, 5, 5, 5, 5, 5, 5, 2, 5, 5, 5, 5, 5, 5, 5, 5, 5, 5, 5, 5, 2, 2, 5, 5, 5, 5, 2, 5, 5, 5, 2, 2, 5, 5, 5, 5, 5, 5, 5, 5, 2, 5, 5, 5, 5, 5, 5, 5, 5, 2, 5, 5, 5, 5, 2, 5, 5, 5, 5, 5, 5, 5, 5, 5, 5, 5, 5, 5, 5, 5, 5, 5, 5, 5, 5, 5, 5, 2, 5, 5, 5, 5, 5, 5, 5, 5, 5, 5, 5, 5, 5, 5, 5, 5, 5, 5, 2, 5, 5, 2, 5, 5, 5, 5, 5, 5, 5, 5, 5, 5, 2, 5, 5, 5, 5, 5, 5, 5, 5, 5, 5, 2, 5, 5, 5, 5, 2, 5, 5, 5, 5, 5, 5, 5, 5, 5, 5, 5, 5, 5, 5, 5, 5, 2, 5, 5, 5, 5, 2, 5, 5, 5, 5, 5, 5, 2, 1, 5, 5, 5, 5, 5, 5, 5, 5, 5, 2, 5, 5, 5, 5, 5, 5, 5, 2, 5, 5, 5, 5, 5, 5, 5, 5, 5, 5, 2, 5, 5, 5, 5, 2, 2, 5, 5, 5, 2, 5, 5, 5, 5, 5, 5, 2, 5, 5, 5, 5, 2, 5, 5, 5, 5, 5, 5, 2, 5, 5, 5, 2, 5, 5, 5, 5, 5, 2, 5, 5, 5, 5, 5, 5, 5, 5, 5, 5, 5, 5, 5, 5, 5, 5, 5, 5, 5, 5, 5, 5, 5, 5, 5, 5, 5, 5, 5, 5, 5, 5, 5, 5, 5, 5, 2, 5, 5, 5, 5, 5, 2, 5, 1, 2, 5, 5, 5, 5, 5, 5, 5, 2, 5, 5, 5, 5, 5, 5, 5, 5, 5, 5, 5, 5, 5, 2, 5, 5, 5, 5, 5, 2, 5, 5, 5, 5, 5, 5, 2, 5, 5, 2, 5, 5, 5, 5, 2, 5, 2, 5, 5, 5, 2, 2, 5, 5, 5, 5, 5, 5, 5, 5, 5, 5, 5, 5, 5, 5, 5, 5, 5, 5, 5, 2, 5, 5, 5, 5, 5, 5, 2, 5, 5, 5, 2, 5, 5, 5, 5, 5, 5, 5, 5, 5, 5, 5, 5, 5, 5, 5, 5, 5, 5, 5, 2, 5, 5, 5, 5, 5, 5, 5, 5, 5, 5, 5, 5, 2, 5, 5, 5, 5, 2, 5, 5, 5, 5, 5, 5, 5, 2, 5, 5, 5, 2, 5, 2, 2, 2, 2, 5, 5, 5, 5, 5, 5, 5, 5, 5, 5, 5, 5, 5, 5, 5, 5, 5, 2, 2, 5, 5, 2, 2, 5, 5, 5, 5, 5, 5, 5, 5, 5, 5, 2, 5, 5, 5, 5, 5, 5, 5, 5, 5, 5, 5, 5, 5, 5, 5, 5, 5, 5, 5, 5, 5, 5, 1, 5, 5, 2, 2, 2, 5, 5, 5, 5, 5, 5, 5, 5, 5, 5, 5, 2, 5, 5, 5, 5, 5, 5, 5, 5, 5, 5, 5, 5, 2, 5, 5, 5, 5, 5, 5, 5, 5, 2, 5, 2, 5, 5, 2, 5, 5, 5, 5, 5, 2, 5, 2, 2, 2, 5, 2, 5, 5, 5, 5, 5, 5, 5, 5, 5, 5, 5, 5, 5, 5, 5, 5, 5, 5, 5, 5, 5, 5, 5, 5, 5, 5, 2, 5, 2, 5, 5, 5, 2, 5, 5, 5, 5, 5, 5, 5, 5, 5, 5, 5, 5, 2, 5, 5, 5, 5, 5, 5, 2, 2, 5, 5, 5, 5, 5, 5, 5, 5, 5, 5, 5, 5, 2, 5, 5, 5, 5, 5, 5, 5, 5, 5, 5, 2, 2, 5, 5, 2, 5, 5, 5, 5, 5, 5, 5, 2, 5, 5, 5, 5, 5, 5, 5, 2, 2, 5, 5, 5, 2, 5, 5, 5, 5, 5, 5, 5, 5, 5, 5, 5, 5, 5, 5, 5, 5, 2, 5, 5, 5, 5, 5, 2, 5, 5, 5, 5, 5, 5, 5, 5, 2, 5, 5, 5, 5, 5, 2, 5, 5, 5, 5, 5, 5, 5, 5, 2, 5, 5, 5, 5, 5, 5, 5, 5, 5, 2, 5, 5, 5, 5, 5, 5, 5, 5, 5, 5, 2, 2, 2, 5, 5, 5, 5, 5, 5, 5, 5, 5, 5, 5, 5, 5, 2, 5, 5, 5, 5, 5, 2, 5, 5, 2, 5, 5, 5, 5, 5, 5, 5, 2, 5, 5, 5, 5, 5, 5, 5, 2, 5, 5, 2, 5, 5, 5, 5, 5, 5, 5, 2, 5, 5, 5, 2, 5, 5, 5, 5, 5, 5, 5, 5, 5, 5, 5, 5, 5, 5, 5, 2, 2, 2, 5, 2, 5, 5, 5, 5, 5, 5, 2, 5, 5, 2, 5, 5, 2, 5, 5, 5, 5, 5, 5, 5, 5, 5, 5, 5, 5, 5, 5, 5, 5, 5, 5, 5, 5, 5, 5, 5, 5, 5, 2, 2, 5, 5, 5, 5, 2, 5, 5, 5, 5, 5, 5, 5, 5, 5, 5, 5, 5, 5, 5, 5, 5, 5, 5, 5, 5, 5, 2, 5, 5, 2, 5, 5, 5, 2, 5, 5, 5, 5, 5, 2, 5, 2, 5, 5, 5, 5, 5, 5, 5, 5, 5, 2, 5, 5, 5, 5, 5, 5, 5, 5, 5, 5, 5, 5, 5, 5, 5, 5, 5, 5, 5, 5, 5, 5, 5, 5, 5, 5, 5, 5, 2, 5, 5, 5, 5, 5, 5, 5, 5, 2, 5, 2, 5, 5, 5, 5, 5, 5, 5, 5, 5, 5, 5, 2, 5, 5, 2, 2, 5, 5, 5, 2, 5, 5, 5, 5, 2, 5, 5, 5, 5, 5, 2, 5, 2, 5, 5, 5, 5, 5, 5, 5, 2, 2, 5, 5, 5, 5, 5, 2, 5, 5, 5, 5, 5, 5, 5, 5, 5, 5, 5, 2, 2, 5, 5, 2, 5, 5, 2, 5, 5, 5, 2, 5, 2, 5, 5, 5, 2, 2, 5, 2, 2, 5, 5, 2, 5, 5, 5, 5, 5, 5, 2, 2, 5, 5, 5, 5, 2, 5, 2, 5, 5, 5, 2, 5, 5, 5, 5, 5, 5, 2, 5, 5, 5, 2, 2, 5, 5, 5, 5, 5, 5, 5, 5, 5, 5, 5, 5, 2, 5, 5, 5, 2, 5, 5, 5, 5, 5, 2, 5, 5, 5, 5, 5, 5, 5, 5, 5, 2, 5, 5, 5, 5, 5, 5, 5, 5, 5, 5, 5, 2, 5, 2, 5, 5, 5, 5, 2, 5, 5, 5, 5, 5, 2, 5, 5, 5, 5, 2, 5, 5, 5, 5, 2, 5, 5, 2, 5, 5, 5, 5, 5, 5, 2, 5, 5, 2, 2, 2, 5, 5, 5, 5, 5, 5, 5, 5, 5, 2, 5, 5, 2, 5, 5, 5, 5, 5, 5, 5, 5, 5, 5, 5, 5, 2, 2, 5, 5, 5, 5, 5, 5, 5, 5, 5, 2, 5, 5, 5, 5, 2, 2, 5, 5, 5, 5, 5, 5, 5, 5, 1, 5, 5, 2, 5, 5, 5, 5, 5, 2, 5, 5, 5, 5, 5, 5, 5, 5, 5, 5, 5, 5, 5, 5, 5, 5, 5, 5, 5, 5, 2, 5, 5, 2, 5, 5, 5, 5, 5, 5, 5, 2, 5, 2, 5, 5, 2, 5, 2, 5, 5, 5, 5, 5, 5, 5, 5, 5, 5, 5, 5, 5, 5, 5, 5, 5, 5, 5, 5, 5, 5, 5, 5, 2, 5, 5, 5, 5, 5, 5, 5, 5, 5, 5, 5, 5, 5, 5, 5, 2, 5, 5, 5, 5, 5, 5, 5, 5, 5, 5, 2, 5, 5, 5, 5, 5, 5, 1, 5, 5, 5, 5, 2, 5, 5, 5, 5, 5, 5, 2, 5, 5, 5, 5, 5, 5, 2, 5, 5, 5, 5, 2, 5, 1, 5, 5, 5, 5, 2, 5, 5, 5, 5, 5, 5, 5, 5, 5, 5, 1, 2, 1, 5, 5, 5, 5, 5, 5, 2, 5, 2, 5, 5, 5, 5, 5, 5, 5, 5, 5, 5, 5, 5, 5, 2, 2, 2, 5, 5, 5, 2, 5, 5, 5, 5, 2, 5, 5, 5, 5, 5, 5, 5, 5, 5, 5, 5, 5, 5, 5, 5, 5, 5, 5, 5, 5, 5, 5, 5, 2, 5, 5, 2, 5, 5, 5, 5, 5, 5, 5, 5, 5, 5, 5, 5, 5, 5, 5, 5, 5, 5, 5, 5, 5, 5, 5, 5, 5, 5, 5, 5, 5, 5, 5, 5, 5, 5, 5, 5, 5, 5, 5, 5, 2, 5, 5, 5, 5, 5, 2, 2, 2, 5, 5, 5, 5, 5, 5, 2, 5, 5, 5, 5, 5, 5, 5, 5, 5, 5, 5, 5, 5, 5, 5, 5, 5, 5, 5, 4, 5, 5, 5, 5, 5, 5, 2, 5, 5, 5, 5, 5, 5, 5, 5, 5, 5, 5, 5, 5, 2, 5, 5, 2, 5, 5, 5, 5, 5, 5, 5, 5, 5, 5, 5, 2, 5, 5, 5, 5, 5, 5, 5, 5, 5, 5, 5, 5, 5, 1, 5, 5, 5, 5, 5, 2, 5, 5, 5, 5, 5, 2, 5, 5, 5, 5, 5, 5, 5, 5, 5, 5, 5, 5, 5, 5, 5, 5, 5, 5, 5, 5, 5, 5, 5, 5, 5, 2, 5, 5, 5, 2, 5, 2, 5, 5, 5, 5, 5, 5, 5, 5, 5, 5, 1, 5, 5, 5, 5, 5, 5, 5, 5, 5, 5, 5, 5, 5, 5, 5, 5, 5, 5, 5, 5, 5, 5, 5, 5, 5, 5, 5, 5, 5, 5, 2, 5, 5, 2, 5, 2, 5, 5, 2, 5, 5, 5, 5, 5, 5, 5, 2, 5, 5, 5, 2, 5, 5, 5, 2, 5, 5, 5, 5, 5, 5, 5, 5, 5, 5, 2, 2, 5, 5, 5, 5, 5, 5, 5, 5, 5, 5, 5, 5, 5, 5, 2, 5, 5, 5, 5, 5, 5, 5, 5, 5, 5, 5, 5, 5, 5, 5, 5, 5, 5, 5, 5, 5, 5, 5, 5, 5, 5, 5, 5, 5, 2, 5, 5, 5, 5, 5, 5, 5, 5, 5, 5, 5, 5, 2, 5, 5, 5, 5, 5, 5, 5, 5, 5, 5, 5, 5, 5, 5, 5, 5, 5, 5, 2, 5, 5, 5, 5, 5, 2, 5, 5, 5, 1, 5, 5, 5, 5, 5, 5, 5, 2, 5, 5, 5, 5, 5, 5, 5, 2, 2, 2, 5, 5, 5, 2, 5, 5, 5, 5, 5, 5, 2, 2, 5, 5, 5, 2, 5, 5, 5, 2, 5, 5, 5, 5, 5, 2, 5, 5, 5, 2, 5, 5, 5, 2, 5, 2, 5, 5, 5, 5, 5, 5, 5, 5, 5, 5, 5, 5, 2, 5, 5, 5, 5, 2, 5, 5, 2, 5, 5, 5, 5, 5, 2, 5, 1, 5, 5, 5, 5, 5, 5, 5, 5, 5, 5, 5, 5, 2, 5, 5, 5, 5, 5, 5, 5, 5, 5, 5, 2, 5, 5, 5, 5, 5, 5, 5, 5, 5, 2, 5, 5, 5, 5, 5, 5, 5, 5, 5, 5, 5, 5, 2, 5, 5, 5, 5, 2, 5, 2, 5, 5, 5, 5, 5, 5, 5, 5, 5, 5, 5, 2, 5, 5, 5, 5, 2, 5, 5, 2, 5, 5, 5, 5, 5, 5, 5, 5, 5, 5, 5, 5, 5, 5]\n",
            "[5, 1, 2, 2, 5, 5, 5, 5, 5, 2, 5, 5, 5, 5, 5, 5, 5, 5, 5, 5, 5, 5, 5, 5, 5, 5, 5, 5, 5, 5, 5, 5, 2, 5, 2, 2, 2, 5, 2, 5, 5, 5, 5, 5, 5, 2, 5, 5, 5, 5, 5, 5, 5, 5, 5, 5, 2, 2, 5, 5, 5, 5, 2, 5, 4, 1, 5, 5, 5, 5, 5, 5, 1, 5, 2, 5, 5, 5, 5, 5, 5, 5, 5, 2, 5, 5, 5, 4, 5, 5, 5, 5, 2, 5, 5, 5, 5, 5, 5, 5, 5, 5, 5, 5, 5, 5, 5, 5, 5, 5, 5, 1, 5, 5, 1, 5, 5, 5, 5, 5, 5, 5, 5, 5, 5, 5, 5, 5, 5, 5, 5, 5, 2, 5, 5, 5, 5, 5, 5, 5, 4, 5, 5, 5, 5, 2, 5, 5, 5, 5, 5, 5, 5, 5, 5, 5, 5, 5, 5, 2, 5, 5, 5, 2, 2, 5, 5, 4, 0, 2, 5, 5, 5, 5, 5, 5, 5, 5, 2, 5, 5, 5, 0, 5, 5, 5, 5, 2, 5, 4, 5, 5, 2, 5, 5, 5, 5, 5, 5, 6, 5, 5, 5, 5, 5, 5, 5, 5, 5, 5, 5, 5, 5, 5, 5, 2, 5, 5, 5, 5, 5, 5, 5, 5, 5, 5, 5, 2, 5, 5, 5, 5, 5, 5, 2, 2, 5, 5, 5, 5, 5, 5, 5, 5, 5, 5, 5, 5, 2, 5, 5, 5, 5, 5, 5, 5, 5, 5, 5, 2, 5, 2, 5, 5, 2, 5, 5, 5, 5, 0, 5, 5, 5, 1, 5, 5, 5, 4, 5, 5, 5, 5, 5, 5, 5, 5, 6, 5, 5, 5, 5, 5, 5, 5, 0, 5, 5, 5, 5, 5, 5, 5, 5, 5, 2, 5, 5, 5, 5, 5, 5, 5, 5, 5, 5, 2, 2, 5, 5, 5, 5, 5, 5, 2, 1, 5, 5, 5, 2, 2, 5, 5, 5, 1, 5, 5, 5, 5, 5, 5, 2, 5, 5, 5, 5, 2, 5, 5, 5, 5, 5, 5, 2, 5, 5, 5, 0, 5, 5, 5, 4, 5, 2, 5, 5, 5, 5, 2, 6, 5, 5, 5, 2, 5, 5, 5, 5, 5, 5, 5, 5, 6, 5, 5, 5, 5, 5, 5, 5, 5, 5, 5, 5, 5, 5, 5, 5, 5, 5, 2, 5, 5, 5, 5, 5, 2, 5, 2, 1, 5, 5, 5, 5, 5, 5, 5, 5, 5, 5, 5, 5, 5, 5, 5, 5, 5, 5, 5, 5, 5, 2, 5, 5, 5, 5, 5, 1, 5, 5, 5, 5, 5, 5, 2, 5, 5, 2, 5, 5, 6, 5, 2, 0, 2, 5, 5, 5, 5, 5, 5, 5, 5, 5, 5, 5, 5, 5, 5, 5, 5, 5, 5, 5, 5, 5, 5, 2, 5, 2, 5, 5, 5, 5, 5, 5, 2, 5, 5, 5, 5, 5, 5, 5, 5, 5, 5, 5, 5, 5, 5, 5, 5, 5, 5, 4, 5, 5, 5, 5, 2, 5, 5, 5, 5, 2, 5, 5, 5, 5, 5, 5, 5, 2, 5, 5, 5, 5, 0, 5, 4, 5, 5, 5, 5, 5, 2, 5, 5, 5, 5, 5, 1, 2, 2, 5, 5, 5, 2, 5, 5, 2, 5, 5, 5, 5, 5, 1, 5, 5, 5, 2, 5, 2, 2, 5, 5, 5, 1, 5, 5, 5, 5, 5, 2, 1, 5, 5, 5, 5, 5, 5, 5, 5, 2, 5, 5, 5, 5, 5, 5, 5, 5, 5, 5, 5, 5, 5, 5, 5, 5, 0, 1, 5, 5, 2, 2, 2, 5, 5, 5, 5, 5, 5, 5, 5, 5, 5, 5, 5, 5, 5, 5, 5, 5, 5, 5, 5, 5, 5, 5, 5, 1, 5, 5, 5, 5, 5, 5, 5, 5, 1, 5, 5, 5, 5, 2, 5, 5, 5, 5, 5, 1, 2, 1, 1, 2, 5, 2, 5, 5, 5, 2, 5, 5, 5, 5, 5, 5, 5, 5, 5, 5, 5, 5, 5, 5, 5, 5, 5, 5, 5, 5, 5, 5, 2, 5, 1, 5, 5, 5, 2, 5, 5, 5, 1, 5, 5, 5, 5, 5, 5, 5, 1, 0, 5, 2, 5, 5, 5, 5, 2, 1, 5, 5, 5, 5, 5, 5, 5, 5, 5, 5, 5, 5, 5, 5, 5, 5, 5, 5, 5, 5, 5, 5, 5, 2, 2, 5, 5, 1, 5, 5, 5, 5, 5, 5, 5, 1, 5, 5, 5, 5, 5, 5, 5, 5, 2, 6, 5, 5, 5, 4, 2, 5, 5, 5, 5, 5, 5, 5, 5, 5, 5, 5, 5, 5, 5, 2, 5, 5, 5, 5, 5, 2, 5, 5, 5, 5, 5, 2, 5, 5, 1, 5, 5, 5, 5, 6, 2, 5, 2, 5, 5, 5, 5, 2, 5, 0, 5, 5, 5, 5, 5, 5, 5, 5, 5, 2, 5, 5, 1, 5, 5, 2, 5, 5, 4, 5, 2, 2, 5, 5, 5, 5, 5, 5, 5, 5, 5, 5, 5, 5, 5, 5, 2, 5, 5, 5, 5, 5, 2, 5, 5, 2, 5, 5, 5, 5, 5, 5, 5, 1, 5, 5, 5, 5, 5, 5, 5, 2, 5, 5, 2, 5, 5, 1, 5, 5, 5, 5, 1, 5, 5, 5, 1, 5, 5, 5, 5, 5, 5, 5, 5, 5, 5, 5, 5, 5, 5, 5, 2, 2, 5, 5, 5, 5, 5, 5, 5, 5, 5, 2, 5, 2, 1, 5, 5, 2, 5, 5, 5, 5, 5, 5, 5, 5, 5, 5, 5, 5, 5, 5, 5, 5, 5, 5, 5, 5, 5, 5, 5, 5, 5, 2, 0, 5, 5, 5, 5, 2, 5, 5, 5, 5, 5, 5, 5, 5, 5, 5, 5, 5, 5, 5, 5, 5, 5, 5, 5, 5, 5, 1, 5, 5, 1, 5, 5, 5, 2, 5, 5, 5, 5, 5, 2, 5, 2, 0, 5, 5, 5, 5, 5, 5, 5, 5, 2, 5, 5, 5, 5, 5, 5, 4, 5, 5, 5, 5, 5, 5, 5, 5, 5, 5, 5, 5, 5, 5, 5, 5, 5, 1, 5, 5, 5, 1, 5, 5, 5, 5, 5, 5, 5, 5, 1, 5, 2, 5, 5, 5, 5, 5, 5, 5, 5, 5, 5, 5, 2, 5, 5, 2, 2, 5, 5, 5, 4, 5, 5, 5, 4, 0, 5, 5, 5, 5, 5, 0, 5, 6, 5, 5, 5, 5, 5, 5, 5, 5, 5, 5, 2, 5, 5, 5, 1, 5, 5, 5, 5, 6, 5, 5, 5, 5, 5, 5, 5, 0, 5, 5, 1, 5, 5, 1, 5, 2, 5, 2, 5, 1, 5, 5, 5, 2, 5, 5, 2, 2, 5, 5, 2, 5, 2, 5, 5, 5, 5, 1, 2, 5, 5, 5, 5, 5, 5, 5, 5, 5, 5, 1, 5, 5, 5, 5, 5, 5, 2, 5, 5, 5, 5, 5, 5, 5, 5, 5, 5, 5, 5, 5, 5, 5, 5, 5, 2, 5, 5, 5, 2, 5, 5, 5, 5, 5, 2, 5, 5, 5, 5, 5, 5, 5, 5, 5, 1, 5, 4, 5, 5, 5, 5, 5, 5, 5, 5, 5, 2, 5, 0, 5, 5, 5, 5, 1, 5, 5, 5, 5, 5, 2, 5, 5, 5, 5, 1, 5, 5, 5, 5, 2, 5, 5, 2, 2, 5, 5, 5, 5, 5, 5, 5, 5, 2, 2, 2, 5, 5, 5, 5, 5, 5, 5, 5, 5, 2, 5, 2, 1, 5, 5, 5, 5, 5, 5, 5, 5, 5, 5, 5, 5, 2, 2, 5, 5, 5, 5, 5, 5, 5, 5, 5, 1, 5, 5, 5, 4, 2, 1, 5, 5, 5, 5, 5, 5, 5, 5, 2, 5, 5, 2, 5, 5, 5, 5, 5, 5, 5, 5, 5, 5, 5, 5, 5, 5, 5, 5, 5, 5, 5, 5, 5, 5, 5, 5, 5, 5, 5, 5, 6, 5, 5, 5, 5, 5, 5, 5, 5, 6, 5, 2, 5, 5, 2, 6, 1, 5, 5, 5, 5, 5, 5, 5, 5, 5, 5, 5, 5, 5, 5, 5, 5, 5, 5, 5, 5, 5, 5, 5, 5, 2, 5, 5, 5, 5, 5, 5, 5, 5, 5, 5, 5, 5, 5, 5, 5, 1, 6, 5, 5, 5, 5, 5, 5, 5, 5, 5, 2, 5, 5, 5, 5, 5, 5, 1, 5, 5, 5, 5, 2, 5, 5, 5, 5, 5, 5, 4, 5, 5, 5, 5, 5, 5, 5, 5, 5, 5, 5, 5, 5, 1, 5, 5, 5, 5, 2, 5, 5, 5, 5, 5, 5, 5, 5, 5, 2, 2, 1, 2, 5, 5, 5, 4, 5, 5, 1, 5, 2, 5, 5, 5, 4, 5, 5, 5, 5, 5, 5, 5, 5, 5, 2, 2, 6, 5, 5, 5, 2, 5, 5, 5, 5, 2, 5, 5, 5, 5, 5, 5, 1, 5, 5, 5, 5, 5, 5, 5, 5, 5, 5, 5, 5, 5, 5, 5, 5, 1, 5, 5, 2, 5, 5, 5, 5, 5, 5, 5, 5, 5, 5, 5, 5, 5, 5, 5, 5, 5, 5, 5, 5, 5, 5, 5, 5, 5, 5, 5, 5, 5, 5, 2, 5, 4, 6, 5, 5, 5, 5, 5, 5, 5, 5, 5, 5, 5, 5, 2, 5, 2, 5, 5, 5, 5, 5, 5, 1, 5, 5, 5, 2, 5, 5, 5, 5, 5, 5, 5, 5, 5, 5, 5, 5, 5, 5, 5, 4, 5, 5, 5, 5, 5, 5, 2, 5, 5, 5, 5, 5, 5, 4, 5, 5, 5, 5, 5, 5, 2, 5, 5, 2, 5, 5, 5, 5, 5, 5, 5, 5, 5, 5, 5, 2, 5, 5, 5, 5, 2, 5, 5, 5, 5, 5, 5, 5, 5, 1, 5, 4, 5, 5, 5, 0, 5, 5, 5, 5, 5, 1, 5, 5, 5, 5, 5, 5, 5, 5, 5, 5, 5, 5, 5, 5, 5, 5, 5, 5, 5, 5, 5, 5, 5, 5, 5, 2, 5, 5, 5, 2, 2, 5, 5, 5, 5, 5, 5, 5, 5, 5, 5, 5, 1, 5, 5, 5, 5, 5, 2, 5, 5, 5, 5, 5, 5, 5, 5, 5, 2, 5, 5, 1, 5, 5, 4, 5, 5, 5, 5, 5, 5, 5, 5, 1, 5, 5, 1, 5, 2, 5, 5, 6, 5, 5, 5, 5, 5, 5, 5, 0, 5, 5, 5, 2, 5, 5, 5, 2, 5, 5, 5, 5, 5, 5, 5, 5, 5, 5, 2, 5, 5, 5, 5, 5, 5, 5, 2, 5, 5, 5, 5, 5, 5, 5, 2, 5, 5, 5, 5, 5, 5, 5, 5, 5, 5, 5, 5, 5, 5, 5, 5, 5, 5, 5, 5, 5, 5, 6, 5, 5, 5, 5, 5, 5, 0, 5, 5, 5, 5, 5, 5, 5, 5, 5, 5, 5, 5, 2, 5, 5, 5, 5, 5, 5, 5, 5, 5, 5, 5, 5, 5, 5, 2, 5, 5, 5, 2, 5, 5, 5, 5, 5, 0, 5, 5, 5, 1, 5, 5, 5, 5, 5, 5, 5, 2, 5, 5, 2, 4, 5, 5, 5, 5, 5, 2, 5, 5, 5, 1, 5, 5, 5, 2, 5, 5, 2, 6, 5, 5, 5, 2, 5, 5, 5, 2, 5, 5, 5, 5, 5, 5, 5, 5, 5, 5, 5, 5, 1, 2, 5, 0, 5, 5, 5, 5, 5, 5, 5, 5, 5, 5, 5, 5, 2, 5, 5, 5, 5, 1, 5, 5, 2, 5, 2, 5, 5, 5, 2, 5, 2, 5, 5, 5, 5, 5, 5, 2, 5, 5, 2, 5, 5, 2, 5, 5, 5, 5, 4, 2, 5, 5, 5, 5, 5, 5, 5, 5, 5, 5, 5, 5, 5, 5, 2, 5, 5, 5, 4, 5, 5, 5, 5, 5, 5, 5, 6, 2, 5, 5, 5, 5, 1, 5, 2, 5, 5, 5, 5, 5, 5, 5, 5, 5, 5, 5, 2, 5, 5, 5, 5, 5, 5, 5, 2, 5, 1, 5, 5, 5, 5, 5, 5, 5, 5, 5, 5, 5, 5]\n",
            "[5, 2, 2, 2, 5, 5, 5, 5, 5, 2, 5, 5, 5, 5, 5, 5, 5, 5, 5, 5, 5, 5, 5, 5, 5, 5, 5, 5, 5, 5, 5, 5, 2, 5, 2, 2, 2, 5, 2, 5, 5, 5, 5, 5, 5, 2, 5, 5, 5, 5, 5, 5, 5, 5, 5, 5, 2, 2, 5, 5, 5, 5, 2, 5, 5, 5, 5, 5, 5, 5, 5, 5, 1, 5, 2, 5, 5, 5, 5, 5, 5, 5, 5, 2, 5, 5, 5, 5, 5, 5, 5, 5, 2, 5, 5, 5, 5, 5, 5, 5, 5, 5, 5, 5, 5, 5, 5, 5, 5, 5, 5, 1, 5, 5, 1, 5, 5, 5, 5, 5, 5, 5, 5, 5, 5, 5, 5, 5, 5, 5, 5, 5, 2, 5, 5, 5, 5, 5, 5, 5, 5, 5, 5, 5, 5, 2, 5, 5, 5, 5, 5, 5, 5, 5, 5, 5, 5, 5, 2, 2, 5, 5, 5, 5, 2, 5, 5, 5, 2, 2, 5, 5, 5, 5, 5, 5, 5, 5, 5, 5, 5, 5, 5, 5, 5, 5, 5, 2, 5, 4, 5, 5, 5, 5, 5, 5, 5, 5, 5, 5, 5, 5, 5, 5, 5, 5, 5, 5, 5, 5, 5, 5, 5, 5, 5, 2, 5, 5, 5, 5, 5, 5, 5, 5, 5, 5, 5, 2, 5, 5, 5, 5, 5, 5, 2, 5, 5, 2, 5, 5, 5, 5, 5, 5, 5, 5, 5, 5, 2, 5, 5, 5, 5, 5, 5, 5, 5, 5, 5, 2, 5, 2, 5, 5, 2, 5, 5, 5, 5, 2, 5, 5, 5, 4, 5, 5, 5, 5, 5, 5, 5, 2, 5, 5, 5, 5, 5, 5, 5, 5, 5, 5, 5, 1, 2, 5, 5, 5, 5, 5, 5, 5, 5, 5, 2, 5, 5, 5, 5, 5, 5, 5, 2, 5, 5, 2, 2, 5, 5, 5, 5, 5, 5, 2, 1, 5, 5, 5, 2, 2, 5, 5, 5, 1, 5, 5, 5, 5, 5, 5, 2, 5, 5, 5, 5, 2, 5, 5, 5, 5, 5, 5, 2, 5, 5, 5, 2, 5, 5, 5, 5, 5, 2, 5, 5, 5, 5, 2, 5, 5, 5, 5, 2, 5, 5, 5, 5, 5, 5, 5, 5, 4, 5, 5, 5, 5, 5, 5, 5, 5, 5, 5, 5, 5, 5, 5, 5, 5, 5, 2, 2, 5, 5, 5, 5, 2, 5, 2, 1, 5, 5, 1, 5, 5, 5, 5, 5, 5, 5, 5, 5, 5, 5, 5, 5, 5, 5, 5, 1, 5, 2, 5, 5, 5, 5, 5, 5, 5, 5, 5, 5, 5, 5, 2, 5, 5, 2, 5, 5, 5, 5, 2, 5, 2, 5, 5, 5, 5, 2, 5, 5, 5, 5, 5, 5, 5, 5, 5, 5, 5, 5, 5, 5, 5, 5, 5, 2, 5, 2, 5, 5, 5, 5, 5, 5, 2, 5, 5, 5, 5, 5, 5, 5, 5, 5, 5, 5, 5, 5, 5, 5, 5, 5, 5, 5, 5, 5, 5, 5, 2, 5, 5, 5, 5, 5, 5, 5, 5, 5, 5, 1, 5, 2, 5, 5, 5, 5, 2, 5, 4, 5, 5, 5, 5, 5, 2, 5, 5, 5, 2, 5, 1, 2, 2, 5, 5, 5, 2, 5, 5, 2, 5, 5, 5, 5, 5, 2, 5, 5, 5, 2, 5, 2, 2, 5, 5, 5, 1, 5, 5, 5, 5, 5, 2, 5, 5, 5, 5, 5, 5, 5, 5, 5, 5, 5, 5, 5, 5, 5, 5, 5, 5, 5, 5, 5, 5, 5, 5, 5, 5, 5, 1, 5, 5, 2, 2, 2, 5, 5, 5, 5, 5, 5, 5, 5, 5, 5, 5, 2, 5, 5, 5, 5, 5, 5, 5, 5, 5, 5, 5, 5, 1, 5, 5, 5, 5, 5, 5, 5, 5, 2, 5, 5, 5, 5, 2, 5, 5, 5, 5, 5, 1, 2, 2, 2, 1, 5, 2, 5, 5, 5, 5, 5, 5, 5, 5, 5, 5, 5, 5, 5, 5, 5, 5, 5, 5, 5, 5, 5, 5, 5, 5, 5, 5, 1, 5, 1, 5, 5, 5, 2, 2, 5, 5, 1, 5, 5, 5, 5, 5, 5, 5, 2, 5, 5, 2, 5, 5, 5, 5, 2, 2, 5, 5, 5, 5, 5, 5, 5, 5, 5, 5, 5, 5, 4, 5, 5, 5, 5, 5, 5, 5, 5, 5, 5, 2, 2, 5, 5, 2, 5, 5, 5, 5, 5, 5, 5, 2, 5, 5, 5, 5, 5, 5, 5, 1, 2, 5, 5, 5, 5, 5, 5, 5, 5, 5, 5, 5, 5, 5, 5, 5, 5, 5, 5, 5, 5, 5, 5, 5, 5, 5, 5, 2, 5, 5, 5, 5, 5, 2, 5, 5, 1, 5, 5, 5, 5, 5, 2, 5, 2, 5, 5, 5, 5, 2, 5, 1, 5, 5, 5, 5, 5, 5, 5, 5, 5, 2, 5, 5, 5, 5, 5, 2, 5, 5, 4, 5, 2, 2, 1, 5, 5, 5, 5, 5, 5, 5, 5, 5, 5, 5, 5, 5, 2, 5, 5, 5, 5, 5, 2, 5, 5, 2, 5, 5, 5, 5, 5, 5, 5, 1, 5, 5, 5, 5, 5, 5, 5, 2, 5, 5, 2, 5, 5, 1, 5, 5, 5, 5, 1, 5, 5, 5, 2, 2, 5, 5, 5, 5, 5, 5, 5, 5, 5, 5, 5, 5, 5, 5, 2, 2, 2, 5, 5, 5, 5, 5, 5, 5, 5, 2, 5, 5, 1, 5, 5, 5, 5, 5, 5, 5, 5, 5, 5, 5, 5, 5, 5, 5, 5, 5, 5, 5, 5, 5, 5, 5, 5, 5, 5, 5, 5, 2, 2, 5, 5, 5, 5, 2, 5, 5, 5, 5, 5, 5, 5, 5, 5, 5, 5, 5, 5, 5, 5, 5, 5, 5, 5, 5, 5, 2, 5, 5, 5, 5, 5, 5, 2, 5, 5, 5, 5, 5, 2, 5, 2, 5, 5, 5, 5, 5, 5, 5, 5, 5, 2, 5, 5, 5, 5, 5, 5, 5, 5, 5, 5, 5, 5, 5, 5, 5, 5, 5, 5, 5, 5, 5, 5, 5, 5, 2, 5, 5, 5, 5, 5, 5, 5, 5, 5, 5, 5, 5, 1, 5, 2, 5, 5, 5, 5, 5, 1, 5, 5, 5, 5, 5, 2, 5, 5, 2, 2, 5, 5, 5, 5, 5, 5, 5, 5, 5, 5, 5, 5, 5, 5, 0, 5, 5, 5, 5, 5, 5, 5, 5, 5, 5, 2, 5, 2, 5, 5, 5, 2, 5, 5, 5, 5, 5, 5, 5, 5, 5, 5, 5, 2, 5, 5, 5, 1, 5, 5, 2, 5, 5, 5, 2, 5, 2, 5, 5, 5, 2, 2, 5, 2, 5, 5, 5, 2, 5, 5, 5, 5, 5, 5, 1, 2, 5, 5, 5, 5, 5, 5, 5, 5, 5, 5, 5, 5, 5, 5, 5, 5, 5, 2, 5, 5, 5, 5, 2, 5, 5, 5, 5, 5, 5, 5, 5, 5, 5, 5, 5, 2, 5, 5, 5, 2, 5, 5, 5, 5, 5, 2, 5, 5, 5, 5, 5, 5, 5, 5, 5, 1, 5, 5, 5, 5, 5, 5, 2, 5, 5, 5, 5, 2, 5, 1, 5, 5, 5, 5, 1, 1, 5, 5, 5, 5, 2, 5, 5, 5, 5, 1, 5, 5, 5, 5, 2, 5, 5, 1, 2, 5, 5, 5, 5, 5, 5, 5, 5, 2, 2, 2, 5, 5, 5, 5, 5, 2, 5, 5, 5, 2, 5, 2, 1, 5, 5, 5, 5, 5, 5, 5, 5, 5, 5, 5, 5, 2, 2, 5, 5, 5, 5, 5, 5, 5, 5, 5, 1, 5, 5, 5, 4, 2, 5, 5, 5, 5, 5, 5, 5, 5, 5, 2, 5, 5, 2, 5, 5, 5, 5, 5, 5, 5, 5, 5, 5, 5, 5, 5, 5, 5, 5, 5, 5, 5, 5, 5, 5, 5, 5, 5, 5, 2, 5, 5, 2, 5, 5, 5, 5, 5, 5, 5, 1, 5, 2, 5, 5, 2, 5, 2, 5, 5, 5, 5, 5, 5, 5, 5, 5, 5, 5, 5, 5, 5, 5, 5, 5, 5, 5, 5, 5, 5, 5, 5, 2, 5, 5, 5, 5, 5, 5, 5, 5, 5, 5, 5, 5, 5, 5, 5, 1, 5, 5, 5, 5, 5, 5, 5, 5, 5, 5, 2, 5, 5, 5, 5, 5, 5, 2, 5, 5, 5, 5, 2, 5, 5, 5, 5, 5, 5, 2, 5, 5, 5, 5, 5, 5, 5, 5, 5, 5, 5, 5, 5, 2, 5, 5, 5, 5, 2, 5, 5, 5, 5, 5, 5, 5, 5, 5, 5, 2, 2, 2, 5, 5, 5, 2, 5, 5, 2, 5, 2, 5, 5, 5, 5, 5, 5, 5, 5, 5, 5, 5, 5, 2, 2, 2, 5, 5, 5, 5, 2, 5, 5, 5, 5, 2, 5, 5, 5, 5, 5, 5, 1, 5, 5, 5, 5, 5, 5, 5, 5, 5, 5, 5, 5, 5, 5, 5, 5, 1, 5, 5, 2, 5, 5, 5, 5, 5, 5, 5, 5, 5, 5, 5, 5, 5, 5, 5, 5, 5, 5, 5, 5, 5, 5, 5, 5, 5, 5, 5, 5, 5, 5, 5, 5, 2, 5, 5, 5, 5, 5, 5, 5, 5, 5, 5, 5, 5, 5, 5, 5, 2, 5, 5, 5, 5, 5, 5, 2, 5, 5, 5, 5, 5, 5, 5, 5, 5, 5, 5, 5, 5, 5, 5, 5, 5, 5, 5, 4, 5, 5, 5, 5, 5, 5, 2, 5, 5, 2, 5, 5, 5, 5, 5, 5, 5, 5, 5, 5, 2, 5, 5, 2, 5, 5, 5, 5, 5, 5, 5, 5, 2, 5, 5, 2, 5, 5, 5, 5, 2, 5, 5, 5, 5, 5, 5, 5, 5, 1, 5, 5, 5, 5, 5, 0, 5, 5, 5, 5, 5, 2, 5, 5, 5, 5, 5, 5, 5, 5, 5, 5, 5, 2, 5, 5, 5, 5, 5, 5, 5, 5, 5, 5, 5, 5, 5, 2, 5, 5, 5, 2, 2, 5, 5, 5, 5, 5, 5, 5, 5, 5, 5, 5, 5, 5, 5, 5, 5, 5, 2, 5, 5, 5, 5, 5, 5, 5, 5, 5, 2, 5, 5, 1, 5, 5, 5, 5, 5, 5, 5, 5, 5, 5, 5, 1, 5, 5, 1, 5, 2, 5, 5, 1, 5, 5, 5, 5, 5, 5, 5, 1, 5, 5, 5, 2, 5, 5, 5, 2, 5, 1, 5, 5, 5, 5, 5, 5, 5, 5, 2, 5, 5, 5, 5, 5, 5, 5, 2, 5, 5, 5, 5, 5, 5, 5, 2, 5, 5, 5, 5, 5, 5, 5, 5, 5, 5, 5, 5, 5, 5, 5, 5, 5, 5, 5, 5, 5, 5, 1, 5, 5, 5, 5, 5, 5, 0, 5, 5, 5, 5, 5, 5, 5, 5, 5, 5, 5, 5, 2, 2, 5, 5, 5, 5, 5, 5, 5, 5, 5, 4, 5, 5, 5, 2, 5, 5, 5, 2, 5, 5, 5, 5, 5, 5, 5, 5, 5, 1, 5, 5, 5, 5, 5, 5, 5, 2, 5, 5, 2, 5, 5, 5, 5, 5, 5, 5, 5, 5, 5, 2, 5, 5, 5, 5, 5, 5, 2, 5, 5, 5, 5, 2, 5, 5, 5, 2, 5, 5, 5, 5, 5, 2, 5, 5, 5, 2, 5, 5, 1, 2, 5, 2, 5, 5, 5, 5, 5, 5, 5, 5, 2, 5, 5, 5, 2, 5, 5, 5, 5, 2, 5, 5, 2, 5, 2, 5, 5, 5, 2, 5, 1, 5, 5, 5, 5, 5, 5, 2, 5, 5, 5, 5, 5, 1, 5, 5, 5, 5, 5, 5, 5, 5, 5, 5, 2, 5, 5, 5, 5, 5, 5, 5, 5, 5, 1, 5, 5, 5, 5, 5, 5, 5, 5, 5, 5, 5, 5, 2, 5, 5, 5, 5, 1, 5, 2, 5, 5, 2, 5, 5, 5, 5, 5, 5, 5, 5, 2, 5, 5, 5, 5, 5, 5, 4, 2, 5, 5, 5, 5, 5, 5, 5, 5, 5, 5, 5, 5, 5, 5]\n",
            "[5, 1, 2, 2, 5, 5, 5, 5, 5, 2, 5, 5, 2, 5, 5, 5, 5, 5, 5, 5, 5, 5, 5, 5, 5, 5, 5, 5, 5, 1, 5, 5, 2, 5, 2, 2, 2, 5, 2, 1, 5, 5, 5, 5, 5, 5, 5, 5, 5, 5, 5, 5, 5, 5, 4, 5, 2, 2, 5, 5, 5, 5, 2, 5, 5, 5, 5, 5, 5, 5, 5, 5, 1, 5, 2, 5, 5, 5, 5, 5, 5, 5, 5, 1, 5, 5, 5, 5, 5, 5, 5, 5, 2, 5, 5, 5, 5, 5, 5, 5, 5, 5, 5, 5, 5, 5, 5, 5, 5, 5, 5, 1, 5, 5, 1, 5, 5, 5, 5, 5, 5, 5, 5, 5, 5, 5, 5, 5, 5, 5, 5, 5, 2, 5, 5, 5, 5, 5, 5, 5, 4, 5, 5, 5, 5, 2, 5, 5, 5, 5, 5, 5, 5, 5, 5, 5, 5, 5, 2, 2, 5, 5, 5, 2, 2, 5, 5, 5, 5, 1, 5, 5, 5, 5, 5, 5, 5, 5, 2, 5, 5, 5, 5, 5, 5, 5, 5, 1, 5, 4, 5, 5, 2, 5, 5, 5, 5, 5, 5, 1, 5, 5, 1, 5, 5, 5, 5, 5, 5, 5, 5, 5, 5, 5, 1, 5, 5, 5, 5, 5, 5, 5, 5, 5, 5, 5, 5, 2, 5, 5, 5, 5, 5, 5, 2, 5, 5, 5, 5, 5, 5, 5, 5, 5, 5, 5, 5, 5, 2, 5, 5, 5, 5, 5, 5, 5, 5, 5, 5, 2, 5, 2, 5, 5, 2, 5, 5, 5, 5, 5, 5, 5, 5, 5, 5, 5, 5, 5, 5, 5, 5, 5, 5, 5, 5, 5, 5, 5, 5, 5, 5, 5, 5, 1, 2, 5, 5, 5, 5, 5, 5, 5, 5, 5, 2, 5, 5, 5, 5, 5, 5, 5, 2, 5, 5, 5, 2, 5, 5, 5, 5, 2, 5, 2, 1, 5, 5, 5, 2, 2, 5, 5, 5, 1, 5, 5, 5, 5, 5, 5, 2, 5, 5, 5, 5, 2, 5, 5, 5, 5, 5, 5, 2, 5, 5, 5, 2, 5, 5, 5, 4, 5, 1, 5, 5, 5, 5, 5, 6, 5, 6, 5, 2, 5, 5, 5, 5, 5, 5, 5, 5, 6, 5, 5, 5, 5, 5, 5, 5, 1, 5, 5, 5, 5, 5, 5, 5, 5, 5, 2, 5, 5, 5, 5, 5, 1, 5, 2, 1, 5, 5, 1, 5, 5, 5, 5, 5, 5, 5, 5, 5, 5, 5, 5, 5, 5, 5, 5, 5, 5, 1, 5, 5, 5, 5, 5, 1, 5, 5, 5, 5, 5, 5, 2, 5, 5, 2, 5, 5, 6, 5, 1, 5, 1, 5, 5, 5, 5, 5, 5, 5, 5, 5, 5, 5, 5, 5, 5, 5, 5, 5, 5, 5, 5, 5, 5, 2, 5, 2, 5, 5, 5, 5, 5, 5, 2, 5, 5, 5, 5, 5, 5, 5, 5, 5, 5, 5, 5, 5, 5, 5, 5, 5, 5, 4, 5, 5, 5, 5, 1, 5, 5, 5, 5, 5, 5, 5, 5, 5, 5, 5, 5, 5, 5, 5, 5, 5, 5, 5, 4, 5, 5, 5, 5, 5, 2, 5, 5, 5, 1, 5, 1, 2, 2, 5, 5, 5, 5, 5, 5, 2, 5, 5, 5, 5, 5, 5, 5, 5, 5, 2, 5, 2, 2, 5, 5, 5, 1, 5, 5, 5, 5, 5, 2, 5, 5, 5, 5, 1, 5, 5, 5, 5, 2, 5, 5, 1, 5, 5, 5, 5, 5, 5, 5, 5, 5, 5, 5, 5, 5, 5, 1, 5, 5, 2, 1, 2, 5, 5, 5, 5, 5, 5, 5, 5, 5, 5, 5, 5, 5, 5, 5, 5, 5, 5, 5, 5, 5, 5, 5, 5, 1, 5, 5, 5, 5, 5, 5, 5, 5, 1, 5, 1, 5, 5, 1, 5, 5, 5, 5, 5, 1, 5, 1, 1, 2, 5, 2, 5, 5, 5, 5, 5, 5, 5, 5, 5, 5, 5, 5, 5, 5, 5, 5, 6, 5, 5, 5, 5, 5, 5, 5, 5, 5, 1, 5, 1, 5, 5, 5, 1, 5, 5, 5, 1, 5, 5, 5, 5, 5, 5, 5, 1, 0, 5, 2, 5, 5, 5, 5, 1, 1, 5, 5, 5, 5, 5, 5, 5, 5, 5, 5, 5, 5, 4, 5, 5, 5, 5, 5, 5, 5, 5, 5, 5, 1, 1, 5, 5, 1, 5, 5, 5, 5, 5, 5, 5, 1, 5, 5, 5, 5, 5, 5, 5, 1, 2, 5, 5, 5, 5, 5, 5, 5, 5, 5, 5, 5, 5, 5, 5, 5, 5, 5, 5, 5, 5, 5, 5, 5, 5, 5, 5, 2, 5, 5, 5, 5, 5, 5, 5, 5, 1, 5, 5, 5, 5, 5, 2, 5, 5, 5, 5, 5, 5, 2, 5, 0, 5, 5, 5, 5, 5, 5, 5, 5, 5, 5, 5, 5, 1, 5, 5, 1, 5, 5, 4, 5, 1, 2, 5, 5, 5, 5, 5, 5, 5, 5, 5, 5, 5, 5, 5, 5, 5, 5, 5, 5, 5, 5, 2, 5, 5, 5, 5, 5, 5, 5, 5, 5, 5, 1, 5, 5, 5, 5, 5, 5, 5, 2, 5, 5, 2, 5, 5, 1, 5, 5, 5, 5, 1, 5, 5, 5, 1, 5, 5, 5, 5, 5, 5, 5, 5, 5, 5, 5, 5, 5, 5, 5, 2, 2, 5, 5, 5, 5, 5, 5, 5, 5, 5, 2, 5, 5, 1, 5, 5, 2, 5, 5, 5, 5, 5, 5, 5, 5, 5, 5, 5, 5, 5, 5, 5, 5, 5, 5, 5, 5, 5, 5, 5, 5, 5, 2, 1, 5, 5, 5, 5, 5, 5, 5, 5, 5, 5, 5, 5, 5, 5, 5, 5, 5, 5, 5, 5, 5, 5, 5, 5, 5, 5, 1, 5, 5, 1, 5, 5, 5, 2, 5, 5, 5, 5, 5, 2, 5, 2, 5, 5, 5, 5, 5, 5, 5, 5, 5, 2, 5, 5, 5, 5, 5, 1, 4, 5, 5, 5, 5, 5, 5, 5, 5, 5, 5, 5, 5, 5, 5, 5, 5, 5, 1, 5, 5, 5, 5, 5, 5, 5, 5, 5, 5, 5, 5, 1, 5, 1, 5, 5, 5, 5, 5, 5, 5, 5, 5, 5, 5, 2, 5, 5, 2, 2, 5, 5, 5, 5, 5, 5, 5, 5, 1, 5, 5, 5, 5, 5, 5, 5, 6, 5, 5, 5, 5, 5, 5, 5, 5, 5, 5, 2, 5, 5, 5, 1, 5, 5, 5, 5, 5, 5, 5, 5, 5, 5, 5, 5, 1, 5, 5, 1, 5, 5, 1, 5, 2, 5, 5, 5, 1, 5, 5, 5, 2, 5, 5, 2, 5, 5, 5, 2, 5, 5, 5, 5, 5, 5, 1, 2, 5, 5, 5, 5, 4, 5, 1, 5, 5, 5, 5, 5, 5, 5, 5, 5, 5, 2, 5, 5, 5, 2, 5, 5, 5, 5, 5, 5, 5, 5, 5, 5, 5, 5, 5, 2, 5, 5, 5, 2, 5, 5, 5, 5, 5, 2, 5, 5, 5, 5, 5, 5, 5, 5, 5, 1, 5, 5, 5, 5, 5, 5, 1, 5, 5, 5, 5, 1, 5, 0, 5, 5, 5, 5, 1, 5, 5, 5, 5, 5, 2, 5, 5, 5, 5, 1, 5, 5, 5, 5, 2, 5, 5, 5, 5, 5, 5, 5, 5, 5, 1, 5, 5, 1, 2, 5, 5, 5, 6, 5, 5, 5, 5, 5, 5, 2, 5, 5, 1, 5, 5, 5, 5, 5, 5, 5, 5, 5, 5, 5, 5, 2, 2, 5, 5, 5, 5, 5, 5, 5, 5, 5, 1, 5, 5, 5, 4, 1, 1, 5, 5, 5, 5, 5, 5, 5, 5, 1, 5, 5, 2, 5, 5, 5, 5, 5, 5, 5, 5, 5, 5, 5, 5, 5, 5, 5, 5, 5, 5, 5, 5, 5, 5, 5, 5, 5, 5, 5, 5, 5, 5, 5, 5, 5, 5, 5, 5, 5, 1, 5, 2, 5, 5, 2, 1, 1, 5, 1, 5, 5, 5, 5, 5, 5, 5, 5, 5, 5, 5, 5, 5, 5, 5, 5, 5, 5, 5, 5, 5, 5, 2, 5, 5, 5, 5, 5, 1, 5, 5, 5, 5, 5, 5, 5, 5, 5, 5, 1, 5, 5, 5, 5, 5, 5, 5, 5, 5, 2, 5, 5, 5, 5, 5, 5, 1, 5, 5, 5, 5, 2, 5, 5, 5, 5, 5, 5, 1, 5, 5, 5, 5, 5, 5, 5, 5, 5, 5, 5, 1, 5, 1, 5, 5, 5, 5, 2, 5, 4, 5, 5, 5, 5, 5, 5, 5, 5, 2, 1, 5, 5, 5, 5, 2, 5, 5, 1, 5, 2, 5, 5, 5, 4, 4, 5, 5, 5, 5, 5, 5, 1, 5, 2, 2, 5, 5, 5, 5, 2, 5, 5, 5, 5, 2, 5, 5, 5, 5, 5, 5, 1, 5, 5, 5, 5, 5, 5, 5, 5, 5, 5, 5, 5, 5, 2, 5, 5, 1, 5, 5, 2, 5, 5, 5, 5, 5, 5, 5, 5, 5, 5, 5, 5, 5, 5, 5, 5, 5, 5, 5, 5, 5, 5, 5, 5, 5, 5, 5, 5, 5, 5, 5, 5, 1, 6, 5, 5, 5, 5, 5, 5, 4, 5, 5, 5, 5, 5, 5, 5, 2, 5, 5, 5, 5, 5, 5, 1, 5, 5, 5, 2, 5, 5, 5, 5, 5, 5, 5, 5, 5, 5, 5, 5, 5, 5, 5, 5, 5, 5, 5, 5, 5, 5, 2, 5, 5, 5, 5, 5, 5, 5, 5, 5, 5, 5, 5, 5, 2, 5, 5, 1, 5, 5, 5, 5, 5, 5, 5, 5, 5, 5, 5, 2, 5, 5, 5, 5, 2, 5, 1, 5, 5, 5, 5, 5, 4, 1, 5, 5, 5, 5, 5, 1, 5, 5, 5, 5, 5, 1, 5, 5, 5, 5, 5, 5, 5, 5, 5, 5, 5, 5, 5, 5, 5, 5, 5, 5, 5, 5, 5, 5, 5, 5, 5, 2, 5, 5, 5, 2, 5, 5, 5, 5, 5, 5, 5, 5, 5, 5, 5, 5, 1, 5, 5, 5, 5, 5, 2, 5, 5, 5, 5, 5, 5, 5, 5, 5, 5, 5, 5, 1, 5, 5, 5, 5, 5, 5, 5, 5, 5, 5, 5, 1, 5, 5, 1, 5, 2, 5, 5, 1, 5, 5, 5, 5, 5, 5, 5, 1, 5, 5, 5, 2, 5, 5, 5, 2, 5, 1, 5, 5, 5, 5, 5, 5, 5, 5, 2, 5, 5, 5, 5, 5, 5, 5, 5, 5, 5, 5, 5, 5, 5, 5, 2, 5, 5, 5, 5, 5, 5, 5, 5, 5, 5, 5, 5, 5, 5, 5, 5, 5, 5, 5, 5, 5, 5, 6, 5, 5, 5, 5, 5, 5, 5, 5, 5, 5, 5, 5, 5, 5, 5, 5, 5, 5, 5, 5, 5, 5, 5, 5, 5, 5, 5, 5, 5, 5, 4, 5, 5, 5, 2, 5, 5, 5, 2, 5, 5, 5, 5, 5, 5, 5, 5, 5, 1, 5, 5, 5, 5, 5, 5, 5, 2, 5, 5, 2, 5, 5, 5, 5, 5, 4, 5, 5, 5, 5, 1, 5, 5, 5, 5, 5, 5, 2, 5, 5, 5, 5, 2, 5, 5, 4, 5, 5, 5, 5, 5, 5, 2, 5, 5, 5, 5, 5, 5, 1, 2, 5, 2, 5, 5, 5, 5, 5, 5, 5, 5, 5, 5, 5, 5, 2, 5, 4, 5, 5, 1, 5, 5, 2, 5, 5, 5, 5, 5, 2, 5, 1, 5, 5, 5, 5, 5, 5, 5, 5, 5, 5, 5, 5, 5, 5, 5, 5, 5, 5, 2, 5, 5, 5, 5, 1, 5, 5, 5, 5, 5, 5, 5, 5, 5, 2, 5, 2, 5, 5, 5, 5, 5, 5, 5, 5, 5, 6, 2, 5, 5, 5, 5, 1, 5, 1, 5, 5, 5, 5, 5, 5, 5, 5, 5, 5, 5, 2, 5, 1, 5, 5, 5, 5, 4, 2, 5, 1, 5, 5, 5, 5, 5, 5, 5, 5, 1, 5, 5, 5]\n"
          ]
        }
      ]
    },
    {
      "cell_type": "code",
      "source": [
        "def accuracy_metric(actual, predicted):\n",
        "\tcorrect = 0\n",
        "\tfor i in range(len(actual)):\n",
        "\t\tif actual[i] == predicted[i]:\n",
        "\t\t\tcorrect += 1\n",
        "\treturn correct / float(len(actual)) * 100.0"
      ],
      "metadata": {
        "id": "20HzBOoQqvuX"
      },
      "execution_count": null,
      "outputs": []
    },
    {
      "cell_type": "code",
      "source": [
        "y_test_og = data['test_labels']\n",
        "accuracy_metric(yt,p1)"
      ],
      "metadata": {
        "colab": {
          "base_uri": "https://localhost:8080/"
        },
        "id": "2cp1udEDqxTK",
        "outputId": "6feed45c-54d4-47cd-8f36-9c9689e89728"
      },
      "execution_count": null,
      "outputs": [
        {
          "output_type": "execute_result",
          "data": {
            "text/plain": [
              "71.47132169576061"
            ]
          },
          "metadata": {},
          "execution_count": 94
        }
      ]
    },
    {
      "cell_type": "code",
      "source": [
        "accuracy_metric(yt,p2)"
      ],
      "metadata": {
        "colab": {
          "base_uri": "https://localhost:8080/"
        },
        "id": "vLPMGygssemn",
        "outputId": "ba392e08-4517-4a41-cbe0-4e4c541a6e23"
      },
      "execution_count": null,
      "outputs": [
        {
          "output_type": "execute_result",
          "data": {
            "text/plain": [
              "70.07481296758104"
            ]
          },
          "metadata": {},
          "execution_count": 95
        }
      ]
    },
    {
      "cell_type": "code",
      "source": [
        "accuracy_metric(yt,p3)"
      ],
      "metadata": {
        "colab": {
          "base_uri": "https://localhost:8080/"
        },
        "id": "iwEfP9sLshJS",
        "outputId": "485d9ee1-a762-4bae-8c50-4ab1a88f65c5"
      },
      "execution_count": null,
      "outputs": [
        {
          "output_type": "execute_result",
          "data": {
            "text/plain": [
              "71.6209476309227"
            ]
          },
          "metadata": {},
          "execution_count": 96
        }
      ]
    },
    {
      "cell_type": "code",
      "source": [
        "accuracy_metric(yt,p4)"
      ],
      "metadata": {
        "colab": {
          "base_uri": "https://localhost:8080/"
        },
        "id": "M9fn7NFrFBK3",
        "outputId": "fd06cc17-3562-4d57-b136-ebe75c30a759"
      },
      "execution_count": null,
      "outputs": [
        {
          "output_type": "execute_result",
          "data": {
            "text/plain": [
              "69.32668329177058"
            ]
          },
          "metadata": {},
          "execution_count": 97
        }
      ]
    },
    {
      "cell_type": "code",
      "source": [
        "accuracy_metric(yt,p5)"
      ],
      "metadata": {
        "colab": {
          "base_uri": "https://localhost:8080/"
        },
        "id": "vPicBPuPFEQw",
        "outputId": "3520cc8d-f07e-4e7f-d890-40bda265446e"
      },
      "execution_count": null,
      "outputs": [
        {
          "output_type": "execute_result",
          "data": {
            "text/plain": [
              "71.7206982543641"
            ]
          },
          "metadata": {},
          "execution_count": 98
        }
      ]
    },
    {
      "cell_type": "code",
      "source": [
        "accuracy_metric(yt,p6)"
      ],
      "metadata": {
        "colab": {
          "base_uri": "https://localhost:8080/"
        },
        "id": "D3gXprlythcz",
        "outputId": "cc358344-bd65-4651-aa19-dddba78c4733"
      },
      "execution_count": null,
      "outputs": [
        {
          "output_type": "execute_result",
          "data": {
            "text/plain": [
              "70.02493765586036"
            ]
          },
          "metadata": {},
          "execution_count": 99
        }
      ]
    },
    {
      "cell_type": "code",
      "source": [
        "accuracy_metric(yt,p7)"
      ],
      "metadata": {
        "colab": {
          "base_uri": "https://localhost:8080/"
        },
        "id": "-R9daYuEthFU",
        "outputId": "03685a42-0034-4d65-ed5c-1619a4521169"
      },
      "execution_count": null,
      "outputs": [
        {
          "output_type": "execute_result",
          "data": {
            "text/plain": [
              "71.77057356608478"
            ]
          },
          "metadata": {},
          "execution_count": 100
        }
      ]
    },
    {
      "cell_type": "code",
      "source": [
        "from collections import Counter"
      ],
      "metadata": {
        "id": "nOx92LPjtu1m"
      },
      "execution_count": null,
      "outputs": []
    },
    {
      "cell_type": "code",
      "source": [
        "def ensemble_clf(arr1,arr2,arr3,arr4,arr5,arr6,arr7):\n",
        "  lst = []\n",
        "  for i in range(0,len(p1)):\n",
        "    g = [arr1[i],arr2[i],arr3[i],arr4[i],arr5[i],arr6[i],arr7[i]]\n",
        "    counts = Counter(g)\n",
        "    majority = counts.most_common()\n",
        "    lst.append(majority[0][0])\n",
        "  return lst\n"
      ],
      "metadata": {
        "id": "7a-CUPT_s_aQ"
      },
      "execution_count": null,
      "outputs": []
    },
    {
      "cell_type": "code",
      "source": [
        "final_prediction = ensemble_clf(p1,p2,p3,p4,p5,p6,p7)"
      ],
      "metadata": {
        "id": "_GAlN_0QuRmO"
      },
      "execution_count": null,
      "outputs": []
    },
    {
      "cell_type": "code",
      "source": [
        "final_prediction = np.array(final_prediction)\n",
        "print(final_prediction)"
      ],
      "metadata": {
        "colab": {
          "base_uri": "https://localhost:8080/"
        },
        "id": "t7LNcQAAFZS2",
        "outputId": "2b8baff4-e0b3-4e8f-c28d-68e524c72bdd"
      },
      "execution_count": null,
      "outputs": [
        {
          "output_type": "stream",
          "name": "stdout",
          "text": [
            "[5 1 2 ... 5 5 5]\n"
          ]
        }
      ]
    },
    {
      "cell_type": "code",
      "source": [
        "accuracy_metric(y_test_og,final_prediction)"
      ],
      "metadata": {
        "colab": {
          "base_uri": "https://localhost:8080/"
        },
        "id": "5MSYzTaxzu-i",
        "outputId": "586a9708-ba29-4c1d-9d9c-e9c80c1e249f"
      },
      "execution_count": null,
      "outputs": [
        {
          "output_type": "execute_result",
          "data": {
            "text/plain": [
              "71.92019950124688"
            ]
          },
          "metadata": {},
          "execution_count": 105
        }
      ]
    },
    {
      "cell_type": "code",
      "source": [
        "report_ensemble = classification_report(yt, final_prediction)\n",
        "print(report_ensemble)"
      ],
      "metadata": {
        "colab": {
          "base_uri": "https://localhost:8080/"
        },
        "id": "EirLBs7_pW8V",
        "outputId": "1473131f-5c3c-4245-e7e7-d18fa4ac9b1e"
      },
      "execution_count": null,
      "outputs": [
        {
          "output_type": "stream",
          "name": "stdout",
          "text": [
            "              precision    recall  f1-score   support\n",
            "\n",
            "           0       0.71      0.08      0.14        66\n",
            "           1       0.46      0.31      0.37       103\n",
            "           2       0.45      0.41      0.43       220\n",
            "           3       0.00      0.00      0.00        23\n",
            "           4       0.60      0.03      0.05       223\n",
            "           5       0.76      0.97      0.85      1341\n",
            "           6       0.80      0.28      0.41        29\n",
            "\n",
            "    accuracy                           0.72      2005\n",
            "   macro avg       0.54      0.30      0.32      2005\n",
            "weighted avg       0.68      0.72      0.65      2005\n",
            "\n"
          ]
        },
        {
          "output_type": "stream",
          "name": "stderr",
          "text": [
            "/usr/local/lib/python3.7/dist-packages/sklearn/metrics/_classification.py:1318: UndefinedMetricWarning: Precision and F-score are ill-defined and being set to 0.0 in labels with no predicted samples. Use `zero_division` parameter to control this behavior.\n",
            "  _warn_prf(average, modifier, msg_start, len(result))\n",
            "/usr/local/lib/python3.7/dist-packages/sklearn/metrics/_classification.py:1318: UndefinedMetricWarning: Precision and F-score are ill-defined and being set to 0.0 in labels with no predicted samples. Use `zero_division` parameter to control this behavior.\n",
            "  _warn_prf(average, modifier, msg_start, len(result))\n",
            "/usr/local/lib/python3.7/dist-packages/sklearn/metrics/_classification.py:1318: UndefinedMetricWarning: Precision and F-score are ill-defined and being set to 0.0 in labels with no predicted samples. Use `zero_division` parameter to control this behavior.\n",
            "  _warn_prf(average, modifier, msg_start, len(result))\n"
          ]
        }
      ]
    },
    {
      "cell_type": "code",
      "source": [
        "from sklearn.metrics import confusion_matrix\n",
        "\n",
        "#Generate the confusion matrix\n",
        "cf_matrix = confusion_matrix(yt, final_prediction)\n",
        "\n",
        "print(cf_matrix)"
      ],
      "metadata": {
        "colab": {
          "base_uri": "https://localhost:8080/"
        },
        "id": "jcMV5t4JG4Jp",
        "outputId": "96d0fb05-f16e-4be6-a61f-8c6c371fbc59"
      },
      "execution_count": null,
      "outputs": [
        {
          "output_type": "stream",
          "name": "stdout",
          "text": [
            "[[   5   16   19    0    1   24    1]\n",
            " [   0   32   22    0    0   48    1]\n",
            " [   2    4   91    0    1  122    0]\n",
            " [   0    7    6    0    0   10    0]\n",
            " [   0    2   30    0    6  185    0]\n",
            " [   0    5   34    0    2 1300    0]\n",
            " [   0    4    2    0    0   15    8]]\n"
          ]
        }
      ]
    },
    {
      "cell_type": "code",
      "source": [
        "cf_matrix = confusion_matrix(yt, final_prediction)\n",
        "\n",
        "plt.figure(figsize=(6,5))\n",
        "sns.heatmap(cf_matrix, annot=True,cmap=\"Blues\")\n",
        "plt.title('Confusion Matrix')\n",
        "plt.ylabel('Actal Values')\n",
        "plt.xlabel('Predicted Values')\n",
        "plt.show()"
      ],
      "metadata": {
        "colab": {
          "base_uri": "https://localhost:8080/",
          "height": 350
        },
        "id": "NXF_cp14HqB8",
        "outputId": "c1a2c2ad-b2da-4f47-e263-506e7650da78"
      },
      "execution_count": null,
      "outputs": [
        {
          "output_type": "display_data",
          "data": {
            "text/plain": [
              "<Figure size 432x360 with 2 Axes>"
            ],
            "image/png": "[encoded data removed]"
          },
          "metadata": {
            "needs_background": "light"
          }
        }
      ]
    },
    {
      "cell_type": "code",
      "source": [],
      "metadata": {
        "id": "_nh383Anr6D8"
      },
      "execution_count": null,
      "outputs": []
    },
    {
      "cell_type": "code",
      "source": [],
      "metadata": {
        "id": "T4qn0U1zr6Zk"
      },
      "execution_count": null,
      "outputs": []
    },
    {
      "cell_type": "code",
      "source": [],
      "metadata": {
        "id": "8tKcwNdSuOGb"
      },
      "execution_count": null,
      "outputs": []
    },
    {
      "cell_type": "code",
      "source": [],
      "metadata": {
        "id": "9TwyH2n9k3x2"
      },
      "execution_count": null,
      "outputs": []
    }
  ]
}